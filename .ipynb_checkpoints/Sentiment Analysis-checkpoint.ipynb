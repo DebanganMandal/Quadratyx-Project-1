{
 "cells": [
  {
   "cell_type": "code",
   "execution_count": 131,
   "id": "f0f5275b",
   "metadata": {},
   "outputs": [],
   "source": [
    "import numpy as np\n",
    "import pandas as pd\n",
    "import matplotlib.pyplot as plt\n",
    "import seaborn as sns\n",
    "import string\n",
    "import nltk\n",
    "from nltk.corpus import stopwords\n",
    "from nltk.tokenize import word_tokenize\n",
    "from nltk.stem import PorterStemmer\n",
    "from nltk.stem import WordNetLemmatizer\n",
    "from sklearn.feature_extraction.text import CountVectorizer\n",
    "from sklearn.feature_extraction.text import TfidfVectorizer\n",
    "from sklearn.model_selection import train_test_split\n",
    "from sklearn.svm import LinearSVC\n",
    "from sklearn.ensemble import RandomForestClassifier, BaggingClassifier\n",
    "from sklearn.linear_model import SGDClassifier\n",
    "from sklearn.metrics import accuracy_score,classification_report\n",
    "from sklearn.metrics import confusion_matrix\n",
    "from pretty_confusion_matrix import pp_matrix"
   ]
  },
  {
   "cell_type": "code",
   "execution_count": 2,
   "id": "8ac61384",
   "metadata": {},
   "outputs": [],
   "source": [
    "reviews_dataset = pd.read_csv('SentimentReviews.csv')"
   ]
  },
  {
   "cell_type": "code",
   "execution_count": 3,
   "id": "26bec48c",
   "metadata": {},
   "outputs": [
    {
     "data": {
      "text/html": [
       "<div>\n",
       "<style scoped>\n",
       "    .dataframe tbody tr th:only-of-type {\n",
       "        vertical-align: middle;\n",
       "    }\n",
       "\n",
       "    .dataframe tbody tr th {\n",
       "        vertical-align: top;\n",
       "    }\n",
       "\n",
       "    .dataframe thead th {\n",
       "        text-align: right;\n",
       "    }\n",
       "</style>\n",
       "<table border=\"1\" class=\"dataframe\">\n",
       "  <thead>\n",
       "    <tr style=\"text-align: right;\">\n",
       "      <th></th>\n",
       "      <th>Unnamed: 0</th>\n",
       "      <th>brand</th>\n",
       "      <th>categories</th>\n",
       "      <th>manufacturer</th>\n",
       "      <th>reviews.rating</th>\n",
       "      <th>reviews.text</th>\n",
       "      <th>label</th>\n",
       "      <th>reviews.text_reduce</th>\n",
       "    </tr>\n",
       "  </thead>\n",
       "  <tbody>\n",
       "    <tr>\n",
       "      <th>0</th>\n",
       "      <td>0</td>\n",
       "      <td>Universal Music</td>\n",
       "      <td>Movies, Music &amp; Books,Music,R&amp;b,Movies &amp; TV,Mo...</td>\n",
       "      <td>Universal Music Group / Cash Money</td>\n",
       "      <td>5</td>\n",
       "      <td>i love this album. it's very good. more to the...</td>\n",
       "      <td>positive</td>\n",
       "      <td>i love this album. it's very good. more to the...</td>\n",
       "    </tr>\n",
       "    <tr>\n",
       "      <th>1</th>\n",
       "      <td>1</td>\n",
       "      <td>Lundberg</td>\n",
       "      <td>Food,Packaged Foods,Snacks,Crackers,Snacks, Co...</td>\n",
       "      <td>Lundberg</td>\n",
       "      <td>5</td>\n",
       "      <td>Good flavor. This review was collected as part...</td>\n",
       "      <td>positive</td>\n",
       "      <td>Good flavor. This review was collected as part...</td>\n",
       "    </tr>\n",
       "    <tr>\n",
       "      <th>2</th>\n",
       "      <td>2</td>\n",
       "      <td>Lundberg</td>\n",
       "      <td>Food,Packaged Foods,Snacks,Crackers,Snacks, Co...</td>\n",
       "      <td>Lundberg</td>\n",
       "      <td>5</td>\n",
       "      <td>Good flavor.</td>\n",
       "      <td>positive</td>\n",
       "      <td>Good flavor.</td>\n",
       "    </tr>\n",
       "    <tr>\n",
       "      <th>3</th>\n",
       "      <td>3</td>\n",
       "      <td>K-Y</td>\n",
       "      <td>Personal Care,Medicine Cabinet,Lubricant/Sperm...</td>\n",
       "      <td>K-Y</td>\n",
       "      <td>1</td>\n",
       "      <td>I read through the reviews on here before look...</td>\n",
       "      <td>negative</td>\n",
       "      <td>I read through the reviews on here before look...</td>\n",
       "    </tr>\n",
       "    <tr>\n",
       "      <th>4</th>\n",
       "      <td>4</td>\n",
       "      <td>K-Y</td>\n",
       "      <td>Personal Care,Medicine Cabinet,Lubricant/Sperm...</td>\n",
       "      <td>K-Y</td>\n",
       "      <td>1</td>\n",
       "      <td>My husband bought this gel for us. The gel cau...</td>\n",
       "      <td>negative</td>\n",
       "      <td>My husband bought this gel for us. The gel cau...</td>\n",
       "    </tr>\n",
       "  </tbody>\n",
       "</table>\n",
       "</div>"
      ],
      "text/plain": [
       "   Unnamed: 0            brand  \\\n",
       "0           0  Universal Music   \n",
       "1           1         Lundberg   \n",
       "2           2         Lundberg   \n",
       "3           3              K-Y   \n",
       "4           4              K-Y   \n",
       "\n",
       "                                          categories  \\\n",
       "0  Movies, Music & Books,Music,R&b,Movies & TV,Mo...   \n",
       "1  Food,Packaged Foods,Snacks,Crackers,Snacks, Co...   \n",
       "2  Food,Packaged Foods,Snacks,Crackers,Snacks, Co...   \n",
       "3  Personal Care,Medicine Cabinet,Lubricant/Sperm...   \n",
       "4  Personal Care,Medicine Cabinet,Lubricant/Sperm...   \n",
       "\n",
       "                         manufacturer  reviews.rating  \\\n",
       "0  Universal Music Group / Cash Money               5   \n",
       "1                            Lundberg               5   \n",
       "2                            Lundberg               5   \n",
       "3                                 K-Y               1   \n",
       "4                                 K-Y               1   \n",
       "\n",
       "                                        reviews.text     label  \\\n",
       "0  i love this album. it's very good. more to the...  positive   \n",
       "1  Good flavor. This review was collected as part...  positive   \n",
       "2                                       Good flavor.  positive   \n",
       "3  I read through the reviews on here before look...  negative   \n",
       "4  My husband bought this gel for us. The gel cau...  negative   \n",
       "\n",
       "                                 reviews.text_reduce  \n",
       "0  i love this album. it's very good. more to the...  \n",
       "1  Good flavor. This review was collected as part...  \n",
       "2                                       Good flavor.  \n",
       "3  I read through the reviews on here before look...  \n",
       "4  My husband bought this gel for us. The gel cau...  "
      ]
     },
     "execution_count": 3,
     "metadata": {},
     "output_type": "execute_result"
    }
   ],
   "source": [
    "reviews_dataset.head()"
   ]
  },
  {
   "cell_type": "code",
   "execution_count": 4,
   "id": "3a7e189c",
   "metadata": {},
   "outputs": [
    {
     "data": {
      "text/plain": [
       "<AxesSubplot:>"
      ]
     },
     "execution_count": 4,
     "metadata": {},
     "output_type": "execute_result"
    },
    {
     "data": {
      "image/png": "[encoded data removed]",
      "text/plain": [
       "<Figure size 432x288 with 1 Axes>"
      ]
     },
     "metadata": {
      "needs_background": "light"
     },
     "output_type": "display_data"
    }
   ],
   "source": [
    "rating = list(reviews_dataset['reviews.rating'].unique())\n",
    "count = list(reviews_dataset['reviews.rating'].value_counts())\n",
    "\n",
    "sns.barplot(x = rating, y = count)"
   ]
  },
  {
   "cell_type": "code",
   "execution_count": 5,
   "id": "11f90152",
   "metadata": {},
   "outputs": [],
   "source": [
    "reviews_dataset.drop(columns = ['Unnamed: 0', 'brand', 'manufacturer', 'categories', 'reviews.text'], inplace=True)"
   ]
  },
  {
   "cell_type": "code",
   "execution_count": 6,
   "id": "6d9b1fa2",
   "metadata": {},
   "outputs": [
    {
     "data": {
      "text/plain": [
       "reviews.rating         0\n",
       "label                  0\n",
       "reviews.text_reduce    0\n",
       "dtype: int64"
      ]
     },
     "execution_count": 6,
     "metadata": {},
     "output_type": "execute_result"
    }
   ],
   "source": [
    "reviews_dataset.isnull().sum()"
   ]
  },
  {
   "cell_type": "code",
   "execution_count": 7,
   "id": "59ed705a",
   "metadata": {},
   "outputs": [
    {
     "data": {
      "text/plain": [
       "<AxesSubplot:ylabel='label'>"
      ]
     },
     "execution_count": 7,
     "metadata": {},
     "output_type": "execute_result"
    },
    {
     "data": {
      "image/png": "[encoded data removed]",
      "text/plain": [
       "<Figure size 432x288 with 1 Axes>"
      ]
     },
     "metadata": {
      "needs_background": "light"
     },
     "output_type": "display_data"
    }
   ],
   "source": [
    "sns.barplot(x = ['Positive', 'Negative'], y = reviews_dataset['label'].value_counts())"
   ]
  },
  {
   "cell_type": "code",
   "execution_count": 8,
   "id": "e27a1d2c",
   "metadata": {},
   "outputs": [
    {
     "data": {
      "text/plain": [
       "array([\"i love this album. it's very good. more to the hip hop side than her current pop sound.. SO HYPE! i listen to this everyday at the gym! i give it 5star rating all the way. her metaphors are just crazy.\",\n",
       "       'Good flavor. This review was collected as part of a promotion.',\n",
       "       'Good flavor.', ..., 'Right price',\n",
       "       \"I was so pleased when this scarf arrived for multiple reasons. The print and colors are beautiful and will go many outfits, casual or dressy. The muslin texture of the scarf is so soft and the coverage I get while nursing is perfect. The scarf wraps around twice for regular wear so I just unwrap once and it's in the ideal nursing position already so it's easy to do while I'm holding my baby. A scarf nursing cover is the way to go now instead of the awkward covers with wire that still showed my whole back when I nursed my first child. And I LOVE that I can get something like this from Target! Very pleased.\",\n",
       "       'Excellent album, makes the holidays better, gives off a nice Christmas vibe.'],\n",
       "      dtype=object)"
      ]
     },
     "execution_count": 8,
     "metadata": {},
     "output_type": "execute_result"
    }
   ],
   "source": [
    "reviews_dataset['reviews.text_reduce'].values"
   ]
  },
  {
   "cell_type": "markdown",
   "id": "4c4e9162",
   "metadata": {},
   "source": [
    "Consider ratings provided wil be mapped as : 1: Very Urgent, 2: Urgent, 3: Less Urgent, 4: OK, 5: Happy"
   ]
  },
  {
   "cell_type": "code",
   "execution_count": 9,
   "id": "6ab459b4",
   "metadata": {},
   "outputs": [],
   "source": [
    "y_target = reviews_dataset['reviews.rating'].map({1:'Negative',2:'Negative',3:'OK',4:'Positive',5:'Positive'}) "
   ]
  },
  {
   "cell_type": "code",
   "execution_count": 10,
   "id": "2f607bca",
   "metadata": {},
   "outputs": [],
   "source": [
    "reviews_dataset['reviews.rating'] = y_target"
   ]
  },
  {
   "cell_type": "code",
   "execution_count": 11,
   "id": "870c3212",
   "metadata": {},
   "outputs": [
    {
     "data": {
      "text/html": [
       "<div>\n",
       "<style scoped>\n",
       "    .dataframe tbody tr th:only-of-type {\n",
       "        vertical-align: middle;\n",
       "    }\n",
       "\n",
       "    .dataframe tbody tr th {\n",
       "        vertical-align: top;\n",
       "    }\n",
       "\n",
       "    .dataframe thead th {\n",
       "        text-align: right;\n",
       "    }\n",
       "</style>\n",
       "<table border=\"1\" class=\"dataframe\">\n",
       "  <thead>\n",
       "    <tr style=\"text-align: right;\">\n",
       "      <th></th>\n",
       "      <th>reviews.rating</th>\n",
       "      <th>label</th>\n",
       "      <th>reviews.text_reduce</th>\n",
       "    </tr>\n",
       "  </thead>\n",
       "  <tbody>\n",
       "    <tr>\n",
       "      <th>0</th>\n",
       "      <td>Positive</td>\n",
       "      <td>positive</td>\n",
       "      <td>i love this album. it's very good. more to the...</td>\n",
       "    </tr>\n",
       "    <tr>\n",
       "      <th>1</th>\n",
       "      <td>Positive</td>\n",
       "      <td>positive</td>\n",
       "      <td>Good flavor. This review was collected as part...</td>\n",
       "    </tr>\n",
       "    <tr>\n",
       "      <th>2</th>\n",
       "      <td>Positive</td>\n",
       "      <td>positive</td>\n",
       "      <td>Good flavor.</td>\n",
       "    </tr>\n",
       "    <tr>\n",
       "      <th>3</th>\n",
       "      <td>Negative</td>\n",
       "      <td>negative</td>\n",
       "      <td>I read through the reviews on here before look...</td>\n",
       "    </tr>\n",
       "    <tr>\n",
       "      <th>4</th>\n",
       "      <td>Negative</td>\n",
       "      <td>negative</td>\n",
       "      <td>My husband bought this gel for us. The gel cau...</td>\n",
       "    </tr>\n",
       "  </tbody>\n",
       "</table>\n",
       "</div>"
      ],
      "text/plain": [
       "  reviews.rating     label                                reviews.text_reduce\n",
       "0       Positive  positive  i love this album. it's very good. more to the...\n",
       "1       Positive  positive  Good flavor. This review was collected as part...\n",
       "2       Positive  positive                                       Good flavor.\n",
       "3       Negative  negative  I read through the reviews on here before look...\n",
       "4       Negative  negative  My husband bought this gel for us. The gel cau..."
      ]
     },
     "execution_count": 11,
     "metadata": {},
     "output_type": "execute_result"
    }
   ],
   "source": [
    "reviews_dataset.head()"
   ]
  },
  {
   "cell_type": "code",
   "execution_count": 12,
   "id": "a74a4819",
   "metadata": {},
   "outputs": [],
   "source": [
    "reviews_dataset.drop(columns='label', inplace=True)"
   ]
  },
  {
   "cell_type": "code",
   "execution_count": 13,
   "id": "61b00e93",
   "metadata": {},
   "outputs": [],
   "source": [
    "data = reviews_dataset['reviews.text_reduce']\n",
    "train_data = []\n",
    "corpus = \"\"\n",
    "\n",
    "for sent in data:\n",
    "    train_data.append(sent.lower())"
   ]
  },
  {
   "cell_type": "code",
   "execution_count": 14,
   "id": "62e81cda",
   "metadata": {},
   "outputs": [],
   "source": [
    "stemmer = PorterStemmer()\n",
    "stop_words = list(stopwords.words('english'))\n",
    "voc = []\n",
    "tokens = []\n",
    "training = []\n",
    "rev = \"\"\n",
    "\n",
    "for reviews in train_data:\n",
    "    tok = word_tokenize(reviews)\n",
    "    rev = \"\"\n",
    "    for word in tok:\n",
    "        if word not in string.punctuation and word not in stop_words:\n",
    "            stemmed_word = stemmer.stem(word) \n",
    "            if len(stemmed_word) > 2:\n",
    "                rev += stemmed_word + \" \"\n",
    "                \n",
    "    training += [rev.rstrip()]"
   ]
  },
  {
   "cell_type": "code",
   "execution_count": null,
   "id": "397c7158",
   "metadata": {},
   "outputs": [],
   "source": []
  },
  {
   "cell_type": "code",
   "execution_count": null,
   "id": "68e79245",
   "metadata": {},
   "outputs": [],
   "source": []
  },
  {
   "cell_type": "code",
   "execution_count": null,
   "id": "6b17a7fb",
   "metadata": {},
   "outputs": [],
   "source": []
  },
  {
   "cell_type": "code",
   "execution_count": 15,
   "id": "d71fcd1a",
   "metadata": {},
   "outputs": [],
   "source": [
    "bow = CountVectorizer(stop_words='english')\n",
    "digram = CountVectorizer(ngram_range=(3,3), stop_words='english')\n",
    "tfidf = TfidfVectorizer(stop_words='english')"
   ]
  },
  {
   "cell_type": "code",
   "execution_count": 16,
   "id": "3fba457c",
   "metadata": {},
   "outputs": [],
   "source": [
    "bow_vocubulary = bow.fit_transform(training)\n",
    "digram_vocubulary = digram.fit_transform(training)"
   ]
  },
  {
   "cell_type": "code",
   "execution_count": 17,
   "id": "e16a1437",
   "metadata": {},
   "outputs": [],
   "source": [
    "tfidf_vocubulary = tfidf.fit_transform(training)"
   ]
  },
  {
   "cell_type": "code",
   "execution_count": 18,
   "id": "8e58baa7",
   "metadata": {},
   "outputs": [
    {
     "data": {
      "text/plain": [
       "(70867, 18863)"
      ]
     },
     "execution_count": 18,
     "metadata": {},
     "output_type": "execute_result"
    }
   ],
   "source": [
    "tfidf_vocubulary.shape"
   ]
  },
  {
   "cell_type": "code",
   "execution_count": 19,
   "id": "d685ba2b",
   "metadata": {},
   "outputs": [
    {
     "name": "stdout",
     "output_type": "stream",
     "text": [
      "(70867, 18863) and (70867, 735141)\n"
     ]
    }
   ],
   "source": [
    "print(f\"{bow_vocubulary.shape} and {digram_vocubulary.shape}\")"
   ]
  },
  {
   "cell_type": "code",
   "execution_count": 29,
   "id": "206c3709",
   "metadata": {},
   "outputs": [
    {
     "data": {
      "text/html": [
       "<div>\n",
       "<style scoped>\n",
       "    .dataframe tbody tr th:only-of-type {\n",
       "        vertical-align: middle;\n",
       "    }\n",
       "\n",
       "    .dataframe tbody tr th {\n",
       "        vertical-align: top;\n",
       "    }\n",
       "\n",
       "    .dataframe thead th {\n",
       "        text-align: right;\n",
       "    }\n",
       "</style>\n",
       "<table border=\"1\" class=\"dataframe\">\n",
       "  <thead>\n",
       "    <tr style=\"text-align: right;\">\n",
       "      <th></th>\n",
       "      <th>reviews.rating</th>\n",
       "      <th>reviews.text_reduce</th>\n",
       "    </tr>\n",
       "  </thead>\n",
       "  <tbody>\n",
       "    <tr>\n",
       "      <th>0</th>\n",
       "      <td>Positive</td>\n",
       "      <td>i love this album. it's very good. more to the...</td>\n",
       "    </tr>\n",
       "    <tr>\n",
       "      <th>1</th>\n",
       "      <td>Positive</td>\n",
       "      <td>Good flavor. This review was collected as part...</td>\n",
       "    </tr>\n",
       "    <tr>\n",
       "      <th>2</th>\n",
       "      <td>Positive</td>\n",
       "      <td>Good flavor.</td>\n",
       "    </tr>\n",
       "    <tr>\n",
       "      <th>3</th>\n",
       "      <td>Negative</td>\n",
       "      <td>I read through the reviews on here before look...</td>\n",
       "    </tr>\n",
       "    <tr>\n",
       "      <th>4</th>\n",
       "      <td>Negative</td>\n",
       "      <td>My husband bought this gel for us. The gel cau...</td>\n",
       "    </tr>\n",
       "    <tr>\n",
       "      <th>...</th>\n",
       "      <td>...</td>\n",
       "      <td>...</td>\n",
       "    </tr>\n",
       "    <tr>\n",
       "      <th>70862</th>\n",
       "      <td>Positive</td>\n",
       "      <td>I'm dealing with dry eyes and very sensitive t...</td>\n",
       "    </tr>\n",
       "    <tr>\n",
       "      <th>70863</th>\n",
       "      <td>Positive</td>\n",
       "      <td>Great stuff! Helps keep my contacts moist all ...</td>\n",
       "    </tr>\n",
       "    <tr>\n",
       "      <th>70864</th>\n",
       "      <td>Positive</td>\n",
       "      <td>Right price</td>\n",
       "    </tr>\n",
       "    <tr>\n",
       "      <th>70865</th>\n",
       "      <td>Positive</td>\n",
       "      <td>I was so pleased when this scarf arrived for m...</td>\n",
       "    </tr>\n",
       "    <tr>\n",
       "      <th>70866</th>\n",
       "      <td>Positive</td>\n",
       "      <td>Excellent album, makes the holidays better, gi...</td>\n",
       "    </tr>\n",
       "  </tbody>\n",
       "</table>\n",
       "<p>70867 rows × 2 columns</p>\n",
       "</div>"
      ],
      "text/plain": [
       "      reviews.rating                                reviews.text_reduce\n",
       "0           Positive  i love this album. it's very good. more to the...\n",
       "1           Positive  Good flavor. This review was collected as part...\n",
       "2           Positive                                       Good flavor.\n",
       "3           Negative  I read through the reviews on here before look...\n",
       "4           Negative  My husband bought this gel for us. The gel cau...\n",
       "...              ...                                                ...\n",
       "70862       Positive  I'm dealing with dry eyes and very sensitive t...\n",
       "70863       Positive  Great stuff! Helps keep my contacts moist all ...\n",
       "70864       Positive                                        Right price\n",
       "70865       Positive  I was so pleased when this scarf arrived for m...\n",
       "70866       Positive  Excellent album, makes the holidays better, gi...\n",
       "\n",
       "[70867 rows x 2 columns]"
      ]
     },
     "execution_count": 29,
     "metadata": {},
     "output_type": "execute_result"
    }
   ],
   "source": [
    "reviews_dataset"
   ]
  },
  {
   "cell_type": "code",
   "execution_count": 20,
   "id": "7189dfef",
   "metadata": {},
   "outputs": [],
   "source": [
    "X_train, X_test, y_train, y_test = train_test_split(tfidf_vocubulary, y_target,test_size=0.3,random_state=101,shuffle=True)"
   ]
  },
  {
   "cell_type": "code",
   "execution_count": 21,
   "id": "8c8d3b9e",
   "metadata": {},
   "outputs": [],
   "source": [
    "lsvm = LinearSVC(class_weight='balanced')\n",
    "l = lsvm.fit(X_train,y_train)"
   ]
  },
  {
   "cell_type": "markdown",
   "id": "0416820e",
   "metadata": {},
   "source": [
    "Prediction over train values"
   ]
  },
  {
   "cell_type": "code",
   "execution_count": 22,
   "id": "c5ab9a59",
   "metadata": {},
   "outputs": [],
   "source": [
    "pred_train = l.predict(X_train)"
   ]
  },
  {
   "cell_type": "code",
   "execution_count": 23,
   "id": "f268c8c0",
   "metadata": {},
   "outputs": [
    {
     "name": "stdout",
     "output_type": "stream",
     "text": [
      "Accuracy Train: 0.9358142160222553\n",
      "              precision    recall  f1-score   support\n",
      "\n",
      "    Negative       0.81      0.90      0.85      3847\n",
      "          OK       0.60      0.69      0.64      3014\n",
      "    Positive       0.98      0.96      0.97     42745\n",
      "\n",
      "    accuracy                           0.94     49606\n",
      "   macro avg       0.80      0.85      0.82     49606\n",
      "weighted avg       0.94      0.94      0.94     49606\n",
      "\n"
     ]
    }
   ],
   "source": [
    "print(\"Accuracy Train: {}\".format(accuracy_score(y_train,pred_train)))\n",
    "print(classification_report(y_train,pred_train))"
   ]
  },
  {
   "cell_type": "markdown",
   "id": "ff87a002",
   "metadata": {},
   "source": [
    "Prediction over test values"
   ]
  },
  {
   "cell_type": "code",
   "execution_count": 25,
   "id": "5f44c7a2",
   "metadata": {},
   "outputs": [
    {
     "name": "stdout",
     "output_type": "stream",
     "text": [
      "Accuracy Train: 0.8707962936832698\n",
      "              precision    recall  f1-score   support\n",
      "\n",
      "    Negative       0.63      0.67      0.65      1682\n",
      "          OK       0.28      0.30      0.29      1336\n",
      "    Positive       0.94      0.93      0.94     18243\n",
      "\n",
      "    accuracy                           0.87     21261\n",
      "   macro avg       0.62      0.63      0.63     21261\n",
      "weighted avg       0.88      0.87      0.87     21261\n",
      "\n"
     ]
    }
   ],
   "source": [
    "pred_test = l.predict(X_test)\n",
    "print(\"Accuracy Train: {}\".format(accuracy_score(y_test,pred_test)))\n",
    "print(classification_report(y_test,pred_test))"
   ]
  },
  {
   "cell_type": "code",
   "execution_count": 26,
   "id": "64a418ff",
   "metadata": {},
   "outputs": [],
   "source": [
    "train_cf_matrix = confusion_matrix(y_train, pred_train)\n",
    "test_cf_matrix = confusion_matrix(y_test, pred_test)"
   ]
  },
  {
   "cell_type": "code",
   "execution_count": 31,
   "id": "179b9243",
   "metadata": {},
   "outputs": [
    {
     "data": {
      "image/png": "[encoded data removed]",
      "text/plain": [
       "<Figure size 576x576 with 1 Axes>"
      ]
     },
     "metadata": {
      "needs_background": "light"
     },
     "output_type": "display_data"
    }
   ],
   "source": [
    "pp_matrix(pd.DataFrame(test_cf_matrix), cmap='PuRd')"
   ]
  },
  {
   "cell_type": "code",
   "execution_count": 32,
   "id": "7f907a0a",
   "metadata": {},
   "outputs": [
    {
     "data": {
      "text/plain": [
       "array([[ 1131,   200,   351],\n",
       "       [  218,   402,   716],\n",
       "       [  444,   818, 16981]])"
      ]
     },
     "execution_count": 32,
     "metadata": {},
     "output_type": "execute_result"
    }
   ],
   "source": [
    "test_cf_matrix"
   ]
  },
  {
   "cell_type": "markdown",
   "id": "244722d1",
   "metadata": {},
   "source": [
    "Using Random Forest Classifier"
   ]
  },
  {
   "cell_type": "markdown",
   "id": "4b85592f",
   "metadata": {},
   "source": [
    "Prediction over training values"
   ]
  },
  {
   "cell_type": "code",
   "execution_count": 33,
   "id": "953d1766",
   "metadata": {},
   "outputs": [],
   "source": [
    "rfc = RandomForestClassifier()\n",
    "rfc_model = rfc.fit(X_train, y_train)"
   ]
  },
  {
   "cell_type": "code",
   "execution_count": 36,
   "id": "964abcc4",
   "metadata": {},
   "outputs": [],
   "source": [
    "pred_train = rfc_model.predict(X_train)"
   ]
  },
  {
   "cell_type": "code",
   "execution_count": 37,
   "id": "17818455",
   "metadata": {},
   "outputs": [
    {
     "name": "stdout",
     "output_type": "stream",
     "text": [
      "Accuracy Train: 0.9994557110027013\n",
      "              precision    recall  f1-score   support\n",
      "\n",
      "    Negative       1.00      1.00      1.00      3847\n",
      "          OK       1.00      0.99      1.00      3014\n",
      "    Positive       1.00      1.00      1.00     42745\n",
      "\n",
      "    accuracy                           1.00     49606\n",
      "   macro avg       1.00      1.00      1.00     49606\n",
      "weighted avg       1.00      1.00      1.00     49606\n",
      "\n"
     ]
    }
   ],
   "source": [
    "print(\"Accuracy Train: {}\".format(accuracy_score(y_train,pred_train)))\n",
    "print(classification_report(y_train,pred_train))"
   ]
  },
  {
   "cell_type": "code",
   "execution_count": 38,
   "id": "67ad2aed",
   "metadata": {},
   "outputs": [
    {
     "name": "stdout",
     "output_type": "stream",
     "text": [
      "Accuracy Train: 0.897747048586614\n",
      "              precision    recall  f1-score   support\n",
      "\n",
      "    Negative       0.93      0.43      0.59      1682\n",
      "          OK       0.91      0.13      0.22      1336\n",
      "    Positive       0.90      1.00      0.94     18243\n",
      "\n",
      "    accuracy                           0.90     21261\n",
      "   macro avg       0.91      0.52      0.58     21261\n",
      "weighted avg       0.90      0.90      0.87     21261\n",
      "\n"
     ]
    }
   ],
   "source": [
    "pred_test = rfc_model.predict(X_test)\n",
    "print(\"Accuracy Train: {}\".format(accuracy_score(y_test,pred_test)))\n",
    "print(classification_report(y_test,pred_test))"
   ]
  },
  {
   "cell_type": "code",
   "execution_count": 39,
   "id": "9cc5db62",
   "metadata": {},
   "outputs": [],
   "source": [
    "train_cf_matrix = confusion_matrix(y_train, pred_train)\n",
    "test_cf_matrix = confusion_matrix(y_test, pred_test)"
   ]
  },
  {
   "cell_type": "code",
   "execution_count": 40,
   "id": "56916bcc",
   "metadata": {},
   "outputs": [
    {
     "data": {
      "image/png": "[encoded data removed]",
      "text/plain": [
       "<Figure size 576x576 with 1 Axes>"
      ]
     },
     "metadata": {
      "needs_background": "light"
     },
     "output_type": "display_data"
    }
   ],
   "source": [
    "pp_matrix(pd.DataFrame(test_cf_matrix), cmap='PuRd')"
   ]
  },
  {
   "cell_type": "code",
   "execution_count": 124,
   "id": "b475e55f",
   "metadata": {},
   "outputs": [],
   "source": [
    "sgd = SGDClassifier()\n",
    "sgd_model = sgd.fit(X_train, y_train)"
   ]
  },
  {
   "cell_type": "code",
   "execution_count": 125,
   "id": "9e926bd6",
   "metadata": {},
   "outputs": [],
   "source": [
    "pred_train = sgd_model.predict(X_train)"
   ]
  },
  {
   "cell_type": "code",
   "execution_count": 126,
   "id": "c16cd579",
   "metadata": {},
   "outputs": [
    {
     "name": "stdout",
     "output_type": "stream",
     "text": [
      "Accuracy Train: 0.895798895294924\n",
      "              precision    recall  f1-score   support\n",
      "\n",
      "    Negative       0.86      0.47      0.61      3847\n",
      "          OK       0.70      0.01      0.02      3014\n",
      "    Positive       0.90      1.00      0.94     42745\n",
      "\n",
      "    accuracy                           0.90     49606\n",
      "   macro avg       0.82      0.49      0.52     49606\n",
      "weighted avg       0.88      0.90      0.86     49606\n",
      "\n"
     ]
    }
   ],
   "source": [
    "print(\"Accuracy Train: {}\".format(accuracy_score(y_train,pred_train)))\n",
    "print(classification_report(y_train,pred_train))"
   ]
  },
  {
   "cell_type": "code",
   "execution_count": 128,
   "id": "4657ad87",
   "metadata": {},
   "outputs": [
    {
     "name": "stdout",
     "output_type": "stream",
     "text": [
      "Accuracy Train: 0.8890927049527304\n",
      "              precision    recall  f1-score   support\n",
      "\n",
      "    Negative       0.84      0.43      0.57      1682\n",
      "          OK       0.67      0.01      0.01      1336\n",
      "    Positive       0.89      1.00      0.94     18243\n",
      "\n",
      "    accuracy                           0.89     21261\n",
      "   macro avg       0.80      0.48      0.51     21261\n",
      "weighted avg       0.87      0.89      0.85     21261\n",
      "\n"
     ]
    }
   ],
   "source": [
    "pred_test = sgd_model.predict(X_test)\n",
    "print(\"Accuracy Train: {}\".format(accuracy_score(y_test,pred_test)))\n",
    "print(classification_report(y_test,pred_test))"
   ]
  },
  {
   "cell_type": "code",
   "execution_count": 130,
   "id": "41e92dbb",
   "metadata": {},
   "outputs": [
    {
     "data": {
      "image/png": "[encoded data removed]",
      "text/plain": [
       "<Figure size 576x576 with 1 Axes>"
      ]
     },
     "metadata": {
      "needs_background": "light"
     },
     "output_type": "display_data"
    }
   ],
   "source": [
    "test_cf_matrix = confusion_matrix(y_test, pred_test)\n",
    "pp_matrix(pd.DataFrame(test_cf_matrix))"
   ]
  },
  {
   "cell_type": "code",
   "execution_count": 132,
   "id": "8bf86244",
   "metadata": {},
   "outputs": [],
   "source": [
    "bagging = BaggingClassifier()\n",
    "bag_model = bagging.fit(X_train, y_train)"
   ]
  },
  {
   "cell_type": "code",
   "execution_count": 133,
   "id": "cd9edf06",
   "metadata": {},
   "outputs": [
    {
     "name": "stdout",
     "output_type": "stream",
     "text": [
      "Accuracy Train: 0.9912510583397169\n",
      "              precision    recall  f1-score   support\n",
      "\n",
      "    Negative       0.98      0.96      0.97      3847\n",
      "          OK       0.99      0.93      0.96      3014\n",
      "    Positive       0.99      1.00      1.00     42745\n",
      "\n",
      "    accuracy                           0.99     49606\n",
      "   macro avg       0.99      0.96      0.97     49606\n",
      "weighted avg       0.99      0.99      0.99     49606\n",
      "\n"
     ]
    }
   ],
   "source": [
    "pred_train = bag_model.predict(X_train)\n",
    "print(\"Accuracy Train: {}\".format(accuracy_score(y_train,pred_train)))\n",
    "print(classification_report(y_train,pred_train))"
   ]
  },
  {
   "cell_type": "code",
   "execution_count": 134,
   "id": "759154bf",
   "metadata": {},
   "outputs": [
    {
     "name": "stdout",
     "output_type": "stream",
     "text": [
      "Accuracy Train: 0.8879638775222238\n",
      "              precision    recall  f1-score   support\n",
      "\n",
      "    Negative       0.71      0.56      0.62      1682\n",
      "          OK       0.46      0.19      0.27      1336\n",
      "    Positive       0.91      0.97      0.94     18243\n",
      "\n",
      "    accuracy                           0.89     21261\n",
      "   macro avg       0.69      0.57      0.61     21261\n",
      "weighted avg       0.87      0.89      0.87     21261\n",
      "\n"
     ]
    }
   ],
   "source": [
    "pred_test = bag_model.predict(X_test)\n",
    "print(\"Accuracy Train: {}\".format(accuracy_score(y_test,pred_test)))\n",
    "print(classification_report(y_test,pred_test))"
   ]
  },
  {
   "cell_type": "code",
   "execution_count": null,
   "id": "a8443c3b",
   "metadata": {},
   "outputs": [],
   "source": []
  },
  {
   "cell_type": "code",
   "execution_count": null,
   "id": "e02ff398",
   "metadata": {},
   "outputs": [],
   "source": []
  },
  {
   "cell_type": "code",
   "execution_count": 41,
   "id": "ccb44fd2",
   "metadata": {},
   "outputs": [],
   "source": [
    "TEST_REVIEW = \"Good product, so excited to use it\"\n",
    "\n",
    "train = []\n",
    "REV = TEST_REVIEW\n",
    "tok = word_tokenize(REV)\n",
    "lemmatizer = WordNetLemmatizer()\n",
    "stop_words = list(stopwords.words('english'))\n",
    "REV_new = \"\"\n",
    "\n",
    "for word in tok:\n",
    "    if word not in string.punctuation and word not in stop_words:\n",
    "        lematized_word = lemmatizer.lemmatize(word) \n",
    "        if len(lematized_word) > 2:\n",
    "            REV_new += lematized_word + \" \"\n",
    "train += [REV_new.rstrip()]"
   ]
  },
  {
   "cell_type": "code",
   "execution_count": 83,
   "id": "f936fb4a",
   "metadata": {},
   "outputs": [],
   "source": [
    "voc = tfidf.fit_transform(train)"
   ]
  },
  {
   "cell_type": "code",
   "execution_count": 101,
   "id": "450da6f5",
   "metadata": {},
   "outputs": [],
   "source": []
  },
  {
   "cell_type": "code",
   "execution_count": 99,
   "id": "a7af5b74",
   "metadata": {},
   "outputs": [
    {
     "data": {
      "text/plain": [
       "array(array(<1x4 sparse matrix of type '<class 'numpy.float64'>'\n",
       "\twith 4 stored elements in Compressed Sparse Row format>, dtype=object),\n",
       "      dtype=object)"
      ]
     },
     "execution_count": 99,
     "metadata": {},
     "output_type": "execute_result"
    }
   ],
   "source": []
  },
  {
   "cell_type": "code",
   "execution_count": null,
   "id": "0440ca38",
   "metadata": {},
   "outputs": [],
   "source": []
  },
  {
   "cell_type": "code",
   "execution_count": null,
   "id": "8d2a5dde",
   "metadata": {},
   "outputs": [],
   "source": []
  },
  {
   "cell_type": "code",
   "execution_count": null,
   "id": "7550f0ea",
   "metadata": {},
   "outputs": [],
   "source": []
  },
  {
   "cell_type": "code",
   "execution_count": null,
   "id": "21dd3663",
   "metadata": {},
   "outputs": [],
   "source": []
  },
  {
   "cell_type": "code",
   "execution_count": 58,
   "id": "cabd252a",
   "metadata": {},
   "outputs": [
    {
     "data": {
      "text/plain": [
       "<AxesSubplot:ylabel='reviews.rating'>"
      ]
     },
     "execution_count": 58,
     "metadata": {},
     "output_type": "execute_result"
    },
    {
     "data": {
      "image/png": "[encoded data removed]",
      "text/plain": [
       "<Figure size 432x288 with 1 Axes>"
      ]
     },
     "metadata": {
      "needs_background": "light"
     },
     "output_type": "display_data"
    }
   ],
   "source": [
    "sns.barplot(x = [\"Positive\", \"OK\", \"Negative\"], y = reviews_dataset['reviews.rating'].value_counts())"
   ]
  },
  {
   "cell_type": "code",
   "execution_count": 120,
   "id": "ffa9ae32",
   "metadata": {},
   "outputs": [
    {
     "name": "stdout",
     "output_type": "stream",
     "text": [
      "Python 3.9.7\r\n"
     ]
    }
   ],
   "source": []
  },
  {
   "cell_type": "code",
   "execution_count": null,
   "id": "d727aa1a",
   "metadata": {},
   "outputs": [],
   "source": []
  }
 ],
 "metadata": {
  "kernelspec": {
   "display_name": "Python 3 (ipykernel)",
   "language": "python",
   "name": "python3"
  },
  "language_info": {
   "codemirror_mode": {
    "name": "ipython",
    "version": 3
   },
   "file_extension": ".py",
   "mimetype": "text/x-python",
   "name": "python",
   "nbconvert_exporter": "python",
   "pygments_lexer": "ipython3",
   "version": "3.9.7"
  }
 },
 "nbformat": 4,
 "nbformat_minor": 5
}
