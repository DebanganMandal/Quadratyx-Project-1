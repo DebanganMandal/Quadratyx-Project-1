{
 "cells": [
  {
   "cell_type": "code",
   "execution_count": 126,
   "id": "f0f5275b",
   "metadata": {},
   "outputs": [],
   "source": [
    "import numpy as np\n",
    "import pandas as pd\n",
    "import matplotlib.pyplot as plt\n",
    "import seaborn as sns\n",
    "import string\n",
    "import nltk\n",
    "from nltk.corpus import stopwords\n",
    "from nltk.tokenize import word_tokenize\n",
    "from nltk.stem import PorterStemmer\n",
    "from nltk.stem import WordNetLemmatizer\n",
    "from sklearn.feature_extraction.text import CountVectorizer\n",
    "from sklearn.feature_extraction.text import TfidfVectorizer\n",
    "from sklearn.model_selection import train_test_split\n",
    "from sklearn.svm import LinearSVC\n",
    "from sklearn.ensemble import RandomForestClassifier\n",
    "from sklearn.metrics import accuracy_score,classification_report\n",
    "from sklearn.metrics import confusion_matrix"
   ]
  },
  {
   "cell_type": "code",
   "execution_count": 16,
   "id": "8ac61384",
   "metadata": {},
   "outputs": [],
   "source": [
    "reviews_dataset = pd.read_csv('SentimentReviews.csv')"
   ]
  },
  {
   "cell_type": "code",
   "execution_count": 17,
   "id": "26bec48c",
   "metadata": {},
   "outputs": [
    {
     "data": {
      "text/html": [
       "<div>\n",
       "<style scoped>\n",
       "    .dataframe tbody tr th:only-of-type {\n",
       "        vertical-align: middle;\n",
       "    }\n",
       "\n",
       "    .dataframe tbody tr th {\n",
       "        vertical-align: top;\n",
       "    }\n",
       "\n",
       "    .dataframe thead th {\n",
       "        text-align: right;\n",
       "    }\n",
       "</style>\n",
       "<table border=\"1\" class=\"dataframe\">\n",
       "  <thead>\n",
       "    <tr style=\"text-align: right;\">\n",
       "      <th></th>\n",
       "      <th>Unnamed: 0</th>\n",
       "      <th>brand</th>\n",
       "      <th>categories</th>\n",
       "      <th>manufacturer</th>\n",
       "      <th>reviews.rating</th>\n",
       "      <th>reviews.text</th>\n",
       "      <th>label</th>\n",
       "      <th>reviews.text_reduce</th>\n",
       "    </tr>\n",
       "  </thead>\n",
       "  <tbody>\n",
       "    <tr>\n",
       "      <th>0</th>\n",
       "      <td>0</td>\n",
       "      <td>Universal Music</td>\n",
       "      <td>Movies, Music &amp; Books,Music,R&amp;b,Movies &amp; TV,Mo...</td>\n",
       "      <td>Universal Music Group / Cash Money</td>\n",
       "      <td>5</td>\n",
       "      <td>i love this album. it's very good. more to the...</td>\n",
       "      <td>positive</td>\n",
       "      <td>i love this album. it's very good. more to the...</td>\n",
       "    </tr>\n",
       "    <tr>\n",
       "      <th>1</th>\n",
       "      <td>1</td>\n",
       "      <td>Lundberg</td>\n",
       "      <td>Food,Packaged Foods,Snacks,Crackers,Snacks, Co...</td>\n",
       "      <td>Lundberg</td>\n",
       "      <td>5</td>\n",
       "      <td>Good flavor. This review was collected as part...</td>\n",
       "      <td>positive</td>\n",
       "      <td>Good flavor. This review was collected as part...</td>\n",
       "    </tr>\n",
       "    <tr>\n",
       "      <th>2</th>\n",
       "      <td>2</td>\n",
       "      <td>Lundberg</td>\n",
       "      <td>Food,Packaged Foods,Snacks,Crackers,Snacks, Co...</td>\n",
       "      <td>Lundberg</td>\n",
       "      <td>5</td>\n",
       "      <td>Good flavor.</td>\n",
       "      <td>positive</td>\n",
       "      <td>Good flavor.</td>\n",
       "    </tr>\n",
       "    <tr>\n",
       "      <th>3</th>\n",
       "      <td>3</td>\n",
       "      <td>K-Y</td>\n",
       "      <td>Personal Care,Medicine Cabinet,Lubricant/Sperm...</td>\n",
       "      <td>K-Y</td>\n",
       "      <td>1</td>\n",
       "      <td>I read through the reviews on here before look...</td>\n",
       "      <td>negative</td>\n",
       "      <td>I read through the reviews on here before look...</td>\n",
       "    </tr>\n",
       "    <tr>\n",
       "      <th>4</th>\n",
       "      <td>4</td>\n",
       "      <td>K-Y</td>\n",
       "      <td>Personal Care,Medicine Cabinet,Lubricant/Sperm...</td>\n",
       "      <td>K-Y</td>\n",
       "      <td>1</td>\n",
       "      <td>My husband bought this gel for us. The gel cau...</td>\n",
       "      <td>negative</td>\n",
       "      <td>My husband bought this gel for us. The gel cau...</td>\n",
       "    </tr>\n",
       "  </tbody>\n",
       "</table>\n",
       "</div>"
      ],
      "text/plain": [
       "   Unnamed: 0            brand  \\\n",
       "0           0  Universal Music   \n",
       "1           1         Lundberg   \n",
       "2           2         Lundberg   \n",
       "3           3              K-Y   \n",
       "4           4              K-Y   \n",
       "\n",
       "                                          categories  \\\n",
       "0  Movies, Music & Books,Music,R&b,Movies & TV,Mo...   \n",
       "1  Food,Packaged Foods,Snacks,Crackers,Snacks, Co...   \n",
       "2  Food,Packaged Foods,Snacks,Crackers,Snacks, Co...   \n",
       "3  Personal Care,Medicine Cabinet,Lubricant/Sperm...   \n",
       "4  Personal Care,Medicine Cabinet,Lubricant/Sperm...   \n",
       "\n",
       "                         manufacturer  reviews.rating  \\\n",
       "0  Universal Music Group / Cash Money               5   \n",
       "1                            Lundberg               5   \n",
       "2                            Lundberg               5   \n",
       "3                                 K-Y               1   \n",
       "4                                 K-Y               1   \n",
       "\n",
       "                                        reviews.text     label  \\\n",
       "0  i love this album. it's very good. more to the...  positive   \n",
       "1  Good flavor. This review was collected as part...  positive   \n",
       "2                                       Good flavor.  positive   \n",
       "3  I read through the reviews on here before look...  negative   \n",
       "4  My husband bought this gel for us. The gel cau...  negative   \n",
       "\n",
       "                                 reviews.text_reduce  \n",
       "0  i love this album. it's very good. more to the...  \n",
       "1  Good flavor. This review was collected as part...  \n",
       "2                                       Good flavor.  \n",
       "3  I read through the reviews on here before look...  \n",
       "4  My husband bought this gel for us. The gel cau...  "
      ]
     },
     "execution_count": 17,
     "metadata": {},
     "output_type": "execute_result"
    }
   ],
   "source": [
    "reviews_dataset.head()"
   ]
  },
  {
   "cell_type": "code",
   "execution_count": 18,
   "id": "3a7e189c",
   "metadata": {},
   "outputs": [
    {
     "data": {
      "text/plain": [
       "<AxesSubplot:>"
      ]
     },
     "execution_count": 18,
     "metadata": {},
     "output_type": "execute_result"
    },
    {
     "data": {
      "image/png": "[encoded data removed]",
      "text/plain": [
       "<Figure size 432x288 with 1 Axes>"
      ]
     },
     "metadata": {
      "needs_background": "light"
     },
     "output_type": "display_data"
    }
   ],
   "source": [
    "rating = list(reviews_dataset['reviews.rating'].unique())\n",
    "count = list(reviews_dataset['reviews.rating'].value_counts())\n",
    "\n",
    "sns.barplot(x = rating, y = count)"
   ]
  },
  {
   "cell_type": "code",
   "execution_count": 19,
   "id": "11f90152",
   "metadata": {},
   "outputs": [],
   "source": [
    "reviews_dataset.drop(columns = ['Unnamed: 0', 'brand', 'manufacturer', 'categories', 'reviews.text'], inplace=True)"
   ]
  },
  {
   "cell_type": "code",
   "execution_count": 22,
   "id": "6d9b1fa2",
   "metadata": {},
   "outputs": [
    {
     "data": {
      "text/plain": [
       "reviews.rating         0\n",
       "label                  0\n",
       "reviews.text_reduce    0\n",
       "dtype: int64"
      ]
     },
     "execution_count": 22,
     "metadata": {},
     "output_type": "execute_result"
    }
   ],
   "source": [
    "reviews_dataset.isnull().sum()"
   ]
  },
  {
   "cell_type": "code",
   "execution_count": 21,
   "id": "59ed705a",
   "metadata": {},
   "outputs": [
    {
     "data": {
      "text/plain": [
       "<AxesSubplot:ylabel='label'>"
      ]
     },
     "execution_count": 21,
     "metadata": {},
     "output_type": "execute_result"
    },
    {
     "data": {
      "image/png": "[encoded data removed]",
      "text/plain": [
       "<Figure size 432x288 with 1 Axes>"
      ]
     },
     "metadata": {
      "needs_background": "light"
     },
     "output_type": "display_data"
    }
   ],
   "source": [
    "sns.barplot(x = ['Positive', 'Negative'], y = reviews_dataset['label'].value_counts())"
   ]
  },
  {
   "cell_type": "code",
   "execution_count": 24,
   "id": "e27a1d2c",
   "metadata": {},
   "outputs": [
    {
     "data": {
      "text/plain": [
       "array([\"i love this album. it's very good. more to the hip hop side than her current pop sound.. SO HYPE! i listen to this everyday at the gym! i give it 5star rating all the way. her metaphors are just crazy.\",\n",
       "       'Good flavor. This review was collected as part of a promotion.',\n",
       "       'Good flavor.', ..., 'Right price',\n",
       "       \"I was so pleased when this scarf arrived for multiple reasons. The print and colors are beautiful and will go many outfits, casual or dressy. The muslin texture of the scarf is so soft and the coverage I get while nursing is perfect. The scarf wraps around twice for regular wear so I just unwrap once and it's in the ideal nursing position already so it's easy to do while I'm holding my baby. A scarf nursing cover is the way to go now instead of the awkward covers with wire that still showed my whole back when I nursed my first child. And I LOVE that I can get something like this from Target! Very pleased.\",\n",
       "       'Excellent album, makes the holidays better, gives off a nice Christmas vibe.'],\n",
       "      dtype=object)"
      ]
     },
     "execution_count": 24,
     "metadata": {},
     "output_type": "execute_result"
    }
   ],
   "source": [
    "reviews_dataset['reviews.text_reduce'].values"
   ]
  },
  {
   "cell_type": "markdown",
   "id": "4c4e9162",
   "metadata": {},
   "source": [
    "Consider ratings provided wil be mapped as : 1: Very Urgent, 2: Urgent, 3: Less Urgent, 4: OK, 5: Happy"
   ]
  },
  {
   "cell_type": "code",
   "execution_count": 25,
   "id": "6ab459b4",
   "metadata": {},
   "outputs": [],
   "source": [
    "y_target = reviews_dataset['reviews.rating'].map({1:'Very Urgent',2:'Urgent',3:'Less Urgent',4:'Ok',5:'Happy'}) "
   ]
  },
  {
   "cell_type": "code",
   "execution_count": 90,
   "id": "61b00e93",
   "metadata": {},
   "outputs": [],
   "source": [
    "data = reviews_dataset['reviews.text_reduce']\n",
    "train_data = []\n",
    "corpus = \"\"\n",
    "\n",
    "for sent in data:\n",
    "    train_data.append(sent.lower())"
   ]
  },
  {
   "cell_type": "code",
   "execution_count": 68,
   "id": "62e81cda",
   "metadata": {},
   "outputs": [],
   "source": [
    "lemmatizer = WordNetLemmatizer()\n",
    "voc = []\n",
    "tokens = word_tokenize(corpus)\n",
    "\n",
    "for word in tokens:\n",
    "    if word not in string.punctuation:\n",
    "        lematized_word = lemmatizer.lemmatize(word)\n",
    "        voc.append(word)"
   ]
  },
  {
   "cell_type": "code",
   "execution_count": 96,
   "id": "d71fcd1a",
   "metadata": {},
   "outputs": [],
   "source": [
    "bow = CountVectorizer(stop_words='english')\n",
    "trigram = CountVectorizer(ngram_range=(3,3), stop_words='english')\n",
    "tfidf = TfidfVectorizer(stop_words='english')"
   ]
  },
  {
   "cell_type": "code",
   "execution_count": 105,
   "id": "3fba457c",
   "metadata": {},
   "outputs": [],
   "source": [
    "bow_vocubulary = bow.fit_transform(train_data)\n",
    "trigram_vocubulary = trigram.fit_transform(train_data)"
   ]
  },
  {
   "cell_type": "code",
   "execution_count": 107,
   "id": "e16a1437",
   "metadata": {},
   "outputs": [],
   "source": [
    "tfidf_vocubulary = tfidf.fit_transform(train_data)"
   ]
  },
  {
   "cell_type": "code",
   "execution_count": 114,
   "id": "8e58baa7",
   "metadata": {},
   "outputs": [
    {
     "data": {
      "text/plain": [
       "(70867, 26791)"
      ]
     },
     "execution_count": 114,
     "metadata": {},
     "output_type": "execute_result"
    }
   ],
   "source": [
    "tfidf_vocubulary.shape"
   ]
  },
  {
   "cell_type": "code",
   "execution_count": 131,
   "id": "7189dfef",
   "metadata": {},
   "outputs": [],
   "source": [
    "X_train, X_test, y_train, y_test = train_test_split(tfidf_vocubulary, y_target,test_size=0.3,random_state=101,shuffle=True)"
   ]
  },
  {
   "cell_type": "code",
   "execution_count": 132,
   "id": "8c8d3b9e",
   "metadata": {},
   "outputs": [],
   "source": [
    "lsvm = LinearSVC(class_weight='balanced')\n",
    "l = lsvm.fit(X_train,y_train)"
   ]
  },
  {
   "cell_type": "markdown",
   "id": "0416820e",
   "metadata": {},
   "source": [
    "Prediction over train values"
   ]
  },
  {
   "cell_type": "code",
   "execution_count": 133,
   "id": "c5ab9a59",
   "metadata": {},
   "outputs": [],
   "source": [
    "pred_train = l.predict(X_train)"
   ]
  },
  {
   "cell_type": "code",
   "execution_count": 134,
   "id": "f268c8c0",
   "metadata": {},
   "outputs": [
    {
     "name": "stdout",
     "output_type": "stream",
     "text": [
      "Accuracy Train: 0.8298592912147724\n",
      "              precision    recall  f1-score   support\n",
      "\n",
      "       Happy       0.89      0.89      0.89     32565\n",
      " Less Urgent       0.64      0.83      0.73      3014\n",
      "          Ok       0.70      0.58      0.63     10180\n",
      "      Urgent       0.73      0.92      0.82      1274\n",
      " Very Urgent       0.86      0.96      0.91      2573\n",
      "\n",
      "    accuracy                           0.83     49606\n",
      "   macro avg       0.76      0.84      0.80     49606\n",
      "weighted avg       0.83      0.83      0.83     49606\n",
      "\n"
     ]
    }
   ],
   "source": [
    "print(\"Accuracy Train: {}\".format(accuracy_score(y_train,pred_train)))\n",
    "print(classification_report(y_train,pred_train))"
   ]
  },
  {
   "cell_type": "markdown",
   "id": "ff87a002",
   "metadata": {},
   "source": [
    "Prediction over test values"
   ]
  },
  {
   "cell_type": "code",
   "execution_count": 135,
   "id": "5f44c7a2",
   "metadata": {},
   "outputs": [
    {
     "name": "stdout",
     "output_type": "stream",
     "text": [
      "Accuracy Train: 0.6653026668548045\n",
      "              precision    recall  f1-score   support\n",
      "\n",
      "       Happy       0.81      0.82      0.81     13886\n",
      " Less Urgent       0.27      0.35      0.30      1336\n",
      "          Ok       0.40      0.31      0.35      4357\n",
      "      Urgent       0.23      0.27      0.25       556\n",
      " Very Urgent       0.59      0.70      0.64      1126\n",
      "\n",
      "    accuracy                           0.67     21261\n",
      "   macro avg       0.46      0.49      0.47     21261\n",
      "weighted avg       0.66      0.67      0.66     21261\n",
      "\n"
     ]
    }
   ],
   "source": [
    "pred_test = l.predict(X_test)\n",
    "print(\"Accuracy Train: {}\".format(accuracy_score(y_test,pred_test)))\n",
    "print(classification_report(y_test,pred_test))"
   ]
  },
  {
   "cell_type": "code",
   "execution_count": 136,
   "id": "64a418ff",
   "metadata": {},
   "outputs": [],
   "source": [
    "train_cf_matrix = confusion_matrix(y_train, pred_train)\n",
    "test_cf_matrix = confusion_matrix(y_test, pred_test)"
   ]
  },
  {
   "cell_type": "code",
   "execution_count": 137,
   "id": "179b9243",
   "metadata": {},
   "outputs": [
    {
     "data": {
      "text/plain": [
       "<AxesSubplot:>"
      ]
     },
     "execution_count": 137,
     "metadata": {},
     "output_type": "execute_result"
    },
    {
     "data": {
      "image/png": "[encoded data removed]",
      "text/plain": [
       "<Figure size 432x288 with 2 Axes>"
      ]
     },
     "metadata": {
      "needs_background": "light"
     },
     "output_type": "display_data"
    }
   ],
   "source": [
    "sns.heatmap(test_cf_matrix, annot=True, norma)"
   ]
  },
  {
   "cell_type": "code",
   "execution_count": 139,
   "id": "7f907a0a",
   "metadata": {},
   "outputs": [
    {
     "data": {
      "text/plain": [
       "array([[11379,   511,  1647,   159,   190],\n",
       "       [  305,   463,   330,   117,   121],\n",
       "       [ 2231,   534,  1367,   142,    83],\n",
       "       [   76,   111,    69,   152,   148],\n",
       "       [  112,    83,    43,   104,   784]])"
      ]
     },
     "execution_count": 139,
     "metadata": {},
     "output_type": "execute_result"
    }
   ],
   "source": [
    "test_cf_matrix"
   ]
  },
  {
   "cell_type": "code",
   "execution_count": null,
   "id": "307b5880",
   "metadata": {},
   "outputs": [],
   "source": []
  }
 ],
 "metadata": {
  "kernelspec": {
   "display_name": "Python 3 (ipykernel)",
   "language": "python",
   "name": "python3"
  },
  "language_info": {
   "codemirror_mode": {
    "name": "ipython",
    "version": 3
   },
   "file_extension": ".py",
   "mimetype": "text/x-python",
   "name": "python",
   "nbconvert_exporter": "python",
   "pygments_lexer": "ipython3",
   "version": "3.9.7"
  }
 },
 "nbformat": 4,
 "nbformat_minor": 5
}
