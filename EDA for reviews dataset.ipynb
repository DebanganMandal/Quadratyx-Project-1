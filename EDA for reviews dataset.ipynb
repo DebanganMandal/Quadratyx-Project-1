{
 "cells": [
  {
   "cell_type": "code",
   "execution_count": 79,
   "id": "89a80860",
   "metadata": {},
   "outputs": [],
   "source": [
    "import numpy as np\n",
    "import pandas as pd\n",
    "import matplotlib.pyplot as plt\n",
    "import seaborn as sns"
   ]
  },
  {
   "cell_type": "code",
   "execution_count": 13,
   "id": "f5643f4e",
   "metadata": {},
   "outputs": [],
   "source": [
    "reviews_dataset = pd.read_csv('SentimentReviews.csv')"
   ]
  },
  {
   "cell_type": "code",
   "execution_count": 128,
   "id": "bcebccdc",
   "metadata": {},
   "outputs": [
    {
     "data": {
      "text/html": [
       "<div>\n",
       "<style scoped>\n",
       "    .dataframe tbody tr th:only-of-type {\n",
       "        vertical-align: middle;\n",
       "    }\n",
       "\n",
       "    .dataframe tbody tr th {\n",
       "        vertical-align: top;\n",
       "    }\n",
       "\n",
       "    .dataframe thead th {\n",
       "        text-align: right;\n",
       "    }\n",
       "</style>\n",
       "<table border=\"1\" class=\"dataframe\">\n",
       "  <thead>\n",
       "    <tr style=\"text-align: right;\">\n",
       "      <th></th>\n",
       "      <th>brand</th>\n",
       "      <th>categories</th>\n",
       "      <th>manufacturer</th>\n",
       "      <th>reviews.rating</th>\n",
       "      <th>reviews.text</th>\n",
       "      <th>label</th>\n",
       "      <th>reviews.text_reduce</th>\n",
       "    </tr>\n",
       "  </thead>\n",
       "  <tbody>\n",
       "    <tr>\n",
       "      <th>0</th>\n",
       "      <td>Universal Music</td>\n",
       "      <td>Movies, Music &amp; Books,Music,R&amp;b,Movies &amp; TV,Mo...</td>\n",
       "      <td>Universal Music Group / Cash Money</td>\n",
       "      <td>5</td>\n",
       "      <td>i love this album. it's very good. more to the...</td>\n",
       "      <td>positive</td>\n",
       "      <td>i love this album. it's very good. more to the...</td>\n",
       "    </tr>\n",
       "    <tr>\n",
       "      <th>1</th>\n",
       "      <td>Lundberg</td>\n",
       "      <td>Food,Packaged Foods,Snacks,Crackers,Snacks, Co...</td>\n",
       "      <td>Lundberg</td>\n",
       "      <td>5</td>\n",
       "      <td>Good flavor. This review was collected as part...</td>\n",
       "      <td>positive</td>\n",
       "      <td>Good flavor. This review was collected as part...</td>\n",
       "    </tr>\n",
       "    <tr>\n",
       "      <th>2</th>\n",
       "      <td>Lundberg</td>\n",
       "      <td>Food,Packaged Foods,Snacks,Crackers,Snacks, Co...</td>\n",
       "      <td>Lundberg</td>\n",
       "      <td>5</td>\n",
       "      <td>Good flavor.</td>\n",
       "      <td>positive</td>\n",
       "      <td>Good flavor.</td>\n",
       "    </tr>\n",
       "    <tr>\n",
       "      <th>3</th>\n",
       "      <td>K-Y</td>\n",
       "      <td>Personal Care,Medicine Cabinet,Lubricant/Sperm...</td>\n",
       "      <td>K-Y</td>\n",
       "      <td>1</td>\n",
       "      <td>I read through the reviews on here before look...</td>\n",
       "      <td>negative</td>\n",
       "      <td>I read through the reviews on here before look...</td>\n",
       "    </tr>\n",
       "    <tr>\n",
       "      <th>4</th>\n",
       "      <td>K-Y</td>\n",
       "      <td>Personal Care,Medicine Cabinet,Lubricant/Sperm...</td>\n",
       "      <td>K-Y</td>\n",
       "      <td>1</td>\n",
       "      <td>My husband bought this gel for us. The gel cau...</td>\n",
       "      <td>negative</td>\n",
       "      <td>My husband bought this gel for us. The gel cau...</td>\n",
       "    </tr>\n",
       "  </tbody>\n",
       "</table>\n",
       "</div>"
      ],
      "text/plain": [
       "             brand                                         categories  \\\n",
       "0  Universal Music  Movies, Music & Books,Music,R&b,Movies & TV,Mo...   \n",
       "1         Lundberg  Food,Packaged Foods,Snacks,Crackers,Snacks, Co...   \n",
       "2         Lundberg  Food,Packaged Foods,Snacks,Crackers,Snacks, Co...   \n",
       "3              K-Y  Personal Care,Medicine Cabinet,Lubricant/Sperm...   \n",
       "4              K-Y  Personal Care,Medicine Cabinet,Lubricant/Sperm...   \n",
       "\n",
       "                         manufacturer  reviews.rating  \\\n",
       "0  Universal Music Group / Cash Money               5   \n",
       "1                            Lundberg               5   \n",
       "2                            Lundberg               5   \n",
       "3                                 K-Y               1   \n",
       "4                                 K-Y               1   \n",
       "\n",
       "                                        reviews.text     label  \\\n",
       "0  i love this album. it's very good. more to the...  positive   \n",
       "1  Good flavor. This review was collected as part...  positive   \n",
       "2                                       Good flavor.  positive   \n",
       "3  I read through the reviews on here before look...  negative   \n",
       "4  My husband bought this gel for us. The gel cau...  negative   \n",
       "\n",
       "                                 reviews.text_reduce  \n",
       "0  i love this album. it's very good. more to the...  \n",
       "1  Good flavor. This review was collected as part...  \n",
       "2                                       Good flavor.  \n",
       "3  I read through the reviews on here before look...  \n",
       "4  My husband bought this gel for us. The gel cau...  "
      ]
     },
     "execution_count": 128,
     "metadata": {},
     "output_type": "execute_result"
    }
   ],
   "source": [
    "reviews_dataset.head(5)"
   ]
  },
  {
   "cell_type": "code",
   "execution_count": 15,
   "id": "49ed2feb",
   "metadata": {},
   "outputs": [],
   "source": [
    "reviews_dataset.drop(columns=['Unnamed: 0'], inplace=True)"
   ]
  },
  {
   "cell_type": "code",
   "execution_count": 16,
   "id": "69e4351d",
   "metadata": {},
   "outputs": [
    {
     "data": {
      "text/html": [
       "<div>\n",
       "<style scoped>\n",
       "    .dataframe tbody tr th:only-of-type {\n",
       "        vertical-align: middle;\n",
       "    }\n",
       "\n",
       "    .dataframe tbody tr th {\n",
       "        vertical-align: top;\n",
       "    }\n",
       "\n",
       "    .dataframe thead th {\n",
       "        text-align: right;\n",
       "    }\n",
       "</style>\n",
       "<table border=\"1\" class=\"dataframe\">\n",
       "  <thead>\n",
       "    <tr style=\"text-align: right;\">\n",
       "      <th></th>\n",
       "      <th>brand</th>\n",
       "      <th>categories</th>\n",
       "      <th>manufacturer</th>\n",
       "      <th>reviews.rating</th>\n",
       "      <th>reviews.text</th>\n",
       "      <th>label</th>\n",
       "      <th>reviews.text_reduce</th>\n",
       "    </tr>\n",
       "  </thead>\n",
       "  <tbody>\n",
       "    <tr>\n",
       "      <th>0</th>\n",
       "      <td>Universal Music</td>\n",
       "      <td>Movies, Music &amp; Books,Music,R&amp;b,Movies &amp; TV,Mo...</td>\n",
       "      <td>Universal Music Group / Cash Money</td>\n",
       "      <td>5</td>\n",
       "      <td>i love this album. it's very good. more to the...</td>\n",
       "      <td>positive</td>\n",
       "      <td>i love this album. it's very good. more to the...</td>\n",
       "    </tr>\n",
       "    <tr>\n",
       "      <th>1</th>\n",
       "      <td>Lundberg</td>\n",
       "      <td>Food,Packaged Foods,Snacks,Crackers,Snacks, Co...</td>\n",
       "      <td>Lundberg</td>\n",
       "      <td>5</td>\n",
       "      <td>Good flavor. This review was collected as part...</td>\n",
       "      <td>positive</td>\n",
       "      <td>Good flavor. This review was collected as part...</td>\n",
       "    </tr>\n",
       "    <tr>\n",
       "      <th>2</th>\n",
       "      <td>Lundberg</td>\n",
       "      <td>Food,Packaged Foods,Snacks,Crackers,Snacks, Co...</td>\n",
       "      <td>Lundberg</td>\n",
       "      <td>5</td>\n",
       "      <td>Good flavor.</td>\n",
       "      <td>positive</td>\n",
       "      <td>Good flavor.</td>\n",
       "    </tr>\n",
       "    <tr>\n",
       "      <th>3</th>\n",
       "      <td>K-Y</td>\n",
       "      <td>Personal Care,Medicine Cabinet,Lubricant/Sperm...</td>\n",
       "      <td>K-Y</td>\n",
       "      <td>1</td>\n",
       "      <td>I read through the reviews on here before look...</td>\n",
       "      <td>negative</td>\n",
       "      <td>I read through the reviews on here before look...</td>\n",
       "    </tr>\n",
       "    <tr>\n",
       "      <th>4</th>\n",
       "      <td>K-Y</td>\n",
       "      <td>Personal Care,Medicine Cabinet,Lubricant/Sperm...</td>\n",
       "      <td>K-Y</td>\n",
       "      <td>1</td>\n",
       "      <td>My husband bought this gel for us. The gel cau...</td>\n",
       "      <td>negative</td>\n",
       "      <td>My husband bought this gel for us. The gel cau...</td>\n",
       "    </tr>\n",
       "  </tbody>\n",
       "</table>\n",
       "</div>"
      ],
      "text/plain": [
       "             brand                                         categories  \\\n",
       "0  Universal Music  Movies, Music & Books,Music,R&b,Movies & TV,Mo...   \n",
       "1         Lundberg  Food,Packaged Foods,Snacks,Crackers,Snacks, Co...   \n",
       "2         Lundberg  Food,Packaged Foods,Snacks,Crackers,Snacks, Co...   \n",
       "3              K-Y  Personal Care,Medicine Cabinet,Lubricant/Sperm...   \n",
       "4              K-Y  Personal Care,Medicine Cabinet,Lubricant/Sperm...   \n",
       "\n",
       "                         manufacturer  reviews.rating  \\\n",
       "0  Universal Music Group / Cash Money               5   \n",
       "1                            Lundberg               5   \n",
       "2                            Lundberg               5   \n",
       "3                                 K-Y               1   \n",
       "4                                 K-Y               1   \n",
       "\n",
       "                                        reviews.text     label  \\\n",
       "0  i love this album. it's very good. more to the...  positive   \n",
       "1  Good flavor. This review was collected as part...  positive   \n",
       "2                                       Good flavor.  positive   \n",
       "3  I read through the reviews on here before look...  negative   \n",
       "4  My husband bought this gel for us. The gel cau...  negative   \n",
       "\n",
       "                                 reviews.text_reduce  \n",
       "0  i love this album. it's very good. more to the...  \n",
       "1  Good flavor. This review was collected as part...  \n",
       "2                                       Good flavor.  \n",
       "3  I read through the reviews on here before look...  \n",
       "4  My husband bought this gel for us. The gel cau...  "
      ]
     },
     "execution_count": 16,
     "metadata": {},
     "output_type": "execute_result"
    }
   ],
   "source": [
    "reviews_dataset.head()"
   ]
  },
  {
   "cell_type": "code",
   "execution_count": 106,
   "id": "a516000e",
   "metadata": {},
   "outputs": [
    {
     "data": {
      "text/plain": [
       "brand                  0\n",
       "categories             0\n",
       "manufacturer           0\n",
       "reviews.rating         0\n",
       "reviews.text           0\n",
       "label                  0\n",
       "reviews.text_reduce    0\n",
       "dtype: int64"
      ]
     },
     "execution_count": 106,
     "metadata": {},
     "output_type": "execute_result"
    }
   ],
   "source": [
    "reviews_dataset.isnull().sum()"
   ]
  },
  {
   "cell_type": "code",
   "execution_count": 17,
   "id": "423af00f",
   "metadata": {},
   "outputs": [
    {
     "name": "stdout",
     "output_type": "stream",
     "text": [
      "<class 'pandas.core.frame.DataFrame'>\n",
      "RangeIndex: 70867 entries, 0 to 70866\n",
      "Data columns (total 7 columns):\n",
      " #   Column               Non-Null Count  Dtype \n",
      "---  ------               --------------  ----- \n",
      " 0   brand                70867 non-null  object\n",
      " 1   categories           70867 non-null  object\n",
      " 2   manufacturer         70867 non-null  object\n",
      " 3   reviews.rating       70867 non-null  int64 \n",
      " 4   reviews.text         70867 non-null  object\n",
      " 5   label                70867 non-null  object\n",
      " 6   reviews.text_reduce  70867 non-null  object\n",
      "dtypes: int64(1), object(6)\n",
      "memory usage: 3.8+ MB\n"
     ]
    }
   ],
   "source": [
    "reviews_dataset.info()"
   ]
  },
  {
   "cell_type": "code",
   "execution_count": 20,
   "id": "18570adb",
   "metadata": {},
   "outputs": [],
   "source": [
    "brand = reviews_dataset['brand'].unique()"
   ]
  },
  {
   "cell_type": "code",
   "execution_count": 24,
   "id": "a77b5c92",
   "metadata": {},
   "outputs": [
    {
     "name": "stdout",
     "output_type": "stream",
     "text": [
      "The Unique Brands present: \n",
      "['Universal Music' 'Lundberg' 'K-Y' 'J.R. Watkins' 'AMBI' \"Johnson's\"\n",
      " 'Olay' 'Windex' 'Heinz' 'KIND' 'Pantene' 'Aussie' 'Disney' 'CeraVe'\n",
      " 'Solo Foods' 'Finish' 'Jake And The Neverland Pirates' 'Pearhead'\n",
      " 'No Brand' 'Neutrogena' 'Meguiars' 'Banana Boat' 'Cetaphil' 'Suave'\n",
      " 'Bumble Bee' 'Citrus Magic' 'La Tortilla Factory' 'Target.com Use Only'\n",
      " 'Sea Gull Lighting' 'The Seaweed Bath Co.' 'Way Basics' 'Biokleen'\n",
      " 'Yes to Carrots' 'Alberto VO5' 'Warner Bros.' 'FOX' 'Progresso' \"Herr's\"\n",
      " 'Hawaiian Punch' 'Moom' 'Universal Home Video' 'Holmes' 'Sony Music'\n",
      " 'Beanitos' 'Baxton Studio' \"Nature's Path\" 'Lite Source'\n",
      " 'SLOAN VALVE COMPANY' 'Nearly Natural' 'Toy Story' 'MaraNatha' 'Chex'\n",
      " 'TRESemme' 'Wagan' 'Creme Of Nature' 'Arrid' 'Eagle Brand' 'Pinaud'\n",
      " 'Hortense B. Hewitt' 'Canada Dry' 'Baxter of California' 'Ragu' 'Sabra'\n",
      " 'Pendaflex' \"Newman's Own Organics\" 'The Honest Company' 'Plano' 'Hoover'\n",
      " 'Stander' 'Calvin Klein' 'iStarUSA' 'Happy Family' \"Udi's\" 'BETTER BUILT'\n",
      " 'Sony Pictures' \"Annie's\" 'Super PoliGrip' 'Australian Gold'\n",
      " 'Colorganics' 'Guardian' 'Summit Entertainment' 'Hormel' 'Tai Pei'\n",
      " 'Clorox' 'Avery' 'Chips Deluxe' 'Weather Tech' 'Orajel' \"Chester's\"\n",
      " 'D-Con' 'Lysol' 'COOLA' \"Burt's Bees\" 'SC Johnson' 'Simple Green'\n",
      " 'Wilton' \"Mrs. Meyer's\" 'Cuisinart' 'Iman' 'Pioneer' 'Stonyfield'\n",
      " 'Bounce' \"L'Oreal Paris\" 'Just For Men' 'Roommates' 'Yosemite Home Decor'\n",
      " 'Kraus' 'Mill Creek' 'All-Bran' 'Coty' 'Axe' 'Power Crunch'\n",
      " 'INC International Concepts' 'Smead' 'Nojo' 'Sizzix' 'Vaseline'\n",
      " 'Tostitos' 'Starbucks' 'UMGD' 'RC Cola' 'Head & Shoulders' 'Scotty'\n",
      " 'Kenroy Home' 'Nielsen' 'Dermalogica' 'South Shore' \"Africa's Best\"\n",
      " 'Tramontina' \"Newman's Own\" 'Carson-Dellosa Publishing' 'Home Health'\n",
      " 'J.a. Henckels' 'Kikkoman' 'Kohler' 'Naturtint' 'Gain' 'Pleasant Hearth'\n",
      " 'Warner Manufacturing' 'Cal Lighting' 'Lynk' 'Trend Lab' 'Plum Organics'\n",
      " 'Batherapy' 'Touch of Color' 'JNH Lifestyles' 'Soothing Touch' 'Era'\n",
      " 'Every Man Jack' 'Reebok' 'Delta Faucet' 'Ogx' \"Physician's Formula\"\n",
      " 'Lionsgate Home Entertainment' 'Weleda' 'Fiskars' 'Michelin' 'Metzeler'\n",
      " 'Teamson' 'Rizzy Home' 'JLA Home' 'Tree Hut' 'Cococare'\n",
      " 'Pacific Natural Foods' 'Honeywell' 'Jergens' \"Lay's\" 'Noosa' \"STACY'S\"\n",
      " 'Nexxus' 'Hollywood Beauty' 'Southern Enterprises' 'Chips Ahoy'\n",
      " '4C Foods' 'Caress' 'Feit' 'UNIVERSAL HOME ENTERTAINMENT' 'Lush Decor'\n",
      " 'Yes to Grapefruit' 'Maybelline' 'Sony' 'Clear Scalp & Hair Therapy'\n",
      " 'Cheetos' 'Bisquick' 'Olivella' 'Warner Home Video' 'Voortman'\n",
      " 'Tim Holtz' 'Lionsgate' 'Aveeno' 'LDR' \"Ben & Jerry's\" 'Jolly Time'\n",
      " 'ANCHOR BAY' 'Maaya Home' 'Warner Music Group' 'Care Free Curl' 'Spam'\n",
      " 'Cantu' 'Vicks' 'National Mfg.' 'Shea Moisture' 'Hunter Fan'\n",
      " 'Concept Housewares' 'Walkers' 'Barielle' \"Musselman's\" 'Storkcraft'\n",
      " 'Queen Helene' 'Bodycology' 'Chobani' 'Bedtime Originals' 'Brownline'\n",
      " \"L'oreal Paris\" 'Pillow Perfect' 'International Concepts' 'Mitchum'\n",
      " 'Gone Fishing' 'Lady Mitchum' 'Ecotrin' 'Obagi' 'Milani' 'Nordic Games'\n",
      " 'Idesign' 'One Grace Place' 'Safavieh' 'OxiClean' 'Nesco' 'Swingline'\n",
      " 'Hubba Bubba' 'On-Stage' 'Isoplus' 'Wea' 'Sally Hansen' 'Swann' 'Ust'\n",
      " 'La Tourangelle' 'Caribou Coffee' 'Attitude' 'Baby Banana' 'Schwarzkopf'\n",
      " 'No-Ad' 'Cheez-It' 'Northwest' \"Smooth 'n Shine\" 'Black Radiance'\n",
      " 'Clearly Natural' 'American Crew' 'Hugo Naturals' 'Ruffles' 'Haagen-Dazs'\n",
      " 'Mission Foods' 'Olly' 'Cream of Wheat' 'Stridex' 'Vornado' 'Nivea'\n",
      " 'Fiber One' 'Lean Cuisine' 'Cerave' 'Ore International' 'Herbatint'\n",
      " 'Advantage' 'Fit System' 'John Frieda' 'Petmaker' 'Benadryl'\n",
      " 'Murray Cookies' 'Anti Monkey Butt' 'SoBe' 'Smart Start' 'NYX' 'Curel'\n",
      " \"Snyder's of Hanover\" 'Caldrea' 'Trend' \"Tom's of Maine\" 'Zyliss'\n",
      " 'Simply Shabby Chic' 'Klondike' 'Mario Badescu' 'Air Wick' 'Softsoap'\n",
      " 'Tide' 'Almay' 'Natralia' 'Quilted Northern' 'MGM' 'Porcelana'\n",
      " 'Honeybee Gardens' \"Suzie's\" 'Keri' 'Jerdon' 'Baby Jogger' 'Lumisource'\n",
      " 'Colorbok' 'Foodsaver' 'General Electric' 'Sc252nci' 'Palladio' 'E.L.F.'\n",
      " 'Oxy' 'CHI' 'Sanrio' 'Bengay' 'CRITERION COLLECTION INC' 'Fan Mats'\n",
      " 'Hagerty' 'Wet N Wild' 'Cinnamon Toast Crunch' 'Sinful' 'Bestway'\n",
      " 'Healthy Skoop' 'Nourish Organic' 'Yardley'\n",
      " 'UNIVERSAL STUDIOS HOME ENTERT.' 'Black Opal' 'Eggo' 'Ocean Potion'\n",
      " 'Universal' 'Timekeeper' 'Adesso' 'CoverGirl' \"Pirate's Booty\" \"Lucy's\"\n",
      " 'Planters' 'Wild Planet' 'Teenage Mutant Ninja Turtles'\n",
      " 'Early California' 'Creative Converting' 'Rubbermaid' \"Jack Link's\"\n",
      " 'Dremel' 'Horizon' 'Krusteaz' 'Neato Robotics' 'Mineral Fusion' 'Conair'\n",
      " 'Wish-Bone' 'The Laundress' 'Uttermost' 'Peak' 'J. Hunt' 'Bosch'\n",
      " 'Sebastian' 'Mars' 'Reynolds' 'Rubbermaid Lock-Its'\n",
      " 'International Delight' 'Juice Beauty' 'Honey Bunches of Oats'\n",
      " 'Starbucks Coffee' 'Ortega' 'Suncoat' 'Maple Grove Farms of Vermont'\n",
      " 'American Greetings' 'Keebler' 'bareMinerals' 'Body Fantasies'\n",
      " 'Imagine Foods' 'Biotene' 'Tillamook' 'Soft Scrub' 'Hidden Valley'\n",
      " 'Season Seafood' 'Wheat Thins' \"Summer's Eve\" 'Samsung' 'Peppa Pig'\n",
      " 'Organic Root Stimulator' 'American Atelier' 'Nature Valley' 'Nordicware'\n",
      " 'Biore' 'Idahoan' \"Stauffer's\" 'Badger' 'Lemi Shine' 'Fangio Lighting'\n",
      " \"Mrs. Smith's\" \"Amy's\" 'Alera' 'Attwood' 'Hex Performance'\n",
      " 'Paramount Pictures' 'Nutri-Grain' 'Karaoke Usa' 'Skittles' 'Kiss'\n",
      " 'Opti-Free' 'Bebe Au Lait']\n"
     ]
    }
   ],
   "source": [
    "print(\"The Unique Brands present: \")\n",
    "print(brand)"
   ]
  },
  {
   "cell_type": "code",
   "execution_count": 35,
   "id": "20019442",
   "metadata": {},
   "outputs": [],
   "source": [
    "products = reviews_dataset['categories'].unique()"
   ]
  },
  {
   "cell_type": "code",
   "execution_count": 45,
   "id": "9c678b33",
   "metadata": {},
   "outputs": [],
   "source": [
    "brand_dataset = reviews_dataset[['brand','categories', 'reviews.rating']]"
   ]
  },
  {
   "cell_type": "code",
   "execution_count": 73,
   "id": "3d7227de",
   "metadata": {},
   "outputs": [],
   "source": [
    "i = 0\n",
    "movie_brands = set()\n",
    "for cat in brand_dataset.categories.values:\n",
    "    if \"Movies\" in cat:\n",
    "        movie_brands.add(brand_dataset.iloc[i].brand)\n",
    "        i += 1"
   ]
  },
  {
   "cell_type": "code",
   "execution_count": 74,
   "id": "f2e382d9",
   "metadata": {},
   "outputs": [
    {
     "data": {
      "text/plain": [
       "186"
      ]
     },
     "execution_count": 74,
     "metadata": {},
     "output_type": "execute_result"
    }
   ],
   "source": [
    "len(movie_brands)"
   ]
  },
  {
   "cell_type": "code",
   "execution_count": 75,
   "id": "42f1dbd6",
   "metadata": {},
   "outputs": [],
   "source": [
    "i = 0\n",
    "pc_brands = set()\n",
    "for cat in brand_dataset.categories.values:\n",
    "    if \"Personal Care\" in cat:\n",
    "        pc_brands.add(brand_dataset.iloc[i].brand)\n",
    "        i += 1"
   ]
  },
  {
   "cell_type": "code",
   "execution_count": 76,
   "id": "0e5573a2",
   "metadata": {},
   "outputs": [
    {
     "data": {
      "text/plain": [
       "99"
      ]
     },
     "execution_count": 76,
     "metadata": {},
     "output_type": "execute_result"
    }
   ],
   "source": [
    "len(pc_brands)"
   ]
  },
  {
   "cell_type": "code",
   "execution_count": 77,
   "id": "701d3c88",
   "metadata": {},
   "outputs": [],
   "source": [
    "i = 0\n",
    "food_brands = set()\n",
    "for cat in brand_dataset.categories.values:\n",
    "    if \"Food\" in cat:\n",
    "        food_brands.add(brand_dataset.iloc[i].brand)\n",
    "        i += 1"
   ]
  },
  {
   "cell_type": "code",
   "execution_count": 78,
   "id": "c883956f",
   "metadata": {},
   "outputs": [
    {
     "data": {
      "text/plain": [
       "84"
      ]
     },
     "execution_count": 78,
     "metadata": {},
     "output_type": "execute_result"
    }
   ],
   "source": [
    "len(food_brands)"
   ]
  },
  {
   "cell_type": "code",
   "execution_count": 82,
   "id": "9658dd53",
   "metadata": {},
   "outputs": [
    {
     "data": {
      "text/plain": [
       "array(['Movies, Music & Books,Music,R&b,Movies & TV,Movie Bundles & Collections,CDs & Vinyl,Rap & Hip-Hop,Bass,Music on CD or Vinyl,Rap,Hip-Hop,Mainstream Rap,Pop Rap',\n",
       "       'Food,Packaged Foods,Snacks,Crackers,Snacks, Cookies & Chips,Rice Cakes,Cakes',\n",
       "       'Food,Packaged Foods,Snacks,Crackers,Snacks, Cookies & Chips,Rice Cakes,Cakes',\n",
       "       ...,\n",
       "       'Personal Care,Eye & Ear Care,Eye Care,Contact Lens Care,Contact Lens Cleaners,Eye Drops,Eye Drops/Artificial Tears For Contacts,Health,Walmart Vision Centers,Vision Centers,Contact Lens Saline Solution,Health & Beauty,Vision Care,Contact Lens Care Solutions,Health Care,Soaking Solutions,Health & Wellness,Contact Lens Solutions,Contact Lens Accessories',\n",
       "       'Baby,Nursing & Feeding,Breastfeeding,Nursing Covers,Baby Deals,Breastfeeding Care',\n",
       "       'Movies, Music & Books,Music,Gospel & Christian,Electronic & Dance,See More Genres,Music on CD or Vinyl,Vinyl Records,CDs & Vinyl,Pop,Vocal Pop,Ways To Shop Entertainment,Vinyl,Rock,Broadway & Vocalists'],\n",
       "      dtype=object)"
      ]
     },
     "execution_count": 82,
     "metadata": {},
     "output_type": "execute_result"
    }
   ],
   "source": [
    "brand_dataset.categories.values"
   ]
  },
  {
   "cell_type": "code",
   "execution_count": 85,
   "id": "0d0b2f62",
   "metadata": {},
   "outputs": [],
   "source": [
    "i = 0\n",
    "health_brands = set()\n",
    "for cat in brand_dataset.categories.values:\n",
    "    if \"Personal Care\" and \"Health & Beauty\" in cat:\n",
    "        health_brands.add(brand_dataset.iloc[i].brand)\n",
    "        i += 1"
   ]
  },
  {
   "cell_type": "code",
   "execution_count": 86,
   "id": "b12ca481",
   "metadata": {},
   "outputs": [
    {
     "data": {
      "text/plain": [
       "84"
      ]
     },
     "execution_count": 86,
     "metadata": {},
     "output_type": "execute_result"
    }
   ],
   "source": [
    "len(health_brands)"
   ]
  },
  {
   "cell_type": "code",
   "execution_count": 87,
   "id": "f0dceed2",
   "metadata": {},
   "outputs": [
    {
     "data": {
      "text/plain": [
       "<AxesSubplot:>"
      ]
     },
     "execution_count": 87,
     "metadata": {},
     "output_type": "execute_result"
    },
    {
     "data": {
      "image/png": "[encoded data removed]",
      "text/plain": [
       "<Figure size 432x288 with 1 Axes>"
      ]
     },
     "metadata": {
      "needs_background": "light"
     },
     "output_type": "display_data"
    }
   ],
   "source": [
    "sns.barplot(x = ['Food Brands', 'Personal Care', 'Movies Brand', 'Health & Beauty'], y = [len(food_brands), len(pc_brands), len(movie_brands), len(health_brands)])"
   ]
  },
  {
   "cell_type": "code",
   "execution_count": 98,
   "id": "3dbae5fc",
   "metadata": {},
   "outputs": [],
   "source": [
    "good_brands = set()\n",
    "for k in brand_dataset.values:\n",
    "    if k[2]>=4:\n",
    "        good_brands.add(k[0])"
   ]
  },
  {
   "cell_type": "code",
   "execution_count": 99,
   "id": "e1822dd8",
   "metadata": {},
   "outputs": [
    {
     "data": {
      "text/plain": [
       "372"
      ]
     },
     "execution_count": 99,
     "metadata": {},
     "output_type": "execute_result"
    }
   ],
   "source": [
    "len(good_brands)"
   ]
  },
  {
   "cell_type": "code",
   "execution_count": 102,
   "id": "d533dd04",
   "metadata": {},
   "outputs": [],
   "source": [
    "bad_brands = set()\n",
    "for k in brand_dataset.values:\n",
    "    if k[2]<=2 and k[2]>=1:\n",
    "        bad_brands.add(k[0])"
   ]
  },
  {
   "cell_type": "code",
   "execution_count": 103,
   "id": "37c5a039",
   "metadata": {},
   "outputs": [
    {
     "data": {
      "text/plain": [
       "209"
      ]
     },
     "execution_count": 103,
     "metadata": {},
     "output_type": "execute_result"
    }
   ],
   "source": [
    "len(bad_brands)"
   ]
  },
  {
   "cell_type": "code",
   "execution_count": 105,
   "id": "5d51a8fb",
   "metadata": {},
   "outputs": [
    {
     "name": "stdout",
     "output_type": "stream",
     "text": [
      "The brands which have both good and bad product reviews rating\n",
      "{'Tai Pei', 'UNIVERSAL STUDIOS HOME ENTERT.', 'Trend Lab', 'Trend', 'Kenroy Home', 'Queen Helene', \"Physician's Formula\", 'Baby Banana', 'Olly', 'Yes to Grapefruit', \"Snyder's of Hanover\", 'Bedtime Originals', 'Cuisinart', 'Feit', 'Storkcraft', 'OxiClean', 'Conair', 'Rubbermaid Lock-Its', 'Tide', 'Arrid', 'Roommates', 'Bengay', 'Mars', 'Kraus', 'Almay', 'Progresso', \"L'oreal Paris\", 'Foodsaver', 'Summit Entertainment', 'Meguiars', 'J.R. Watkins', 'Iman', 'Early California', 'Attwood', 'Biore', 'Sally Hansen', 'Sc252nci', 'Maybelline', 'International Delight', 'Sony Pictures', 'Nojo', 'Moom', \"Mrs. Meyer's\", 'J.a. Henckels', 'Cheetos', 'Cetaphil', 'Quilted Northern', 'Coty', 'Clorox', 'Hawaiian Punch', \"STACY'S\", 'Swann', 'Solo Foods', 'Finish', 'Bumble Bee', 'Holmes', 'Mill Creek', 'Vicks', 'Plano', 'Lionsgate Home Entertainment', 'Head & Shoulders', 'Nourish Organic', 'Biotene', 'American Atelier', 'CeraVe', 'Chobani', 'Creme Of Nature', 'Curel', 'Nature Valley', 'Canada Dry', 'Nielsen', \"Johnson's\", 'Smead', 'Cinnamon Toast Crunch', 'Nearly Natural', 'Olay', 'JLA Home', 'Nutri-Grain', 'Opti-Free', 'Windex', 'Vaseline', 'General Electric', 'K-Y', 'Target.com Use Only', 'Fiber One', 'Benadryl', 'Warner Home Video', \"L'Oreal Paris\", 'TRESemme', 'American Crew', 'The Honest Company', 'Power Crunch', 'Orajel', 'Weleda', 'Stridex', 'Sony Music', 'Chex', 'Neutrogena', 'Mitchum', 'Ragu', 'Milani', 'Karaoke Usa', 'Lemi Shine', 'Pioneer', 'Anti Monkey Butt', 'Lean Cuisine', 'Teenage Mutant Ninja Turtles', 'Klondike', 'Pleasant Hearth', 'Olivella', 'NYX', \"Burt's Bees\", 'Lundberg', 'Chips Ahoy', 'Pantene', 'Pendaflex', \"Lay's\", 'Maaya Home', 'Lady Mitchum', 'Universal', 'Jerdon', 'Hoover', 'Yes to Carrots', 'Lite Source', 'Hollywood Beauty', 'Soothing Touch', 'Honeywell', 'Murray Cookies', 'Keri', 'Home Health', 'Warner Bros.', 'Colorbok', 'Juice Beauty', 'Wheat Thins', \"Stauffer's\", 'Paramount Pictures', 'Lysol', 'Hormel', 'Aussie', 'Cerave', 'One Grace Place', 'Universal Music', 'Tostitos', 'Way Basics', 'South Shore', 'MaraNatha', 'UMGD', 'Mario Badescu', 'Keebler', \"Chester's\", 'Zyliss', 'KIND', 'Shea Moisture', 'Vornado', 'Wea', 'Axe', 'Delta Faucet', 'FOX', 'Universal Home Video', 'Sabra', 'Rubbermaid', 'Kiss', 'Super PoliGrip', 'Nexxus', 'Soft Scrub', 'Bounce', 'Samsung', 'Banana Boat', \"Africa's Best\", 'John Frieda', 'Softsoap', 'Clear Scalp & Hair Therapy', 'Suncoat', 'Just For Men', 'Nordic Games', 'Wagan', 'Skittles', 'CoverGirl', 'Aveeno', 'Chips Deluxe', 'Warner Music Group', 'Disney', 'D-Con', \"Newman's Own\", 'Oxy', \"Annie's\", 'Suave', 'Lionsgate', 'Tree Hut', \"Newman's Own Organics\", \"Tom's of Maine\", 'Nivea', 'Caress', 'Sony', 'Starbucks Coffee'}\n"
     ]
    }
   ],
   "source": [
    "print(\"The brands which have both good and bad product reviews rating\")\n",
    "print(good_brands.intersection(bad_brands))"
   ]
  },
  {
   "cell_type": "code",
   "execution_count": 115,
   "id": "9837424f",
   "metadata": {},
   "outputs": [],
   "source": [
    "ratings = dict(brand_dataset['reviews.rating'].value_counts())"
   ]
  },
  {
   "cell_type": "code",
   "execution_count": 124,
   "id": "2dda4905",
   "metadata": {},
   "outputs": [
    {
     "data": {
      "image/png": "[encoded data removed]",
      "text/plain": [
       "<Figure size 432x288 with 1 Axes>"
      ]
     },
     "metadata": {},
     "output_type": "display_data"
    }
   ],
   "source": [
    "plt.pie(list(ratings.values()), labels=list(ratings.keys()), autopct='%.0f%%')\n",
    "plt.show()"
   ]
  },
  {
   "cell_type": "code",
   "execution_count": 120,
   "id": "9c99c625",
   "metadata": {},
   "outputs": [
    {
     "data": {
      "text/plain": [
       "dict_values([46451, 14537, 4350, 3699, 1830])"
      ]
     },
     "execution_count": 120,
     "metadata": {},
     "output_type": "execute_result"
    }
   ],
   "source": [
    "ratings.values()"
   ]
  },
  {
   "cell_type": "code",
   "execution_count": null,
   "id": "d34e6a43",
   "metadata": {},
   "outputs": [],
   "source": []
  }
 ],
 "metadata": {
  "kernelspec": {
   "display_name": "Python 3 (ipykernel)",
   "language": "python",
   "name": "python3"
  },
  "language_info": {
   "codemirror_mode": {
    "name": "ipython",
    "version": 3
   },
   "file_extension": ".py",
   "mimetype": "text/x-python",
   "name": "python",
   "nbconvert_exporter": "python",
   "pygments_lexer": "ipython3",
   "version": "3.9.7"
  }
 },
 "nbformat": 4,
 "nbformat_minor": 5
}
