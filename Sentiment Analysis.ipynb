{
 "cells": [
  {
   "cell_type": "code",
   "execution_count": 81,
   "id": "f0f5275b",
   "metadata": {},
   "outputs": [],
   "source": [
    "import numpy as np\n",
    "import pandas as pd\n",
    "import matplotlib.pyplot as plt\n",
    "import seaborn as sns\n",
    "import string\n",
    "import nltk\n",
    "from nltk.corpus import stopwords\n",
    "from nltk.tokenize import word_tokenize\n",
    "from nltk.stem import PorterStemmer\n",
    "from nltk.stem import WordNetLemmatizer\n",
    "from sklearn.feature_extraction.text import CountVectorizer\n",
    "from sklearn.feature_extraction.text import TfidfVectorizer\n",
    "from sklearn.model_selection import train_test_split\n",
    "from sklearn.svm import LinearSVC\n",
    "from sklearn.ensemble import RandomForestClassifier, BaggingClassifier\n",
    "from sklearn.linear_model import SGDClassifier\n",
    "import xgboost\n",
    "from sklearn.metrics import accuracy_score,classification_report\n",
    "from sklearn.metrics import confusion_matrix\n",
    "from pretty_confusion_matrix import pp_matrix\n",
    "from sklearn.model_selection import RandomizedSearchCV\n",
    "from sklearn.model_selection import GridSearchCV\n",
    "from hyperopt import hp,fmin,tpe,STATUS_OK,Trials\n",
    "from sklearn.model_selection import cross_val_score"
   ]
  },
  {
   "cell_type": "code",
   "execution_count": 2,
   "id": "8ac61384",
   "metadata": {},
   "outputs": [],
   "source": [
    "reviews_dataset = pd.read_csv('SentimentReviews.csv')"
   ]
  },
  {
   "cell_type": "code",
   "execution_count": 3,
   "id": "26bec48c",
   "metadata": {},
   "outputs": [
    {
     "data": {
      "text/html": [
       "<div>\n",
       "<style scoped>\n",
       "    .dataframe tbody tr th:only-of-type {\n",
       "        vertical-align: middle;\n",
       "    }\n",
       "\n",
       "    .dataframe tbody tr th {\n",
       "        vertical-align: top;\n",
       "    }\n",
       "\n",
       "    .dataframe thead th {\n",
       "        text-align: right;\n",
       "    }\n",
       "</style>\n",
       "<table border=\"1\" class=\"dataframe\">\n",
       "  <thead>\n",
       "    <tr style=\"text-align: right;\">\n",
       "      <th></th>\n",
       "      <th>Unnamed: 0</th>\n",
       "      <th>brand</th>\n",
       "      <th>categories</th>\n",
       "      <th>manufacturer</th>\n",
       "      <th>reviews.rating</th>\n",
       "      <th>reviews.text</th>\n",
       "      <th>label</th>\n",
       "      <th>reviews.text_reduce</th>\n",
       "    </tr>\n",
       "  </thead>\n",
       "  <tbody>\n",
       "    <tr>\n",
       "      <th>0</th>\n",
       "      <td>0</td>\n",
       "      <td>Universal Music</td>\n",
       "      <td>Movies, Music &amp; Books,Music,R&amp;b,Movies &amp; TV,Mo...</td>\n",
       "      <td>Universal Music Group / Cash Money</td>\n",
       "      <td>5</td>\n",
       "      <td>i love this album. it's very good. more to the...</td>\n",
       "      <td>positive</td>\n",
       "      <td>i love this album. it's very good. more to the...</td>\n",
       "    </tr>\n",
       "    <tr>\n",
       "      <th>1</th>\n",
       "      <td>1</td>\n",
       "      <td>Lundberg</td>\n",
       "      <td>Food,Packaged Foods,Snacks,Crackers,Snacks, Co...</td>\n",
       "      <td>Lundberg</td>\n",
       "      <td>5</td>\n",
       "      <td>Good flavor. This review was collected as part...</td>\n",
       "      <td>positive</td>\n",
       "      <td>Good flavor. This review was collected as part...</td>\n",
       "    </tr>\n",
       "    <tr>\n",
       "      <th>2</th>\n",
       "      <td>2</td>\n",
       "      <td>Lundberg</td>\n",
       "      <td>Food,Packaged Foods,Snacks,Crackers,Snacks, Co...</td>\n",
       "      <td>Lundberg</td>\n",
       "      <td>5</td>\n",
       "      <td>Good flavor.</td>\n",
       "      <td>positive</td>\n",
       "      <td>Good flavor.</td>\n",
       "    </tr>\n",
       "    <tr>\n",
       "      <th>3</th>\n",
       "      <td>3</td>\n",
       "      <td>K-Y</td>\n",
       "      <td>Personal Care,Medicine Cabinet,Lubricant/Sperm...</td>\n",
       "      <td>K-Y</td>\n",
       "      <td>1</td>\n",
       "      <td>I read through the reviews on here before look...</td>\n",
       "      <td>negative</td>\n",
       "      <td>I read through the reviews on here before look...</td>\n",
       "    </tr>\n",
       "    <tr>\n",
       "      <th>4</th>\n",
       "      <td>4</td>\n",
       "      <td>K-Y</td>\n",
       "      <td>Personal Care,Medicine Cabinet,Lubricant/Sperm...</td>\n",
       "      <td>K-Y</td>\n",
       "      <td>1</td>\n",
       "      <td>My husband bought this gel for us. The gel cau...</td>\n",
       "      <td>negative</td>\n",
       "      <td>My husband bought this gel for us. The gel cau...</td>\n",
       "    </tr>\n",
       "  </tbody>\n",
       "</table>\n",
       "</div>"
      ],
      "text/plain": [
       "   Unnamed: 0            brand  \\\n",
       "0           0  Universal Music   \n",
       "1           1         Lundberg   \n",
       "2           2         Lundberg   \n",
       "3           3              K-Y   \n",
       "4           4              K-Y   \n",
       "\n",
       "                                          categories  \\\n",
       "0  Movies, Music & Books,Music,R&b,Movies & TV,Mo...   \n",
       "1  Food,Packaged Foods,Snacks,Crackers,Snacks, Co...   \n",
       "2  Food,Packaged Foods,Snacks,Crackers,Snacks, Co...   \n",
       "3  Personal Care,Medicine Cabinet,Lubricant/Sperm...   \n",
       "4  Personal Care,Medicine Cabinet,Lubricant/Sperm...   \n",
       "\n",
       "                         manufacturer  reviews.rating  \\\n",
       "0  Universal Music Group / Cash Money               5   \n",
       "1                            Lundberg               5   \n",
       "2                            Lundberg               5   \n",
       "3                                 K-Y               1   \n",
       "4                                 K-Y               1   \n",
       "\n",
       "                                        reviews.text     label  \\\n",
       "0  i love this album. it's very good. more to the...  positive   \n",
       "1  Good flavor. This review was collected as part...  positive   \n",
       "2                                       Good flavor.  positive   \n",
       "3  I read through the reviews on here before look...  negative   \n",
       "4  My husband bought this gel for us. The gel cau...  negative   \n",
       "\n",
       "                                 reviews.text_reduce  \n",
       "0  i love this album. it's very good. more to the...  \n",
       "1  Good flavor. This review was collected as part...  \n",
       "2                                       Good flavor.  \n",
       "3  I read through the reviews on here before look...  \n",
       "4  My husband bought this gel for us. The gel cau...  "
      ]
     },
     "execution_count": 3,
     "metadata": {},
     "output_type": "execute_result"
    }
   ],
   "source": [
    "reviews_dataset.head()"
   ]
  },
  {
   "cell_type": "code",
   "execution_count": 4,
   "id": "3a7e189c",
   "metadata": {},
   "outputs": [
    {
     "data": {
      "text/plain": [
       "<AxesSubplot:>"
      ]
     },
     "execution_count": 4,
     "metadata": {},
     "output_type": "execute_result"
    },
    {
     "data": {
      "image/png": "[encoded data removed]",
      "text/plain": [
       "<Figure size 432x288 with 1 Axes>"
      ]
     },
     "metadata": {
      "needs_background": "light"
     },
     "output_type": "display_data"
    }
   ],
   "source": [
    "rating = list(reviews_dataset['reviews.rating'].unique())\n",
    "count = list(reviews_dataset['reviews.rating'].value_counts())\n",
    "\n",
    "sns.barplot(x = rating, y = count)"
   ]
  },
  {
   "cell_type": "code",
   "execution_count": 5,
   "id": "11f90152",
   "metadata": {},
   "outputs": [],
   "source": [
    "reviews_dataset.drop(columns = ['Unnamed: 0', 'brand', 'manufacturer', 'categories', 'reviews.text'], inplace=True)"
   ]
  },
  {
   "cell_type": "code",
   "execution_count": 6,
   "id": "6d9b1fa2",
   "metadata": {},
   "outputs": [
    {
     "data": {
      "text/plain": [
       "reviews.rating         0\n",
       "label                  0\n",
       "reviews.text_reduce    0\n",
       "dtype: int64"
      ]
     },
     "execution_count": 6,
     "metadata": {},
     "output_type": "execute_result"
    }
   ],
   "source": [
    "reviews_dataset.isnull().sum()"
   ]
  },
  {
   "cell_type": "code",
   "execution_count": 7,
   "id": "59ed705a",
   "metadata": {},
   "outputs": [
    {
     "data": {
      "text/plain": [
       "<AxesSubplot:ylabel='label'>"
      ]
     },
     "execution_count": 7,
     "metadata": {},
     "output_type": "execute_result"
    },
    {
     "data": {
      "image/png": "[encoded data removed]",
      "text/plain": [
       "<Figure size 432x288 with 1 Axes>"
      ]
     },
     "metadata": {
      "needs_background": "light"
     },
     "output_type": "display_data"
    }
   ],
   "source": [
    "sns.barplot(x = ['Positive', 'Negative'], y = reviews_dataset['label'].value_counts())"
   ]
  },
  {
   "cell_type": "code",
   "execution_count": 8,
   "id": "e27a1d2c",
   "metadata": {},
   "outputs": [
    {
     "data": {
      "text/plain": [
       "array([\"i love this album. it's very good. more to the hip hop side than her current pop sound.. SO HYPE! i listen to this everyday at the gym! i give it 5star rating all the way. her metaphors are just crazy.\",\n",
       "       'Good flavor. This review was collected as part of a promotion.',\n",
       "       'Good flavor.', ..., 'Right price',\n",
       "       \"I was so pleased when this scarf arrived for multiple reasons. The print and colors are beautiful and will go many outfits, casual or dressy. The muslin texture of the scarf is so soft and the coverage I get while nursing is perfect. The scarf wraps around twice for regular wear so I just unwrap once and it's in the ideal nursing position already so it's easy to do while I'm holding my baby. A scarf nursing cover is the way to go now instead of the awkward covers with wire that still showed my whole back when I nursed my first child. And I LOVE that I can get something like this from Target! Very pleased.\",\n",
       "       'Excellent album, makes the holidays better, gives off a nice Christmas vibe.'],\n",
       "      dtype=object)"
      ]
     },
     "execution_count": 8,
     "metadata": {},
     "output_type": "execute_result"
    }
   ],
   "source": [
    "reviews_dataset['reviews.text_reduce'].values"
   ]
  },
  {
   "cell_type": "markdown",
   "id": "4c4e9162",
   "metadata": {},
   "source": [
    "Consider ratings provided wil be mapped as : 1: Very Urgent, 2: Urgent, 3: Less Urgent, 4: OK, 5: Happy"
   ]
  },
  {
   "cell_type": "code",
   "execution_count": 9,
   "id": "6ab459b4",
   "metadata": {},
   "outputs": [],
   "source": [
    "y_target = reviews_dataset['reviews.rating'].map({1:'Negative',2:'Negative',3:'OK',4:'Positive',5:'Positive'}) "
   ]
  },
  {
   "cell_type": "code",
   "execution_count": 10,
   "id": "2f607bca",
   "metadata": {},
   "outputs": [],
   "source": [
    "reviews_dataset['reviews.rating'] = y_target"
   ]
  },
  {
   "cell_type": "code",
   "execution_count": 11,
   "id": "870c3212",
   "metadata": {},
   "outputs": [
    {
     "data": {
      "text/html": [
       "<div>\n",
       "<style scoped>\n",
       "    .dataframe tbody tr th:only-of-type {\n",
       "        vertical-align: middle;\n",
       "    }\n",
       "\n",
       "    .dataframe tbody tr th {\n",
       "        vertical-align: top;\n",
       "    }\n",
       "\n",
       "    .dataframe thead th {\n",
       "        text-align: right;\n",
       "    }\n",
       "</style>\n",
       "<table border=\"1\" class=\"dataframe\">\n",
       "  <thead>\n",
       "    <tr style=\"text-align: right;\">\n",
       "      <th></th>\n",
       "      <th>reviews.rating</th>\n",
       "      <th>label</th>\n",
       "      <th>reviews.text_reduce</th>\n",
       "    </tr>\n",
       "  </thead>\n",
       "  <tbody>\n",
       "    <tr>\n",
       "      <th>0</th>\n",
       "      <td>Positive</td>\n",
       "      <td>positive</td>\n",
       "      <td>i love this album. it's very good. more to the...</td>\n",
       "    </tr>\n",
       "    <tr>\n",
       "      <th>1</th>\n",
       "      <td>Positive</td>\n",
       "      <td>positive</td>\n",
       "      <td>Good flavor. This review was collected as part...</td>\n",
       "    </tr>\n",
       "    <tr>\n",
       "      <th>2</th>\n",
       "      <td>Positive</td>\n",
       "      <td>positive</td>\n",
       "      <td>Good flavor.</td>\n",
       "    </tr>\n",
       "    <tr>\n",
       "      <th>3</th>\n",
       "      <td>Negative</td>\n",
       "      <td>negative</td>\n",
       "      <td>I read through the reviews on here before look...</td>\n",
       "    </tr>\n",
       "    <tr>\n",
       "      <th>4</th>\n",
       "      <td>Negative</td>\n",
       "      <td>negative</td>\n",
       "      <td>My husband bought this gel for us. The gel cau...</td>\n",
       "    </tr>\n",
       "  </tbody>\n",
       "</table>\n",
       "</div>"
      ],
      "text/plain": [
       "  reviews.rating     label                                reviews.text_reduce\n",
       "0       Positive  positive  i love this album. it's very good. more to the...\n",
       "1       Positive  positive  Good flavor. This review was collected as part...\n",
       "2       Positive  positive                                       Good flavor.\n",
       "3       Negative  negative  I read through the reviews on here before look...\n",
       "4       Negative  negative  My husband bought this gel for us. The gel cau..."
      ]
     },
     "execution_count": 11,
     "metadata": {},
     "output_type": "execute_result"
    }
   ],
   "source": [
    "reviews_dataset.head()"
   ]
  },
  {
   "cell_type": "code",
   "execution_count": 12,
   "id": "a74a4819",
   "metadata": {},
   "outputs": [],
   "source": [
    "reviews_dataset.drop(columns='label', inplace=True)"
   ]
  },
  {
   "cell_type": "code",
   "execution_count": 13,
   "id": "61b00e93",
   "metadata": {},
   "outputs": [],
   "source": [
    "data = reviews_dataset['reviews.text_reduce']\n",
    "train_data = []\n",
    "corpus = \"\"\n",
    "\n",
    "for sent in data:\n",
    "    train_data.append(sent.lower())"
   ]
  },
  {
   "cell_type": "code",
   "execution_count": 14,
   "id": "62e81cda",
   "metadata": {},
   "outputs": [],
   "source": [
    "stemmer = PorterStemmer()\n",
    "stop_words = list(stopwords.words('english'))\n",
    "voc = []\n",
    "tokens = []\n",
    "training = []\n",
    "rev = \"\"\n",
    "\n",
    "for reviews in train_data:\n",
    "    tok = word_tokenize(reviews)\n",
    "    rev = \"\"\n",
    "    for word in tok:\n",
    "        if word not in string.punctuation and word not in stop_words:\n",
    "            stemmed_word = stemmer.stem(word) \n",
    "            if len(stemmed_word) > 2:\n",
    "                rev += stemmed_word + \" \"\n",
    "                \n",
    "    training += [rev.rstrip()]"
   ]
  },
  {
   "cell_type": "code",
   "execution_count": null,
   "id": "397c7158",
   "metadata": {},
   "outputs": [],
   "source": []
  },
  {
   "cell_type": "code",
   "execution_count": null,
   "id": "68e79245",
   "metadata": {},
   "outputs": [],
   "source": []
  },
  {
   "cell_type": "code",
   "execution_count": null,
   "id": "6b17a7fb",
   "metadata": {},
   "outputs": [],
   "source": []
  },
  {
   "cell_type": "code",
   "execution_count": 15,
   "id": "d71fcd1a",
   "metadata": {},
   "outputs": [],
   "source": [
    "bow = CountVectorizer(stop_words='english')\n",
    "digram = CountVectorizer(ngram_range=(3,3), stop_words='english')\n",
    "tfidf = TfidfVectorizer(stop_words='english')"
   ]
  },
  {
   "cell_type": "code",
   "execution_count": 16,
   "id": "3fba457c",
   "metadata": {},
   "outputs": [],
   "source": [
    "bow_vocubulary = bow.fit_transform(training)\n",
    "digram_vocubulary = digram.fit_transform(training)"
   ]
  },
  {
   "cell_type": "code",
   "execution_count": 17,
   "id": "e16a1437",
   "metadata": {},
   "outputs": [],
   "source": [
    "tfidf_vocubulary = tfidf.fit_transform(training)"
   ]
  },
  {
   "cell_type": "code",
   "execution_count": 18,
   "id": "8e58baa7",
   "metadata": {},
   "outputs": [
    {
     "data": {
      "text/plain": [
       "(70867, 18863)"
      ]
     },
     "execution_count": 18,
     "metadata": {},
     "output_type": "execute_result"
    }
   ],
   "source": [
    "tfidf_vocubulary.shape"
   ]
  },
  {
   "cell_type": "code",
   "execution_count": 19,
   "id": "d685ba2b",
   "metadata": {},
   "outputs": [
    {
     "name": "stdout",
     "output_type": "stream",
     "text": [
      "(70867, 18863) and (70867, 735141)\n"
     ]
    }
   ],
   "source": [
    "print(f\"{bow_vocubulary.shape} and {digram_vocubulary.shape}\")"
   ]
  },
  {
   "cell_type": "code",
   "execution_count": 20,
   "id": "206c3709",
   "metadata": {},
   "outputs": [
    {
     "data": {
      "text/html": [
       "<div>\n",
       "<style scoped>\n",
       "    .dataframe tbody tr th:only-of-type {\n",
       "        vertical-align: middle;\n",
       "    }\n",
       "\n",
       "    .dataframe tbody tr th {\n",
       "        vertical-align: top;\n",
       "    }\n",
       "\n",
       "    .dataframe thead th {\n",
       "        text-align: right;\n",
       "    }\n",
       "</style>\n",
       "<table border=\"1\" class=\"dataframe\">\n",
       "  <thead>\n",
       "    <tr style=\"text-align: right;\">\n",
       "      <th></th>\n",
       "      <th>reviews.rating</th>\n",
       "      <th>reviews.text_reduce</th>\n",
       "    </tr>\n",
       "  </thead>\n",
       "  <tbody>\n",
       "    <tr>\n",
       "      <th>0</th>\n",
       "      <td>Positive</td>\n",
       "      <td>i love this album. it's very good. more to the...</td>\n",
       "    </tr>\n",
       "    <tr>\n",
       "      <th>1</th>\n",
       "      <td>Positive</td>\n",
       "      <td>Good flavor. This review was collected as part...</td>\n",
       "    </tr>\n",
       "    <tr>\n",
       "      <th>2</th>\n",
       "      <td>Positive</td>\n",
       "      <td>Good flavor.</td>\n",
       "    </tr>\n",
       "    <tr>\n",
       "      <th>3</th>\n",
       "      <td>Negative</td>\n",
       "      <td>I read through the reviews on here before look...</td>\n",
       "    </tr>\n",
       "    <tr>\n",
       "      <th>4</th>\n",
       "      <td>Negative</td>\n",
       "      <td>My husband bought this gel for us. The gel cau...</td>\n",
       "    </tr>\n",
       "    <tr>\n",
       "      <th>...</th>\n",
       "      <td>...</td>\n",
       "      <td>...</td>\n",
       "    </tr>\n",
       "    <tr>\n",
       "      <th>70862</th>\n",
       "      <td>Positive</td>\n",
       "      <td>I'm dealing with dry eyes and very sensitive t...</td>\n",
       "    </tr>\n",
       "    <tr>\n",
       "      <th>70863</th>\n",
       "      <td>Positive</td>\n",
       "      <td>Great stuff! Helps keep my contacts moist all ...</td>\n",
       "    </tr>\n",
       "    <tr>\n",
       "      <th>70864</th>\n",
       "      <td>Positive</td>\n",
       "      <td>Right price</td>\n",
       "    </tr>\n",
       "    <tr>\n",
       "      <th>70865</th>\n",
       "      <td>Positive</td>\n",
       "      <td>I was so pleased when this scarf arrived for m...</td>\n",
       "    </tr>\n",
       "    <tr>\n",
       "      <th>70866</th>\n",
       "      <td>Positive</td>\n",
       "      <td>Excellent album, makes the holidays better, gi...</td>\n",
       "    </tr>\n",
       "  </tbody>\n",
       "</table>\n",
       "<p>70867 rows × 2 columns</p>\n",
       "</div>"
      ],
      "text/plain": [
       "      reviews.rating                                reviews.text_reduce\n",
       "0           Positive  i love this album. it's very good. more to the...\n",
       "1           Positive  Good flavor. This review was collected as part...\n",
       "2           Positive                                       Good flavor.\n",
       "3           Negative  I read through the reviews on here before look...\n",
       "4           Negative  My husband bought this gel for us. The gel cau...\n",
       "...              ...                                                ...\n",
       "70862       Positive  I'm dealing with dry eyes and very sensitive t...\n",
       "70863       Positive  Great stuff! Helps keep my contacts moist all ...\n",
       "70864       Positive                                        Right price\n",
       "70865       Positive  I was so pleased when this scarf arrived for m...\n",
       "70866       Positive  Excellent album, makes the holidays better, gi...\n",
       "\n",
       "[70867 rows x 2 columns]"
      ]
     },
     "execution_count": 20,
     "metadata": {},
     "output_type": "execute_result"
    }
   ],
   "source": [
    "reviews_dataset"
   ]
  },
  {
   "cell_type": "code",
   "execution_count": 21,
   "id": "7189dfef",
   "metadata": {},
   "outputs": [],
   "source": [
    "X_train, X_test, y_train, y_test = train_test_split(tfidf_vocubulary, y_target,test_size=0.3,random_state=101,shuffle=True)"
   ]
  },
  {
   "cell_type": "code",
   "execution_count": 92,
   "id": "694efe03",
   "metadata": {},
   "outputs": [],
   "source": [
    "y_train = y_train.replace(['Negative', 'OK', 'Positive'],[2,1,0])\n",
    "y_test = y_test.replace(['Negative', 'OK', 'Positive'],[2,1,0])"
   ]
  },
  {
   "cell_type": "code",
   "execution_count": 22,
   "id": "8c8d3b9e",
   "metadata": {},
   "outputs": [],
   "source": [
    "lsvm = LinearSVC(class_weight='balanced')\n",
    "l = lsvm.fit(X_train,y_train)"
   ]
  },
  {
   "cell_type": "markdown",
   "id": "0416820e",
   "metadata": {},
   "source": [
    "Prediction over train values"
   ]
  },
  {
   "cell_type": "code",
   "execution_count": 25,
   "id": "c5ab9a59",
   "metadata": {},
   "outputs": [],
   "source": [
    "pred_train = l.predict(X_train)"
   ]
  },
  {
   "cell_type": "code",
   "execution_count": 26,
   "id": "f268c8c0",
   "metadata": {},
   "outputs": [
    {
     "name": "stdout",
     "output_type": "stream",
     "text": [
      "Accuracy Train: 0.9358142160222553\n",
      "              precision    recall  f1-score   support\n",
      "\n",
      "    Negative       0.81      0.90      0.85      3847\n",
      "          OK       0.60      0.69      0.64      3014\n",
      "    Positive       0.98      0.96      0.97     42745\n",
      "\n",
      "    accuracy                           0.94     49606\n",
      "   macro avg       0.80      0.85      0.82     49606\n",
      "weighted avg       0.94      0.94      0.94     49606\n",
      "\n"
     ]
    }
   ],
   "source": [
    "print(\"Accuracy Train: {}\".format(accuracy_score(y_train,pred_train)))\n",
    "print(classification_report(y_train,pred_train))"
   ]
  },
  {
   "cell_type": "markdown",
   "id": "ff87a002",
   "metadata": {},
   "source": [
    "Prediction over test values"
   ]
  },
  {
   "cell_type": "code",
   "execution_count": 27,
   "id": "5f44c7a2",
   "metadata": {},
   "outputs": [
    {
     "name": "stdout",
     "output_type": "stream",
     "text": [
      "Accuracy Train: 0.8707962936832698\n",
      "              precision    recall  f1-score   support\n",
      "\n",
      "    Negative       0.63      0.67      0.65      1682\n",
      "          OK       0.28      0.30      0.29      1336\n",
      "    Positive       0.94      0.93      0.94     18243\n",
      "\n",
      "    accuracy                           0.87     21261\n",
      "   macro avg       0.62      0.63      0.63     21261\n",
      "weighted avg       0.88      0.87      0.87     21261\n",
      "\n"
     ]
    }
   ],
   "source": [
    "pred_test = l.predict(X_test)\n",
    "print(\"Accuracy Train: {}\".format(accuracy_score(y_test,pred_test)))\n",
    "print(classification_report(y_test,pred_test))"
   ]
  },
  {
   "cell_type": "code",
   "execution_count": 28,
   "id": "64a418ff",
   "metadata": {},
   "outputs": [],
   "source": [
    "train_cf_matrix = confusion_matrix(y_train, pred_train)\n",
    "test_cf_matrix = confusion_matrix(y_test, pred_test)"
   ]
  },
  {
   "cell_type": "code",
   "execution_count": 29,
   "id": "179b9243",
   "metadata": {},
   "outputs": [
    {
     "data": {
      "image/png": "[encoded data removed]",
      "text/plain": [
       "<Figure size 576x576 with 1 Axes>"
      ]
     },
     "metadata": {
      "needs_background": "light"
     },
     "output_type": "display_data"
    }
   ],
   "source": [
    "pp_matrix(pd.DataFrame(test_cf_matrix), cmap='PuRd')"
   ]
  },
  {
   "cell_type": "code",
   "execution_count": 30,
   "id": "7f907a0a",
   "metadata": {},
   "outputs": [
    {
     "data": {
      "text/plain": [
       "array([[ 1131,   200,   351],\n",
       "       [  218,   402,   716],\n",
       "       [  444,   818, 16981]])"
      ]
     },
     "execution_count": 30,
     "metadata": {},
     "output_type": "execute_result"
    }
   ],
   "source": [
    "test_cf_matrix"
   ]
  },
  {
   "cell_type": "markdown",
   "id": "244722d1",
   "metadata": {},
   "source": [
    "Using Random Forest Classifier"
   ]
  },
  {
   "cell_type": "markdown",
   "id": "4b85592f",
   "metadata": {},
   "source": [
    "Prediction over training values"
   ]
  },
  {
   "cell_type": "code",
   "execution_count": 31,
   "id": "953d1766",
   "metadata": {},
   "outputs": [],
   "source": [
    "rfc = RandomForestClassifier()\n",
    "rfc_model = rfc.fit(X_train, y_train)"
   ]
  },
  {
   "cell_type": "code",
   "execution_count": 32,
   "id": "964abcc4",
   "metadata": {},
   "outputs": [],
   "source": [
    "pred_train = rfc_model.predict(X_train)"
   ]
  },
  {
   "cell_type": "code",
   "execution_count": 33,
   "id": "17818455",
   "metadata": {},
   "outputs": [
    {
     "name": "stdout",
     "output_type": "stream",
     "text": [
      "Accuracy Train: 0.9994355521509495\n",
      "              precision    recall  f1-score   support\n",
      "\n",
      "    Negative       1.00      1.00      1.00      3847\n",
      "          OK       1.00      0.99      1.00      3014\n",
      "    Positive       1.00      1.00      1.00     42745\n",
      "\n",
      "    accuracy                           1.00     49606\n",
      "   macro avg       1.00      1.00      1.00     49606\n",
      "weighted avg       1.00      1.00      1.00     49606\n",
      "\n"
     ]
    }
   ],
   "source": [
    "print(\"Accuracy Train: {}\".format(accuracy_score(y_train,pred_train)))\n",
    "print(classification_report(y_train,pred_train))"
   ]
  },
  {
   "cell_type": "code",
   "execution_count": 34,
   "id": "67ad2aed",
   "metadata": {},
   "outputs": [
    {
     "name": "stdout",
     "output_type": "stream",
     "text": [
      "Accuracy Train: 0.8979351864916985\n",
      "              precision    recall  f1-score   support\n",
      "\n",
      "    Negative       0.93      0.43      0.59      1682\n",
      "          OK       0.90      0.13      0.22      1336\n",
      "    Positive       0.90      1.00      0.94     18243\n",
      "\n",
      "    accuracy                           0.90     21261\n",
      "   macro avg       0.91      0.52      0.59     21261\n",
      "weighted avg       0.90      0.90      0.87     21261\n",
      "\n"
     ]
    }
   ],
   "source": [
    "pred_test = rfc_model.predict(X_test)\n",
    "print(\"Accuracy Train: {}\".format(accuracy_score(y_test,pred_test)))\n",
    "print(classification_report(y_test,pred_test))"
   ]
  },
  {
   "cell_type": "code",
   "execution_count": 33,
   "id": "9cc5db62",
   "metadata": {},
   "outputs": [],
   "source": [
    "train_cf_matrix = confusion_matrix(y_train, pred_train)\n",
    "test_cf_matrix = confusion_matrix(y_test, pred_test)"
   ]
  },
  {
   "cell_type": "code",
   "execution_count": 34,
   "id": "56916bcc",
   "metadata": {},
   "outputs": [
    {
     "data": {
      "image/png": "[encoded data removed]",
      "text/plain": [
       "<Figure size 576x576 with 1 Axes>"
      ]
     },
     "metadata": {
      "needs_background": "light"
     },
     "output_type": "display_data"
    }
   ],
   "source": [
    "pp_matrix(pd.DataFrame(test_cf_matrix), cmap='PuRd')"
   ]
  },
  {
   "cell_type": "code",
   "execution_count": 35,
   "id": "b475e55f",
   "metadata": {},
   "outputs": [],
   "source": [
    "sgd = SGDClassifier()\n",
    "sgd_model = sgd.fit(X_train, y_train)"
   ]
  },
  {
   "cell_type": "code",
   "execution_count": 36,
   "id": "9e926bd6",
   "metadata": {},
   "outputs": [],
   "source": [
    "pred_train = sgd_model.predict(X_train)"
   ]
  },
  {
   "cell_type": "code",
   "execution_count": 37,
   "id": "c16cd579",
   "metadata": {},
   "outputs": [
    {
     "name": "stdout",
     "output_type": "stream",
     "text": [
      "Accuracy Train: 0.8956376244809096\n",
      "              precision    recall  f1-score   support\n",
      "\n",
      "    Negative       0.86      0.46      0.60      3847\n",
      "          OK       0.70      0.01      0.02      3014\n",
      "    Positive       0.90      1.00      0.94     42745\n",
      "\n",
      "    accuracy                           0.90     49606\n",
      "   macro avg       0.82      0.49      0.52     49606\n",
      "weighted avg       0.88      0.90      0.86     49606\n",
      "\n"
     ]
    }
   ],
   "source": [
    "print(\"Accuracy Train: {}\".format(accuracy_score(y_train,pred_train)))\n",
    "print(classification_report(y_train,pred_train))"
   ]
  },
  {
   "cell_type": "code",
   "execution_count": 38,
   "id": "4657ad87",
   "metadata": {},
   "outputs": [
    {
     "name": "stdout",
     "output_type": "stream",
     "text": [
      "Accuracy Train: 0.8892808428578147\n",
      "              precision    recall  f1-score   support\n",
      "\n",
      "    Negative       0.84      0.43      0.57      1682\n",
      "          OK       0.71      0.01      0.02      1336\n",
      "    Positive       0.89      1.00      0.94     18243\n",
      "\n",
      "    accuracy                           0.89     21261\n",
      "   macro avg       0.81      0.48      0.51     21261\n",
      "weighted avg       0.88      0.89      0.85     21261\n",
      "\n"
     ]
    }
   ],
   "source": [
    "pred_test = sgd_model.predict(X_test)\n",
    "print(\"Accuracy Train: {}\".format(accuracy_score(y_test,pred_test)))\n",
    "print(classification_report(y_test,pred_test))"
   ]
  },
  {
   "cell_type": "code",
   "execution_count": 39,
   "id": "41e92dbb",
   "metadata": {},
   "outputs": [
    {
     "data": {
      "image/png": "[encoded data removed]",
      "text/plain": [
       "<Figure size 576x576 with 1 Axes>"
      ]
     },
     "metadata": {
      "needs_background": "light"
     },
     "output_type": "display_data"
    }
   ],
   "source": [
    "test_cf_matrix = confusion_matrix(y_test, pred_test)\n",
    "pp_matrix(pd.DataFrame(test_cf_matrix))"
   ]
  },
  {
   "cell_type": "code",
   "execution_count": 40,
   "id": "8bf86244",
   "metadata": {},
   "outputs": [],
   "source": [
    "bagging = BaggingClassifier()\n",
    "bag_model = bagging.fit(X_train, y_train)"
   ]
  },
  {
   "cell_type": "code",
   "execution_count": 41,
   "id": "cd9edf06",
   "metadata": {},
   "outputs": [
    {
     "name": "stdout",
     "output_type": "stream",
     "text": [
      "Accuracy Train: 0.9929847195903722\n",
      "              precision    recall  f1-score   support\n",
      "\n",
      "    Negative       0.99      0.98      0.98      3847\n",
      "          OK       0.99      0.94      0.96      3014\n",
      "    Positive       0.99      1.00      1.00     42745\n",
      "\n",
      "    accuracy                           0.99     49606\n",
      "   macro avg       0.99      0.97      0.98     49606\n",
      "weighted avg       0.99      0.99      0.99     49606\n",
      "\n"
     ]
    }
   ],
   "source": [
    "pred_train = bag_model.predict(X_train)\n",
    "print(\"Accuracy Train: {}\".format(accuracy_score(y_train,pred_train)))\n",
    "print(classification_report(y_train,pred_train))"
   ]
  },
  {
   "cell_type": "code",
   "execution_count": 42,
   "id": "759154bf",
   "metadata": {},
   "outputs": [
    {
     "name": "stdout",
     "output_type": "stream",
     "text": [
      "Accuracy Train: 0.8879168430459526\n",
      "              precision    recall  f1-score   support\n",
      "\n",
      "    Negative       0.70      0.56      0.62      1682\n",
      "          OK       0.45      0.18      0.26      1336\n",
      "    Positive       0.91      0.97      0.94     18243\n",
      "\n",
      "    accuracy                           0.89     21261\n",
      "   macro avg       0.69      0.57      0.61     21261\n",
      "weighted avg       0.87      0.89      0.87     21261\n",
      "\n"
     ]
    }
   ],
   "source": [
    "pred_test = bag_model.predict(X_test)\n",
    "print(\"Accuracy Train: {}\".format(accuracy_score(y_test,pred_test)))\n",
    "print(classification_report(y_test,pred_test))"
   ]
  },
  {
   "cell_type": "markdown",
   "id": "ceae5468",
   "metadata": {},
   "source": [
    "The main parameters used by a Random Forest Classifier are:\n",
    "\n",
    "- criterion = the function used to evaluate the quality of a split.\n",
    "- max_depth = maximum number of levels allowed in each tree.\n",
    "- max_features = maximum number of features considered when splitting a node.\n",
    "- min_samples_leaf = minimum number of samples which can be stored in a tree leaf.\n",
    "- min_samples_split = minimum number of samples necessary in a node to cause node splitting.\n",
    "- n_estimators = number of trees in the ensamble."
   ]
  },
  {
   "cell_type": "code",
   "execution_count": 41,
   "id": "7980a0a9",
   "metadata": {},
   "outputs": [],
   "source": [
    "###  Manual Hyperparameter Tuning\n",
    "rfc_hypertuned = RandomForestClassifier(n_estimators=300, criterion='entropy', max_features='sqrt', random_state=100)\n",
    "rfc_hypertuned_model = rfc_hypertuned.fit(X_train, y_train)"
   ]
  },
  {
   "cell_type": "code",
   "execution_count": 42,
   "id": "275d01a2",
   "metadata": {},
   "outputs": [
    {
     "name": "stdout",
     "output_type": "stream",
     "text": [
      "Accuracy Train: 0.9994557110027013\n",
      "              precision    recall  f1-score   support\n",
      "\n",
      "    Negative       1.00      1.00      1.00      3847\n",
      "          OK       1.00      0.99      1.00      3014\n",
      "    Positive       1.00      1.00      1.00     42745\n",
      "\n",
      "    accuracy                           1.00     49606\n",
      "   macro avg       1.00      1.00      1.00     49606\n",
      "weighted avg       1.00      1.00      1.00     49606\n",
      "\n"
     ]
    }
   ],
   "source": [
    "pred_train = rfc_hypertuned_model.predict(X_train)\n",
    "print(\"Accuracy Train: {}\".format(accuracy_score(y_train,pred_train)))\n",
    "print(classification_report(y_train,pred_train))"
   ]
  },
  {
   "cell_type": "code",
   "execution_count": 43,
   "id": "b590f24a",
   "metadata": {},
   "outputs": [
    {
     "name": "stdout",
     "output_type": "stream",
     "text": [
      "Accuracy Train: 0.8965711866798364\n",
      "              precision    recall  f1-score   support\n",
      "\n",
      "    Negative       0.95      0.40      0.57      1682\n",
      "          OK       0.95      0.12      0.22      1336\n",
      "    Positive       0.89      1.00      0.94     18243\n",
      "\n",
      "    accuracy                           0.90     21261\n",
      "   macro avg       0.93      0.51      0.58     21261\n",
      "weighted avg       0.90      0.90      0.87     21261\n",
      "\n"
     ]
    }
   ],
   "source": [
    "pred_test = rfc_hypertuned_model.predict(X_test)\n",
    "print(\"Accuracy Train: {}\".format(accuracy_score(y_test,pred_test)))\n",
    "print(classification_report(y_test,pred_test))"
   ]
  },
  {
   "cell_type": "markdown",
   "id": "3e8ce422",
   "metadata": {},
   "source": [
    "Accuracy reduced, right now no perfect set of hyperparameters decided of found out"
   ]
  },
  {
   "cell_type": "markdown",
   "id": "f8ffedf9",
   "metadata": {},
   "source": [
    "Randomized Search CV"
   ]
  },
  {
   "cell_type": "code",
   "execution_count": 74,
   "id": "29c02579",
   "metadata": {},
   "outputs": [
    {
     "name": "stdout",
     "output_type": "stream",
     "text": [
      "{'n_estimators': [200], 'max_features': ['sqrt', 'log2'], 'criterion': ['entropy', 'gini'], 'class_weight': ['balanced', 'balanced_subsamples']}\n"
     ]
    }
   ],
   "source": [
    "#  Make the parameters\n",
    "#  Number of trees in random forest\n",
    "n_estimators = [200]\n",
    "# Number of features to consider at every split\n",
    "max_features = ['sqrt','log2']\n",
    "# Ability for the split: Criterion\n",
    "criterion = ['entropy', 'gini']\n",
    "# Class Weight: total observations / (number of classes * observations in class)\n",
    "class_weight = ['balanced', 'balanced_subsamples']\n",
    "# Maximum number of levels in tree\n",
    "# max_depth = [int(x) for x in np.linspace(10, 1000,10)]\n",
    "# Minimum number of samples required to split a node\n",
    "min_samples_split = [2, 5, 10,14]\n",
    "# Minimum number of samples required at each leaf node\n",
    "min_samples_leaf = [1,2,4,6,8]\n",
    "# Create the random grid\n",
    "random_grid = {'n_estimators': n_estimators,\n",
    "               'max_features': max_features,\n",
    "               'criterion':criterion,\n",
    "               'class_weight':class_weight}\n",
    "print(random_grid)"
   ]
  },
  {
   "cell_type": "code",
   "execution_count": 75,
   "id": "670bd5d8",
   "metadata": {},
   "outputs": [
    {
     "name": "stdout",
     "output_type": "stream",
     "text": [
      "Fitting 3 folds for each of 8 candidates, totalling 24 fits\n"
     ]
    },
    {
     "name": "stderr",
     "output_type": "stream",
     "text": [
      "/home/lenovo/anaconda3/lib/python3.9/site-packages/sklearn/model_selection/_search.py:306: UserWarning: The total space of parameters 8 is smaller than n_iter=10. Running 8 iterations. For exhaustive searches, use GridSearchCV.\n",
      "  warnings.warn(\n"
     ]
    },
    {
     "name": "stdout",
     "output_type": "stream",
     "text": [
      "[CV] END class_weight=balanced, criterion=entropy, max_features=sqrt, n_estimators=200; total time= 5.3min\n",
      "[CV] END class_weight=balanced_subsamples, criterion=entropy, max_features=sqrt, n_estimators=200; total time=   0.1s\n",
      "[CV] END class_weight=balanced_subsamples, criterion=entropy, max_features=sqrt, n_estimators=200; total time=   0.1s\n",
      "[CV] END class_weight=balanced_subsamples, criterion=entropy, max_features=sqrt, n_estimators=200; total time=   0.1s\n",
      "[CV] END class_weight=balanced_subsamples, criterion=entropy, max_features=log2, n_estimators=200; total time=   0.1s\n",
      "[CV] END class_weight=balanced_subsamples, criterion=entropy, max_features=log2, n_estimators=200; total time=   0.1s\n",
      "[CV] END class_weight=balanced_subsamples, criterion=entropy, max_features=log2, n_estimators=200; total time=   0.1s\n",
      "[CV] END class_weight=balanced_subsamples, criterion=gini, max_features=sqrt, n_estimators=200; total time=   0.1s\n",
      "[CV] END class_weight=balanced_subsamples, criterion=gini, max_features=sqrt, n_estimators=200; total time=   0.1s\n",
      "[CV] END class_weight=balanced_subsamples, criterion=gini, max_features=sqrt, n_estimators=200; total time=   0.1s\n",
      "[CV] END class_weight=balanced_subsamples, criterion=gini, max_features=log2, n_estimators=200; total time=   0.1s\n",
      "[CV] END class_weight=balanced_subsamples, criterion=gini, max_features=log2, n_estimators=200; total time=   0.1s\n",
      "[CV] END class_weight=balanced_subsamples, criterion=gini, max_features=log2, n_estimators=200; total time=   0.1s\n"
     ]
    },
    {
     "name": "stderr",
     "output_type": "stream",
     "text": [
      "/home/lenovo/anaconda3/lib/python3.9/site-packages/sklearn/model_selection/_validation.py:378: FitFailedWarning: \n",
      "12 fits failed out of a total of 24.\n",
      "The score on these train-test partitions for these parameters will be set to nan.\n",
      "If these failures are not expected, you can try to debug them by setting error_score='raise'.\n",
      "\n",
      "Below are more details about the failures:\n",
      "--------------------------------------------------------------------------------\n",
      "12 fits failed with the following error:\n",
      "Traceback (most recent call last):\n",
      "  File \"/home/lenovo/anaconda3/lib/python3.9/site-packages/sklearn/model_selection/_validation.py\", line 686, in _fit_and_score\n",
      "    estimator.fit(X_train, y_train, **fit_params)\n",
      "  File \"/home/lenovo/anaconda3/lib/python3.9/site-packages/sklearn/ensemble/_forest.py\", line 371, in fit\n",
      "    y, expanded_class_weight = self._validate_y_class_weight(y)\n",
      "  File \"/home/lenovo/anaconda3/lib/python3.9/site-packages/sklearn/ensemble/_forest.py\", line 782, in _validate_y_class_weight\n",
      "    raise ValueError(\n",
      "ValueError: Valid presets for class_weight include \"balanced\" and \"balanced_subsample\".Given \"balanced_subsamples\".\n",
      "\n",
      "  warnings.warn(some_fits_failed_message, FitFailedWarning)\n",
      "/home/lenovo/anaconda3/lib/python3.9/site-packages/sklearn/model_selection/_search.py:953: UserWarning: One or more of the test scores are non-finite: [0.8914849  0.88507439 0.89239202 0.88513485        nan        nan\n",
      "        nan        nan]\n",
      "  warnings.warn(\n"
     ]
    },
    {
     "name": "stdout",
     "output_type": "stream",
     "text": [
      "[CV] END class_weight=balanced, criterion=entropy, max_features=log2, n_estimators=200; total time= 7.1min\n",
      "[CV] END class_weight=balanced, criterion=entropy, max_features=log2, n_estimators=200; total time= 7.1min\n",
      "[CV] END class_weight=balanced, criterion=entropy, max_features=log2, n_estimators=200; total time= 7.3min\n",
      "[CV] END class_weight=balanced, criterion=entropy, max_features=sqrt, n_estimators=200; total time= 5.2min\n",
      "[CV] END class_weight=balanced, criterion=gini, max_features=sqrt, n_estimators=200; total time= 3.9min\n",
      "[CV] END class_weight=balanced, criterion=gini, max_features=sqrt, n_estimators=200; total time= 5.2min\n",
      "[CV] END class_weight=balanced, criterion=gini, max_features=log2, n_estimators=200; total time= 5.2min\n",
      "[CV] END class_weight=balanced, criterion=entropy, max_features=sqrt, n_estimators=200; total time= 5.3min\n",
      "[CV] END class_weight=balanced, criterion=gini, max_features=log2, n_estimators=200; total time= 5.1min\n",
      "[CV] END class_weight=balanced, criterion=gini, max_features=sqrt, n_estimators=200; total time= 5.2min\n",
      "[CV] END class_weight=balanced, criterion=gini, max_features=log2, n_estimators=200; total time= 5.2min\n"
     ]
    },
    {
     "data": {
      "text/html": [
       "<style>#sk-container-id-3 {color: black;background-color: white;}#sk-container-id-3 pre{padding: 0;}#sk-container-id-3 div.sk-toggleable {background-color: white;}#sk-container-id-3 label.sk-toggleable__label {cursor: pointer;display: block;width: 100%;margin-bottom: 0;padding: 0.3em;box-sizing: border-box;text-align: center;}#sk-container-id-3 label.sk-toggleable__label-arrow:before {content: \"▸\";float: left;margin-right: 0.25em;color: #696969;}#sk-container-id-3 label.sk-toggleable__label-arrow:hover:before {color: black;}#sk-container-id-3 div.sk-estimator:hover label.sk-toggleable__label-arrow:before {color: black;}#sk-container-id-3 div.sk-toggleable__content {max-height: 0;max-width: 0;overflow: hidden;text-align: left;background-color: #f0f8ff;}#sk-container-id-3 div.sk-toggleable__content pre {margin: 0.2em;color: black;border-radius: 0.25em;background-color: #f0f8ff;}#sk-container-id-3 input.sk-toggleable__control:checked~div.sk-toggleable__content {max-height: 200px;max-width: 100%;overflow: auto;}#sk-container-id-3 input.sk-toggleable__control:checked~label.sk-toggleable__label-arrow:before {content: \"▾\";}#sk-container-id-3 div.sk-estimator input.sk-toggleable__control:checked~label.sk-toggleable__label {background-color: #d4ebff;}#sk-container-id-3 div.sk-label input.sk-toggleable__control:checked~label.sk-toggleable__label {background-color: #d4ebff;}#sk-container-id-3 input.sk-hidden--visually {border: 0;clip: rect(1px 1px 1px 1px);clip: rect(1px, 1px, 1px, 1px);height: 1px;margin: -1px;overflow: hidden;padding: 0;position: absolute;width: 1px;}#sk-container-id-3 div.sk-estimator {font-family: monospace;background-color: #f0f8ff;border: 1px dotted black;border-radius: 0.25em;box-sizing: border-box;margin-bottom: 0.5em;}#sk-container-id-3 div.sk-estimator:hover {background-color: #d4ebff;}#sk-container-id-3 div.sk-parallel-item::after {content: \"\";width: 100%;border-bottom: 1px solid gray;flex-grow: 1;}#sk-container-id-3 div.sk-label:hover label.sk-toggleable__label {background-color: #d4ebff;}#sk-container-id-3 div.sk-serial::before {content: \"\";position: absolute;border-left: 1px solid gray;box-sizing: border-box;top: 0;bottom: 0;left: 50%;z-index: 0;}#sk-container-id-3 div.sk-serial {display: flex;flex-direction: column;align-items: center;background-color: white;padding-right: 0.2em;padding-left: 0.2em;position: relative;}#sk-container-id-3 div.sk-item {position: relative;z-index: 1;}#sk-container-id-3 div.sk-parallel {display: flex;align-items: stretch;justify-content: center;background-color: white;position: relative;}#sk-container-id-3 div.sk-item::before, #sk-container-id-3 div.sk-parallel-item::before {content: \"\";position: absolute;border-left: 1px solid gray;box-sizing: border-box;top: 0;bottom: 0;left: 50%;z-index: -1;}#sk-container-id-3 div.sk-parallel-item {display: flex;flex-direction: column;z-index: 1;position: relative;background-color: white;}#sk-container-id-3 div.sk-parallel-item:first-child::after {align-self: flex-end;width: 50%;}#sk-container-id-3 div.sk-parallel-item:last-child::after {align-self: flex-start;width: 50%;}#sk-container-id-3 div.sk-parallel-item:only-child::after {width: 0;}#sk-container-id-3 div.sk-dashed-wrapped {border: 1px dashed gray;margin: 0 0.4em 0.5em 0.4em;box-sizing: border-box;padding-bottom: 0.4em;background-color: white;}#sk-container-id-3 div.sk-label label {font-family: monospace;font-weight: bold;display: inline-block;line-height: 1.2em;}#sk-container-id-3 div.sk-label-container {text-align: center;}#sk-container-id-3 div.sk-container {/* jupyter's `normalize.less` sets `[hidden] { display: none; }` but bootstrap.min.css set `[hidden] { display: none !important; }` so we also need the `!important` here to be able to override the default hidden behavior on the sphinx rendered scikit-learn.org. See: https://github.com/scikit-learn/scikit-learn/issues/21755 */display: inline-block !important;position: relative;}#sk-container-id-3 div.sk-text-repr-fallback {display: none;}</style><div id=\"sk-container-id-3\" class=\"sk-top-container\"><div class=\"sk-text-repr-fallback\"><pre>RandomizedSearchCV(cv=3, estimator=RandomForestClassifier(), n_jobs=-1,\n",
       "                   param_distributions={&#x27;class_weight&#x27;: [&#x27;balanced&#x27;,\n",
       "                                                         &#x27;balanced_subsamples&#x27;],\n",
       "                                        &#x27;criterion&#x27;: [&#x27;entropy&#x27;, &#x27;gini&#x27;],\n",
       "                                        &#x27;max_features&#x27;: [&#x27;sqrt&#x27;, &#x27;log2&#x27;],\n",
       "                                        &#x27;n_estimators&#x27;: [200]},\n",
       "                   random_state=100, verbose=2)</pre><b>In a Jupyter environment, please rerun this cell to show the HTML representation or trust the notebook. <br />On GitHub, the HTML representation is unable to render, please try loading this page with nbviewer.org.</b></div><div class=\"sk-container\" hidden><div class=\"sk-item sk-dashed-wrapped\"><div class=\"sk-label-container\"><div class=\"sk-label sk-toggleable\"><input class=\"sk-toggleable__control sk-hidden--visually\" id=\"sk-estimator-id-5\" type=\"checkbox\" ><label for=\"sk-estimator-id-5\" class=\"sk-toggleable__label sk-toggleable__label-arrow\">RandomizedSearchCV</label><div class=\"sk-toggleable__content\"><pre>RandomizedSearchCV(cv=3, estimator=RandomForestClassifier(), n_jobs=-1,\n",
       "                   param_distributions={&#x27;class_weight&#x27;: [&#x27;balanced&#x27;,\n",
       "                                                         &#x27;balanced_subsamples&#x27;],\n",
       "                                        &#x27;criterion&#x27;: [&#x27;entropy&#x27;, &#x27;gini&#x27;],\n",
       "                                        &#x27;max_features&#x27;: [&#x27;sqrt&#x27;, &#x27;log2&#x27;],\n",
       "                                        &#x27;n_estimators&#x27;: [200]},\n",
       "                   random_state=100, verbose=2)</pre></div></div></div><div class=\"sk-parallel\"><div class=\"sk-parallel-item\"><div class=\"sk-item\"><div class=\"sk-label-container\"><div class=\"sk-label sk-toggleable\"><input class=\"sk-toggleable__control sk-hidden--visually\" id=\"sk-estimator-id-6\" type=\"checkbox\" ><label for=\"sk-estimator-id-6\" class=\"sk-toggleable__label sk-toggleable__label-arrow\">estimator: RandomForestClassifier</label><div class=\"sk-toggleable__content\"><pre>RandomForestClassifier()</pre></div></div></div><div class=\"sk-serial\"><div class=\"sk-item\"><div class=\"sk-estimator sk-toggleable\"><input class=\"sk-toggleable__control sk-hidden--visually\" id=\"sk-estimator-id-7\" type=\"checkbox\" ><label for=\"sk-estimator-id-7\" class=\"sk-toggleable__label sk-toggleable__label-arrow\">RandomForestClassifier</label><div class=\"sk-toggleable__content\"><pre>RandomForestClassifier()</pre></div></div></div></div></div></div></div></div></div></div>"
      ],
      "text/plain": [
       "RandomizedSearchCV(cv=3, estimator=RandomForestClassifier(), n_jobs=-1,\n",
       "                   param_distributions={'class_weight': ['balanced',\n",
       "                                                         'balanced_subsamples'],\n",
       "                                        'criterion': ['entropy', 'gini'],\n",
       "                                        'max_features': ['sqrt', 'log2'],\n",
       "                                        'n_estimators': [200]},\n",
       "                   random_state=100, verbose=2)"
      ]
     },
     "execution_count": 75,
     "metadata": {},
     "output_type": "execute_result"
    }
   ],
   "source": [
    "rfc_randomcv_model=RandomizedSearchCV(estimator=rfc,param_distributions=random_grid,n_iter=10,cv=3,verbose=2,random_state=100,n_jobs=-1)\n",
    "rfc_randomcv_model.fit(X_train, y_train)"
   ]
  },
  {
   "cell_type": "code",
   "execution_count": 76,
   "id": "a3ecb6fd",
   "metadata": {},
   "outputs": [
    {
     "data": {
      "text/html": [
       "<style>#sk-container-id-4 {color: black;background-color: white;}#sk-container-id-4 pre{padding: 0;}#sk-container-id-4 div.sk-toggleable {background-color: white;}#sk-container-id-4 label.sk-toggleable__label {cursor: pointer;display: block;width: 100%;margin-bottom: 0;padding: 0.3em;box-sizing: border-box;text-align: center;}#sk-container-id-4 label.sk-toggleable__label-arrow:before {content: \"▸\";float: left;margin-right: 0.25em;color: #696969;}#sk-container-id-4 label.sk-toggleable__label-arrow:hover:before {color: black;}#sk-container-id-4 div.sk-estimator:hover label.sk-toggleable__label-arrow:before {color: black;}#sk-container-id-4 div.sk-toggleable__content {max-height: 0;max-width: 0;overflow: hidden;text-align: left;background-color: #f0f8ff;}#sk-container-id-4 div.sk-toggleable__content pre {margin: 0.2em;color: black;border-radius: 0.25em;background-color: #f0f8ff;}#sk-container-id-4 input.sk-toggleable__control:checked~div.sk-toggleable__content {max-height: 200px;max-width: 100%;overflow: auto;}#sk-container-id-4 input.sk-toggleable__control:checked~label.sk-toggleable__label-arrow:before {content: \"▾\";}#sk-container-id-4 div.sk-estimator input.sk-toggleable__control:checked~label.sk-toggleable__label {background-color: #d4ebff;}#sk-container-id-4 div.sk-label input.sk-toggleable__control:checked~label.sk-toggleable__label {background-color: #d4ebff;}#sk-container-id-4 input.sk-hidden--visually {border: 0;clip: rect(1px 1px 1px 1px);clip: rect(1px, 1px, 1px, 1px);height: 1px;margin: -1px;overflow: hidden;padding: 0;position: absolute;width: 1px;}#sk-container-id-4 div.sk-estimator {font-family: monospace;background-color: #f0f8ff;border: 1px dotted black;border-radius: 0.25em;box-sizing: border-box;margin-bottom: 0.5em;}#sk-container-id-4 div.sk-estimator:hover {background-color: #d4ebff;}#sk-container-id-4 div.sk-parallel-item::after {content: \"\";width: 100%;border-bottom: 1px solid gray;flex-grow: 1;}#sk-container-id-4 div.sk-label:hover label.sk-toggleable__label {background-color: #d4ebff;}#sk-container-id-4 div.sk-serial::before {content: \"\";position: absolute;border-left: 1px solid gray;box-sizing: border-box;top: 0;bottom: 0;left: 50%;z-index: 0;}#sk-container-id-4 div.sk-serial {display: flex;flex-direction: column;align-items: center;background-color: white;padding-right: 0.2em;padding-left: 0.2em;position: relative;}#sk-container-id-4 div.sk-item {position: relative;z-index: 1;}#sk-container-id-4 div.sk-parallel {display: flex;align-items: stretch;justify-content: center;background-color: white;position: relative;}#sk-container-id-4 div.sk-item::before, #sk-container-id-4 div.sk-parallel-item::before {content: \"\";position: absolute;border-left: 1px solid gray;box-sizing: border-box;top: 0;bottom: 0;left: 50%;z-index: -1;}#sk-container-id-4 div.sk-parallel-item {display: flex;flex-direction: column;z-index: 1;position: relative;background-color: white;}#sk-container-id-4 div.sk-parallel-item:first-child::after {align-self: flex-end;width: 50%;}#sk-container-id-4 div.sk-parallel-item:last-child::after {align-self: flex-start;width: 50%;}#sk-container-id-4 div.sk-parallel-item:only-child::after {width: 0;}#sk-container-id-4 div.sk-dashed-wrapped {border: 1px dashed gray;margin: 0 0.4em 0.5em 0.4em;box-sizing: border-box;padding-bottom: 0.4em;background-color: white;}#sk-container-id-4 div.sk-label label {font-family: monospace;font-weight: bold;display: inline-block;line-height: 1.2em;}#sk-container-id-4 div.sk-label-container {text-align: center;}#sk-container-id-4 div.sk-container {/* jupyter's `normalize.less` sets `[hidden] { display: none; }` but bootstrap.min.css set `[hidden] { display: none !important; }` so we also need the `!important` here to be able to override the default hidden behavior on the sphinx rendered scikit-learn.org. See: https://github.com/scikit-learn/scikit-learn/issues/21755 */display: inline-block !important;position: relative;}#sk-container-id-4 div.sk-text-repr-fallback {display: none;}</style><div id=\"sk-container-id-4\" class=\"sk-top-container\"><div class=\"sk-text-repr-fallback\"><pre>RandomForestClassifier(class_weight=&#x27;balanced&#x27;, n_estimators=200)</pre><b>In a Jupyter environment, please rerun this cell to show the HTML representation or trust the notebook. <br />On GitHub, the HTML representation is unable to render, please try loading this page with nbviewer.org.</b></div><div class=\"sk-container\" hidden><div class=\"sk-item\"><div class=\"sk-estimator sk-toggleable\"><input class=\"sk-toggleable__control sk-hidden--visually\" id=\"sk-estimator-id-8\" type=\"checkbox\" checked><label for=\"sk-estimator-id-8\" class=\"sk-toggleable__label sk-toggleable__label-arrow\">RandomForestClassifier</label><div class=\"sk-toggleable__content\"><pre>RandomForestClassifier(class_weight=&#x27;balanced&#x27;, n_estimators=200)</pre></div></div></div></div></div>"
      ],
      "text/plain": [
       "RandomForestClassifier(class_weight='balanced', n_estimators=200)"
      ]
     },
     "execution_count": 76,
     "metadata": {},
     "output_type": "execute_result"
    }
   ],
   "source": [
    "rfc_randomcv_model.best_estimator_"
   ]
  },
  {
   "cell_type": "code",
   "execution_count": 77,
   "id": "841aaa7b",
   "metadata": {},
   "outputs": [
    {
     "data": {
      "text/plain": [
       "{'n_estimators': 200,\n",
       " 'max_features': 'sqrt',\n",
       " 'criterion': 'gini',\n",
       " 'class_weight': 'balanced'}"
      ]
     },
     "execution_count": 77,
     "metadata": {},
     "output_type": "execute_result"
    }
   ],
   "source": [
    "rfc_randomcv_model.best_params_"
   ]
  },
  {
   "cell_type": "code",
   "execution_count": 78,
   "id": "7ed9ccb2",
   "metadata": {},
   "outputs": [
    {
     "name": "stdout",
     "output_type": "stream",
     "text": [
      "Accuracy Train: 0.9990928516711688\n",
      "              precision    recall  f1-score   support\n",
      "\n",
      "    Negative       1.00      1.00      1.00      3847\n",
      "          OK       0.99      1.00      0.99      3014\n",
      "    Positive       1.00      1.00      1.00     42745\n",
      "\n",
      "    accuracy                           1.00     49606\n",
      "   macro avg       1.00      1.00      1.00     49606\n",
      "weighted avg       1.00      1.00      1.00     49606\n",
      "\n"
     ]
    }
   ],
   "source": [
    "pred_train = rfc_randomcv_model.predict(X_train)\n",
    "print(\"Accuracy Train: {}\".format(accuracy_score(y_train,pred_train)))\n",
    "print(classification_report(y_train,pred_train))"
   ]
  },
  {
   "cell_type": "code",
   "execution_count": 79,
   "id": "e02ff398",
   "metadata": {},
   "outputs": [
    {
     "name": "stdout",
     "output_type": "stream",
     "text": [
      "Accuracy Train: 0.896430083251023\n",
      "              precision    recall  f1-score   support\n",
      "\n",
      "    Negative       0.96      0.42      0.58      1682\n",
      "          OK       0.80      0.12      0.21      1336\n",
      "    Positive       0.90      1.00      0.94     18243\n",
      "\n",
      "    accuracy                           0.90     21261\n",
      "   macro avg       0.89      0.51      0.58     21261\n",
      "weighted avg       0.89      0.90      0.87     21261\n",
      "\n"
     ]
    }
   ],
   "source": [
    "pred_test = rfc_randomcv_model.predict(X_test)\n",
    "print(\"Accuracy Train: {}\".format(accuracy_score(y_test,pred_test)))\n",
    "print(classification_report(y_test,pred_test))"
   ]
  },
  {
   "cell_type": "markdown",
   "id": "436513ed",
   "metadata": {},
   "source": [
    "Automated Hyperparameter Tuning can be done by using techniques such as\n",
    "\n",
    "- Bayesian Optimization\n",
    "- Gradient Descent\n",
    "- Evolutionary Algorithms\n",
    "### Bayesian Optimization ###\n",
    "Bayesian optimization uses probability to find the minimum of a function. The final aim is to find the input value to a function which can gives us the lowest possible output value.It usually performs better than random,grid and manual search providing better performance in the testing phase and reduced optimization time. In Hyperopt, Bayesian Optimization can be implemented giving 3 three main parameters to the function fmin.\n",
    "\n",
    "- Objective Function = defines the loss function to minimize.\n",
    "- Domain Space = defines the range of input values to test (in Bayesian Optimization this space creates a probability distribution for each of the used Hyperparameters).\n",
    "- Optimization Algorithm = defines the search algorithm to use to select the best input values to use in each new iteration."
   ]
  },
  {
   "cell_type": "code",
   "execution_count": 61,
   "id": "b52b6b0e",
   "metadata": {},
   "outputs": [],
   "source": [
    "space = {'criterion': hp.choice('criterion', ['entropy', 'gini']),\n",
    "        'max_features': hp.choice('max_features', ['sqrt','log2']),\n",
    "        'min_samples_split' : hp.uniform ('min_samples_split', 0, 1),\n",
    "        'n_estimators' : hp.choice('n_estimators', [10, 50, 300])\n",
    "    }"
   ]
  },
  {
   "cell_type": "code",
   "execution_count": 62,
   "id": "8adce9fd",
   "metadata": {},
   "outputs": [
    {
     "data": {
      "text/plain": [
       "{'criterion': <hyperopt.pyll.base.Apply at 0x7f02f6bd5b20>,\n",
       " 'max_features': <hyperopt.pyll.base.Apply at 0x7f02f6bd4ca0>,\n",
       " 'min_samples_leaf': <hyperopt.pyll.base.Apply at 0x7f02f6bd4850>,\n",
       " 'min_samples_split': <hyperopt.pyll.base.Apply at 0x7f02f6bd4e80>,\n",
       " 'n_estimators': <hyperopt.pyll.base.Apply at 0x7f02f6bd4fd0>}"
      ]
     },
     "execution_count": 62,
     "metadata": {},
     "output_type": "execute_result"
    }
   ],
   "source": [
    "space"
   ]
  },
  {
   "cell_type": "code",
   "execution_count": 68,
   "id": "e4dad6dd",
   "metadata": {},
   "outputs": [],
   "source": [
    "def objective(space):\n",
    "    model = RandomForestClassifier(criterion = space['criterion'], \n",
    "                                 max_features = space['max_features'],\n",
    "                                 min_samples_leaf = space['min_samples_leaf'],\n",
    "                                 min_samples_split = space['min_samples_split'],\n",
    "                                 n_estimators = space['n_estimators'], \n",
    "                                 )\n",
    "    \n",
    "    accuracy = cross_val_score(model, X_train, y_train, cv = 5).mean()\n",
    "\n",
    "    # We aim to maximize accuracy, therefore we return it as a negative value\n",
    "    return {'loss': -accuracy, 'status': STATUS_OK }"
   ]
  },
  {
   "cell_type": "code",
   "execution_count": 69,
   "id": "7af30afb",
   "metadata": {},
   "outputs": [
    {
     "name": "stdout",
     "output_type": "stream",
     "text": [
      "100%|████████| 20/20 [01:30<00:00,  4.53s/trial, best loss: -0.8616901195314787]\n"
     ]
    }
   ],
   "source": [
    "trials = Trials()\n",
    "best = fmin(fn= objective,\n",
    "            space= space,\n",
    "            algo= tpe.suggest,\n",
    "            max_evals = 20,\n",
    "            trials= trials)"
   ]
  },
  {
   "cell_type": "code",
   "execution_count": 70,
   "id": "e6389652",
   "metadata": {},
   "outputs": [
    {
     "name": "stdout",
     "output_type": "stream",
     "text": [
      "entropy\n",
      "auto\n",
      "300\n"
     ]
    }
   ],
   "source": [
    "crit = {0: 'entropy', 1: 'gini'}\n",
    "feat = {0: 'auto', 1: 'sqrt', 2: 'log2', 3: None}\n",
    "est = {0: 10, 1: 50, 2: 300, 3: 750, 4: 1200,5:1300,6:1500}\n",
    "\n",
    "\n",
    "print(crit[best['criterion']])\n",
    "print(feat[best['max_features']])\n",
    "print(est[best['n_estimators']])"
   ]
  },
  {
   "cell_type": "code",
   "execution_count": 71,
   "id": "a01abc5d",
   "metadata": {},
   "outputs": [
    {
     "data": {
      "text/plain": [
       "0.4464365877066836"
      ]
     },
     "execution_count": 71,
     "metadata": {},
     "output_type": "execute_result"
    }
   ],
   "source": [
    "best['min_samples_leaf']"
   ]
  },
  {
   "cell_type": "code",
   "execution_count": 72,
   "id": "99b2305e",
   "metadata": {},
   "outputs": [
    {
     "name": "stderr",
     "output_type": "stream",
     "text": [
      "/home/lenovo/anaconda3/lib/python3.9/site-packages/sklearn/ensemble/_forest.py:427: FutureWarning: `max_features='auto'` has been deprecated in 1.1 and will be removed in 1.3. To keep the past behaviour, explicitly set `max_features='sqrt'` or remove this parameter as it is also the default value for RandomForestClassifiers and ExtraTreesClassifiers.\n",
      "  warn(\n"
     ]
    }
   ],
   "source": [
    "trainedforest = RandomForestClassifier(criterion = crit[best['criterion']], \n",
    "                                       max_features = feat[best['max_features']], \n",
    "                                       min_samples_leaf = best['min_samples_leaf'], \n",
    "                                       min_samples_split = best['min_samples_split'], \n",
    "                                       n_estimators = est[best['n_estimators']]).fit(X_train,y_train)"
   ]
  },
  {
   "cell_type": "code",
   "execution_count": 73,
   "id": "2b068a9b",
   "metadata": {},
   "outputs": [
    {
     "name": "stdout",
     "output_type": "stream",
     "text": [
      "Accuracy Train: 0.8616901181308713\n"
     ]
    },
    {
     "name": "stderr",
     "output_type": "stream",
     "text": [
      "/home/lenovo/anaconda3/lib/python3.9/site-packages/sklearn/metrics/_classification.py:1327: UndefinedMetricWarning: Precision and F-score are ill-defined and being set to 0.0 in labels with no predicted samples. Use `zero_division` parameter to control this behavior.\n",
      "  _warn_prf(average, modifier, msg_start, len(result))\n",
      "/home/lenovo/anaconda3/lib/python3.9/site-packages/sklearn/metrics/_classification.py:1327: UndefinedMetricWarning: Precision and F-score are ill-defined and being set to 0.0 in labels with no predicted samples. Use `zero_division` parameter to control this behavior.\n",
      "  _warn_prf(average, modifier, msg_start, len(result))\n"
     ]
    },
    {
     "name": "stdout",
     "output_type": "stream",
     "text": [
      "              precision    recall  f1-score   support\n",
      "\n",
      "    Negative       0.00      0.00      0.00      3847\n",
      "          OK       0.00      0.00      0.00      3014\n",
      "    Positive       0.86      1.00      0.93     42745\n",
      "\n",
      "    accuracy                           0.86     49606\n",
      "   macro avg       0.29      0.33      0.31     49606\n",
      "weighted avg       0.74      0.86      0.80     49606\n",
      "\n"
     ]
    },
    {
     "name": "stderr",
     "output_type": "stream",
     "text": [
      "/home/lenovo/anaconda3/lib/python3.9/site-packages/sklearn/metrics/_classification.py:1327: UndefinedMetricWarning: Precision and F-score are ill-defined and being set to 0.0 in labels with no predicted samples. Use `zero_division` parameter to control this behavior.\n",
      "  _warn_prf(average, modifier, msg_start, len(result))\n"
     ]
    }
   ],
   "source": [
    "pred_train = trainedforest.predict(X_train)\n",
    "print(\"Accuracy Train: {}\".format(accuracy_score(y_train,pred_train)))\n",
    "print(classification_report(y_train,pred_train))"
   ]
  },
  {
   "cell_type": "code",
   "execution_count": null,
   "id": "bed9f8cb",
   "metadata": {},
   "outputs": [],
   "source": []
  },
  {
   "cell_type": "markdown",
   "id": "f23f1ece",
   "metadata": {},
   "source": [
    "XGBoost with hyperparameter optimization"
   ]
  },
  {
   "cell_type": "code",
   "execution_count": 82,
   "id": "fd413c8d",
   "metadata": {},
   "outputs": [],
   "source": [
    "xg_boost = xgboost.XGBClassifier()"
   ]
  },
  {
   "cell_type": "code",
   "execution_count": 84,
   "id": "b5680a55",
   "metadata": {},
   "outputs": [],
   "source": [
    "params={\n",
    " \"learning_rate\"    : [0.05, 0.10, 0.15, 0.20, 0.25, 0.30 ] ,\n",
    " \"max_depth\"        : [ 3, 4, 5, 6, 8, 10, 12, 15],\n",
    " \"min_child_weight\" : [ 1, 3, 5, 7 ],\n",
    " \"gamma\"            : [ 0.0, 0.1, 0.2 , 0.3, 0.4 ],\n",
    " \"colsample_bytree\" : [ 0.3, 0.4, 0.5 , 0.7 ]\n",
    "    \n",
    "}"
   ]
  },
  {
   "cell_type": "code",
   "execution_count": 85,
   "id": "e2b0006f",
   "metadata": {},
   "outputs": [],
   "source": [
    "XG_randcv=RandomizedSearchCV(xg_boost,param_distributions=params,\n",
    "                             n_iter=5,\n",
    "                             scoring='roc_auc',\n",
    "                             n_jobs=-1,cv=5,\n",
    "                             verbose=3)"
   ]
  },
  {
   "cell_type": "code",
   "execution_count": 93,
   "id": "3bbd97b1",
   "metadata": {},
   "outputs": [
    {
     "name": "stdout",
     "output_type": "stream",
     "text": [
      "Fitting 5 folds for each of 5 candidates, totalling 25 fits\n"
     ]
    },
    {
     "name": "stderr",
     "output_type": "stream",
     "text": [
      "/home/lenovo/anaconda3/lib/python3.9/site-packages/sklearn/model_selection/_validation.py:776: UserWarning: Scoring failed. The score on this train-test partition for these parameters will be set to nan. Details: \n",
      "Traceback (most recent call last):\n",
      "  File \"/home/lenovo/anaconda3/lib/python3.9/site-packages/sklearn/model_selection/_validation.py\", line 767, in _score\n",
      "    scores = scorer(estimator, X_test, y_test)\n",
      "  File \"/home/lenovo/anaconda3/lib/python3.9/site-packages/sklearn/metrics/_scorer.py\", line 219, in __call__\n",
      "    return self._score(\n",
      "  File \"/home/lenovo/anaconda3/lib/python3.9/site-packages/sklearn/metrics/_scorer.py\", line 352, in _score\n",
      "    raise ValueError(\"{0} format is not supported\".format(y_type))\n",
      "ValueError: multiclass format is not supported\n",
      "\n",
      "  warnings.warn(\n",
      "/home/lenovo/anaconda3/lib/python3.9/site-packages/sklearn/model_selection/_validation.py:776: UserWarning: Scoring failed. The score on this train-test partition for these parameters will be set to nan. Details: \n",
      "Traceback (most recent call last):\n",
      "  File \"/home/lenovo/anaconda3/lib/python3.9/site-packages/sklearn/model_selection/_validation.py\", line 767, in _score\n",
      "    scores = scorer(estimator, X_test, y_test)\n",
      "  File \"/home/lenovo/anaconda3/lib/python3.9/site-packages/sklearn/metrics/_scorer.py\", line 219, in __call__\n",
      "    return self._score(\n",
      "  File \"/home/lenovo/anaconda3/lib/python3.9/site-packages/sklearn/metrics/_scorer.py\", line 352, in _score\n",
      "    raise ValueError(\"{0} format is not supported\".format(y_type))\n",
      "ValueError: multiclass format is not supported\n",
      "\n",
      "  warnings.warn(\n",
      "/home/lenovo/anaconda3/lib/python3.9/site-packages/sklearn/model_selection/_validation.py:776: UserWarning: Scoring failed. The score on this train-test partition for these parameters will be set to nan. Details: \n",
      "Traceback (most recent call last):\n",
      "  File \"/home/lenovo/anaconda3/lib/python3.9/site-packages/sklearn/model_selection/_validation.py\", line 767, in _score\n",
      "    scores = scorer(estimator, X_test, y_test)\n",
      "  File \"/home/lenovo/anaconda3/lib/python3.9/site-packages/sklearn/metrics/_scorer.py\", line 219, in __call__\n",
      "    return self._score(\n",
      "  File \"/home/lenovo/anaconda3/lib/python3.9/site-packages/sklearn/metrics/_scorer.py\", line 352, in _score\n",
      "    raise ValueError(\"{0} format is not supported\".format(y_type))\n",
      "ValueError: multiclass format is not supported\n",
      "\n",
      "  warnings.warn(\n",
      "/home/lenovo/anaconda3/lib/python3.9/site-packages/sklearn/model_selection/_validation.py:776: UserWarning: Scoring failed. The score on this train-test partition for these parameters will be set to nan. Details: \n",
      "Traceback (most recent call last):\n",
      "  File \"/home/lenovo/anaconda3/lib/python3.9/site-packages/sklearn/model_selection/_validation.py\", line 767, in _score\n",
      "    scores = scorer(estimator, X_test, y_test)\n",
      "  File \"/home/lenovo/anaconda3/lib/python3.9/site-packages/sklearn/metrics/_scorer.py\", line 219, in __call__\n",
      "    return self._score(\n",
      "  File \"/home/lenovo/anaconda3/lib/python3.9/site-packages/sklearn/metrics/_scorer.py\", line 352, in _score\n",
      "    raise ValueError(\"{0} format is not supported\".format(y_type))\n",
      "ValueError: multiclass format is not supported\n",
      "\n",
      "  warnings.warn(\n",
      "/home/lenovo/anaconda3/lib/python3.9/site-packages/sklearn/model_selection/_validation.py:776: UserWarning: Scoring failed. The score on this train-test partition for these parameters will be set to nan. Details: \n",
      "Traceback (most recent call last):\n",
      "  File \"/home/lenovo/anaconda3/lib/python3.9/site-packages/sklearn/model_selection/_validation.py\", line 767, in _score\n",
      "    scores = scorer(estimator, X_test, y_test)\n",
      "  File \"/home/lenovo/anaconda3/lib/python3.9/site-packages/sklearn/metrics/_scorer.py\", line 219, in __call__\n",
      "    return self._score(\n",
      "  File \"/home/lenovo/anaconda3/lib/python3.9/site-packages/sklearn/metrics/_scorer.py\", line 352, in _score\n",
      "    raise ValueError(\"{0} format is not supported\".format(y_type))\n",
      "ValueError: multiclass format is not supported\n",
      "\n",
      "  warnings.warn(\n",
      "/home/lenovo/anaconda3/lib/python3.9/site-packages/sklearn/model_selection/_validation.py:776: UserWarning: Scoring failed. The score on this train-test partition for these parameters will be set to nan. Details: \n",
      "Traceback (most recent call last):\n",
      "  File \"/home/lenovo/anaconda3/lib/python3.9/site-packages/sklearn/model_selection/_validation.py\", line 767, in _score\n",
      "    scores = scorer(estimator, X_test, y_test)\n",
      "  File \"/home/lenovo/anaconda3/lib/python3.9/site-packages/sklearn/metrics/_scorer.py\", line 219, in __call__\n",
      "    return self._score(\n",
      "  File \"/home/lenovo/anaconda3/lib/python3.9/site-packages/sklearn/metrics/_scorer.py\", line 352, in _score\n",
      "    raise ValueError(\"{0} format is not supported\".format(y_type))\n",
      "ValueError: multiclass format is not supported\n",
      "\n",
      "  warnings.warn(\n",
      "/home/lenovo/anaconda3/lib/python3.9/site-packages/sklearn/model_selection/_validation.py:776: UserWarning: Scoring failed. The score on this train-test partition for these parameters will be set to nan. Details: \n",
      "Traceback (most recent call last):\n",
      "  File \"/home/lenovo/anaconda3/lib/python3.9/site-packages/sklearn/model_selection/_validation.py\", line 767, in _score\n",
      "    scores = scorer(estimator, X_test, y_test)\n",
      "  File \"/home/lenovo/anaconda3/lib/python3.9/site-packages/sklearn/metrics/_scorer.py\", line 219, in __call__\n",
      "    return self._score(\n",
      "  File \"/home/lenovo/anaconda3/lib/python3.9/site-packages/sklearn/metrics/_scorer.py\", line 352, in _score\n",
      "    raise ValueError(\"{0} format is not supported\".format(y_type))\n",
      "ValueError: multiclass format is not supported\n",
      "\n",
      "  warnings.warn(\n",
      "/home/lenovo/anaconda3/lib/python3.9/site-packages/sklearn/model_selection/_validation.py:776: UserWarning: Scoring failed. The score on this train-test partition for these parameters will be set to nan. Details: \n",
      "Traceback (most recent call last):\n",
      "  File \"/home/lenovo/anaconda3/lib/python3.9/site-packages/sklearn/model_selection/_validation.py\", line 767, in _score\n",
      "    scores = scorer(estimator, X_test, y_test)\n",
      "  File \"/home/lenovo/anaconda3/lib/python3.9/site-packages/sklearn/metrics/_scorer.py\", line 219, in __call__\n",
      "    return self._score(\n",
      "  File \"/home/lenovo/anaconda3/lib/python3.9/site-packages/sklearn/metrics/_scorer.py\", line 352, in _score\n",
      "    raise ValueError(\"{0} format is not supported\".format(y_type))\n",
      "ValueError: multiclass format is not supported\n",
      "\n",
      "  warnings.warn(\n",
      "/home/lenovo/anaconda3/lib/python3.9/site-packages/sklearn/model_selection/_validation.py:776: UserWarning: Scoring failed. The score on this train-test partition for these parameters will be set to nan. Details: \n",
      "Traceback (most recent call last):\n",
      "  File \"/home/lenovo/anaconda3/lib/python3.9/site-packages/sklearn/model_selection/_validation.py\", line 767, in _score\n",
      "    scores = scorer(estimator, X_test, y_test)\n",
      "  File \"/home/lenovo/anaconda3/lib/python3.9/site-packages/sklearn/metrics/_scorer.py\", line 219, in __call__\n",
      "    return self._score(\n",
      "  File \"/home/lenovo/anaconda3/lib/python3.9/site-packages/sklearn/metrics/_scorer.py\", line 352, in _score\n",
      "    raise ValueError(\"{0} format is not supported\".format(y_type))\n",
      "ValueError: multiclass format is not supported\n",
      "\n",
      "  warnings.warn(\n",
      "/home/lenovo/anaconda3/lib/python3.9/site-packages/sklearn/model_selection/_validation.py:776: UserWarning: Scoring failed. The score on this train-test partition for these parameters will be set to nan. Details: \n",
      "Traceback (most recent call last):\n",
      "  File \"/home/lenovo/anaconda3/lib/python3.9/site-packages/sklearn/model_selection/_validation.py\", line 767, in _score\n",
      "    scores = scorer(estimator, X_test, y_test)\n",
      "  File \"/home/lenovo/anaconda3/lib/python3.9/site-packages/sklearn/metrics/_scorer.py\", line 219, in __call__\n",
      "    return self._score(\n",
      "  File \"/home/lenovo/anaconda3/lib/python3.9/site-packages/sklearn/metrics/_scorer.py\", line 352, in _score\n",
      "    raise ValueError(\"{0} format is not supported\".format(y_type))\n",
      "ValueError: multiclass format is not supported\n",
      "\n",
      "  warnings.warn(\n",
      "/home/lenovo/anaconda3/lib/python3.9/site-packages/sklearn/model_selection/_validation.py:776: UserWarning: Scoring failed. The score on this train-test partition for these parameters will be set to nan. Details: \n",
      "Traceback (most recent call last):\n",
      "  File \"/home/lenovo/anaconda3/lib/python3.9/site-packages/sklearn/model_selection/_validation.py\", line 767, in _score\n",
      "    scores = scorer(estimator, X_test, y_test)\n",
      "  File \"/home/lenovo/anaconda3/lib/python3.9/site-packages/sklearn/metrics/_scorer.py\", line 219, in __call__\n",
      "    return self._score(\n",
      "  File \"/home/lenovo/anaconda3/lib/python3.9/site-packages/sklearn/metrics/_scorer.py\", line 352, in _score\n",
      "    raise ValueError(\"{0} format is not supported\".format(y_type))\n",
      "ValueError: multiclass format is not supported\n",
      "\n",
      "  warnings.warn(\n"
     ]
    },
    {
     "name": "stderr",
     "output_type": "stream",
     "text": [
      "/home/lenovo/anaconda3/lib/python3.9/site-packages/sklearn/model_selection/_validation.py:776: UserWarning: Scoring failed. The score on this train-test partition for these parameters will be set to nan. Details: \n",
      "Traceback (most recent call last):\n",
      "  File \"/home/lenovo/anaconda3/lib/python3.9/site-packages/sklearn/model_selection/_validation.py\", line 767, in _score\n",
      "    scores = scorer(estimator, X_test, y_test)\n",
      "  File \"/home/lenovo/anaconda3/lib/python3.9/site-packages/sklearn/metrics/_scorer.py\", line 219, in __call__\n",
      "    return self._score(\n",
      "  File \"/home/lenovo/anaconda3/lib/python3.9/site-packages/sklearn/metrics/_scorer.py\", line 352, in _score\n",
      "    raise ValueError(\"{0} format is not supported\".format(y_type))\n",
      "ValueError: multiclass format is not supported\n",
      "\n",
      "  warnings.warn(\n",
      "/home/lenovo/anaconda3/lib/python3.9/site-packages/sklearn/model_selection/_validation.py:776: UserWarning: Scoring failed. The score on this train-test partition for these parameters will be set to nan. Details: \n",
      "Traceback (most recent call last):\n",
      "  File \"/home/lenovo/anaconda3/lib/python3.9/site-packages/sklearn/model_selection/_validation.py\", line 767, in _score\n",
      "    scores = scorer(estimator, X_test, y_test)\n",
      "  File \"/home/lenovo/anaconda3/lib/python3.9/site-packages/sklearn/metrics/_scorer.py\", line 219, in __call__\n",
      "    return self._score(\n",
      "  File \"/home/lenovo/anaconda3/lib/python3.9/site-packages/sklearn/metrics/_scorer.py\", line 352, in _score\n",
      "    raise ValueError(\"{0} format is not supported\".format(y_type))\n",
      "ValueError: multiclass format is not supported\n",
      "\n",
      "  warnings.warn(\n",
      "/home/lenovo/anaconda3/lib/python3.9/site-packages/sklearn/model_selection/_validation.py:776: UserWarning: Scoring failed. The score on this train-test partition for these parameters will be set to nan. Details: \n",
      "Traceback (most recent call last):\n",
      "  File \"/home/lenovo/anaconda3/lib/python3.9/site-packages/sklearn/model_selection/_validation.py\", line 767, in _score\n",
      "    scores = scorer(estimator, X_test, y_test)\n",
      "  File \"/home/lenovo/anaconda3/lib/python3.9/site-packages/sklearn/metrics/_scorer.py\", line 219, in __call__\n",
      "    return self._score(\n",
      "  File \"/home/lenovo/anaconda3/lib/python3.9/site-packages/sklearn/metrics/_scorer.py\", line 352, in _score\n",
      "    raise ValueError(\"{0} format is not supported\".format(y_type))\n",
      "ValueError: multiclass format is not supported\n",
      "\n",
      "  warnings.warn(\n",
      "/home/lenovo/anaconda3/lib/python3.9/site-packages/sklearn/model_selection/_validation.py:776: UserWarning: Scoring failed. The score on this train-test partition for these parameters will be set to nan. Details: \n",
      "Traceback (most recent call last):\n",
      "  File \"/home/lenovo/anaconda3/lib/python3.9/site-packages/sklearn/model_selection/_validation.py\", line 767, in _score\n",
      "    scores = scorer(estimator, X_test, y_test)\n",
      "  File \"/home/lenovo/anaconda3/lib/python3.9/site-packages/sklearn/metrics/_scorer.py\", line 219, in __call__\n",
      "    return self._score(\n",
      "  File \"/home/lenovo/anaconda3/lib/python3.9/site-packages/sklearn/metrics/_scorer.py\", line 352, in _score\n",
      "    raise ValueError(\"{0} format is not supported\".format(y_type))\n",
      "ValueError: multiclass format is not supported\n",
      "\n",
      "  warnings.warn(\n",
      "/home/lenovo/anaconda3/lib/python3.9/site-packages/sklearn/model_selection/_validation.py:776: UserWarning: Scoring failed. The score on this train-test partition for these parameters will be set to nan. Details: \n",
      "Traceback (most recent call last):\n",
      "  File \"/home/lenovo/anaconda3/lib/python3.9/site-packages/sklearn/model_selection/_validation.py\", line 767, in _score\n",
      "    scores = scorer(estimator, X_test, y_test)\n",
      "  File \"/home/lenovo/anaconda3/lib/python3.9/site-packages/sklearn/metrics/_scorer.py\", line 219, in __call__\n",
      "    return self._score(\n",
      "  File \"/home/lenovo/anaconda3/lib/python3.9/site-packages/sklearn/metrics/_scorer.py\", line 352, in _score\n",
      "    raise ValueError(\"{0} format is not supported\".format(y_type))\n",
      "ValueError: multiclass format is not supported\n",
      "\n",
      "  warnings.warn(\n",
      "/home/lenovo/anaconda3/lib/python3.9/site-packages/sklearn/model_selection/_validation.py:776: UserWarning: Scoring failed. The score on this train-test partition for these parameters will be set to nan. Details: \n",
      "Traceback (most recent call last):\n",
      "  File \"/home/lenovo/anaconda3/lib/python3.9/site-packages/sklearn/model_selection/_validation.py\", line 767, in _score\n",
      "    scores = scorer(estimator, X_test, y_test)\n",
      "  File \"/home/lenovo/anaconda3/lib/python3.9/site-packages/sklearn/metrics/_scorer.py\", line 219, in __call__\n",
      "    return self._score(\n",
      "  File \"/home/lenovo/anaconda3/lib/python3.9/site-packages/sklearn/metrics/_scorer.py\", line 352, in _score\n",
      "    raise ValueError(\"{0} format is not supported\".format(y_type))\n",
      "ValueError: multiclass format is not supported\n",
      "\n",
      "  warnings.warn(\n",
      "/home/lenovo/anaconda3/lib/python3.9/site-packages/sklearn/model_selection/_validation.py:776: UserWarning: Scoring failed. The score on this train-test partition for these parameters will be set to nan. Details: \n",
      "Traceback (most recent call last):\n",
      "  File \"/home/lenovo/anaconda3/lib/python3.9/site-packages/sklearn/model_selection/_validation.py\", line 767, in _score\n",
      "    scores = scorer(estimator, X_test, y_test)\n",
      "  File \"/home/lenovo/anaconda3/lib/python3.9/site-packages/sklearn/metrics/_scorer.py\", line 219, in __call__\n",
      "    return self._score(\n",
      "  File \"/home/lenovo/anaconda3/lib/python3.9/site-packages/sklearn/metrics/_scorer.py\", line 352, in _score\n",
      "    raise ValueError(\"{0} format is not supported\".format(y_type))\n",
      "ValueError: multiclass format is not supported\n",
      "\n",
      "  warnings.warn(\n",
      "/home/lenovo/anaconda3/lib/python3.9/site-packages/sklearn/model_selection/_validation.py:776: UserWarning: Scoring failed. The score on this train-test partition for these parameters will be set to nan. Details: \n",
      "Traceback (most recent call last):\n",
      "  File \"/home/lenovo/anaconda3/lib/python3.9/site-packages/sklearn/model_selection/_validation.py\", line 767, in _score\n",
      "    scores = scorer(estimator, X_test, y_test)\n",
      "  File \"/home/lenovo/anaconda3/lib/python3.9/site-packages/sklearn/metrics/_scorer.py\", line 219, in __call__\n",
      "    return self._score(\n",
      "  File \"/home/lenovo/anaconda3/lib/python3.9/site-packages/sklearn/metrics/_scorer.py\", line 352, in _score\n",
      "    raise ValueError(\"{0} format is not supported\".format(y_type))\n",
      "ValueError: multiclass format is not supported\n",
      "\n",
      "  warnings.warn(\n",
      "/home/lenovo/anaconda3/lib/python3.9/site-packages/sklearn/model_selection/_validation.py:776: UserWarning: Scoring failed. The score on this train-test partition for these parameters will be set to nan. Details: \n",
      "Traceback (most recent call last):\n",
      "  File \"/home/lenovo/anaconda3/lib/python3.9/site-packages/sklearn/model_selection/_validation.py\", line 767, in _score\n",
      "    scores = scorer(estimator, X_test, y_test)\n",
      "  File \"/home/lenovo/anaconda3/lib/python3.9/site-packages/sklearn/metrics/_scorer.py\", line 219, in __call__\n",
      "    return self._score(\n",
      "  File \"/home/lenovo/anaconda3/lib/python3.9/site-packages/sklearn/metrics/_scorer.py\", line 352, in _score\n",
      "    raise ValueError(\"{0} format is not supported\".format(y_type))\n",
      "ValueError: multiclass format is not supported\n",
      "\n",
      "  warnings.warn(\n",
      "/home/lenovo/anaconda3/lib/python3.9/site-packages/sklearn/model_selection/_validation.py:776: UserWarning: Scoring failed. The score on this train-test partition for these parameters will be set to nan. Details: \n",
      "Traceback (most recent call last):\n",
      "  File \"/home/lenovo/anaconda3/lib/python3.9/site-packages/sklearn/model_selection/_validation.py\", line 767, in _score\n",
      "    scores = scorer(estimator, X_test, y_test)\n",
      "  File \"/home/lenovo/anaconda3/lib/python3.9/site-packages/sklearn/metrics/_scorer.py\", line 219, in __call__\n",
      "    return self._score(\n",
      "  File \"/home/lenovo/anaconda3/lib/python3.9/site-packages/sklearn/metrics/_scorer.py\", line 352, in _score\n",
      "    raise ValueError(\"{0} format is not supported\".format(y_type))\n",
      "ValueError: multiclass format is not supported\n",
      "\n",
      "  warnings.warn(\n",
      "/home/lenovo/anaconda3/lib/python3.9/site-packages/sklearn/model_selection/_validation.py:776: UserWarning: Scoring failed. The score on this train-test partition for these parameters will be set to nan. Details: \n",
      "Traceback (most recent call last):\n",
      "  File \"/home/lenovo/anaconda3/lib/python3.9/site-packages/sklearn/model_selection/_validation.py\", line 767, in _score\n",
      "    scores = scorer(estimator, X_test, y_test)\n",
      "  File \"/home/lenovo/anaconda3/lib/python3.9/site-packages/sklearn/metrics/_scorer.py\", line 219, in __call__\n",
      "    return self._score(\n",
      "  File \"/home/lenovo/anaconda3/lib/python3.9/site-packages/sklearn/metrics/_scorer.py\", line 352, in _score\n",
      "    raise ValueError(\"{0} format is not supported\".format(y_type))\n",
      "ValueError: multiclass format is not supported\n",
      "\n",
      "  warnings.warn(\n"
     ]
    },
    {
     "name": "stderr",
     "output_type": "stream",
     "text": [
      "/home/lenovo/anaconda3/lib/python3.9/site-packages/sklearn/model_selection/_validation.py:776: UserWarning: Scoring failed. The score on this train-test partition for these parameters will be set to nan. Details: \n",
      "Traceback (most recent call last):\n",
      "  File \"/home/lenovo/anaconda3/lib/python3.9/site-packages/sklearn/model_selection/_validation.py\", line 767, in _score\n",
      "    scores = scorer(estimator, X_test, y_test)\n",
      "  File \"/home/lenovo/anaconda3/lib/python3.9/site-packages/sklearn/metrics/_scorer.py\", line 219, in __call__\n",
      "    return self._score(\n",
      "  File \"/home/lenovo/anaconda3/lib/python3.9/site-packages/sklearn/metrics/_scorer.py\", line 352, in _score\n",
      "    raise ValueError(\"{0} format is not supported\".format(y_type))\n",
      "ValueError: multiclass format is not supported\n",
      "\n",
      "  warnings.warn(\n",
      "/home/lenovo/anaconda3/lib/python3.9/site-packages/sklearn/model_selection/_validation.py:776: UserWarning: Scoring failed. The score on this train-test partition for these parameters will be set to nan. Details: \n",
      "Traceback (most recent call last):\n",
      "  File \"/home/lenovo/anaconda3/lib/python3.9/site-packages/sklearn/model_selection/_validation.py\", line 767, in _score\n",
      "    scores = scorer(estimator, X_test, y_test)\n",
      "  File \"/home/lenovo/anaconda3/lib/python3.9/site-packages/sklearn/metrics/_scorer.py\", line 219, in __call__\n",
      "    return self._score(\n",
      "  File \"/home/lenovo/anaconda3/lib/python3.9/site-packages/sklearn/metrics/_scorer.py\", line 352, in _score\n",
      "    raise ValueError(\"{0} format is not supported\".format(y_type))\n",
      "ValueError: multiclass format is not supported\n",
      "\n",
      "  warnings.warn(\n",
      "/home/lenovo/anaconda3/lib/python3.9/site-packages/sklearn/model_selection/_validation.py:776: UserWarning: Scoring failed. The score on this train-test partition for these parameters will be set to nan. Details: \n",
      "Traceback (most recent call last):\n",
      "  File \"/home/lenovo/anaconda3/lib/python3.9/site-packages/sklearn/model_selection/_validation.py\", line 767, in _score\n",
      "    scores = scorer(estimator, X_test, y_test)\n",
      "  File \"/home/lenovo/anaconda3/lib/python3.9/site-packages/sklearn/metrics/_scorer.py\", line 219, in __call__\n",
      "    return self._score(\n",
      "  File \"/home/lenovo/anaconda3/lib/python3.9/site-packages/sklearn/metrics/_scorer.py\", line 352, in _score\n",
      "    raise ValueError(\"{0} format is not supported\".format(y_type))\n",
      "ValueError: multiclass format is not supported\n",
      "\n",
      "  warnings.warn(\n",
      "/home/lenovo/anaconda3/lib/python3.9/site-packages/sklearn/model_selection/_search.py:953: UserWarning: One or more of the test scores are non-finite: [nan nan nan nan nan]\n",
      "  warnings.warn(\n"
     ]
    },
    {
     "data": {
      "text/html": [
       "<style>#sk-container-id-5 {color: black;background-color: white;}#sk-container-id-5 pre{padding: 0;}#sk-container-id-5 div.sk-toggleable {background-color: white;}#sk-container-id-5 label.sk-toggleable__label {cursor: pointer;display: block;width: 100%;margin-bottom: 0;padding: 0.3em;box-sizing: border-box;text-align: center;}#sk-container-id-5 label.sk-toggleable__label-arrow:before {content: \"▸\";float: left;margin-right: 0.25em;color: #696969;}#sk-container-id-5 label.sk-toggleable__label-arrow:hover:before {color: black;}#sk-container-id-5 div.sk-estimator:hover label.sk-toggleable__label-arrow:before {color: black;}#sk-container-id-5 div.sk-toggleable__content {max-height: 0;max-width: 0;overflow: hidden;text-align: left;background-color: #f0f8ff;}#sk-container-id-5 div.sk-toggleable__content pre {margin: 0.2em;color: black;border-radius: 0.25em;background-color: #f0f8ff;}#sk-container-id-5 input.sk-toggleable__control:checked~div.sk-toggleable__content {max-height: 200px;max-width: 100%;overflow: auto;}#sk-container-id-5 input.sk-toggleable__control:checked~label.sk-toggleable__label-arrow:before {content: \"▾\";}#sk-container-id-5 div.sk-estimator input.sk-toggleable__control:checked~label.sk-toggleable__label {background-color: #d4ebff;}#sk-container-id-5 div.sk-label input.sk-toggleable__control:checked~label.sk-toggleable__label {background-color: #d4ebff;}#sk-container-id-5 input.sk-hidden--visually {border: 0;clip: rect(1px 1px 1px 1px);clip: rect(1px, 1px, 1px, 1px);height: 1px;margin: -1px;overflow: hidden;padding: 0;position: absolute;width: 1px;}#sk-container-id-5 div.sk-estimator {font-family: monospace;background-color: #f0f8ff;border: 1px dotted black;border-radius: 0.25em;box-sizing: border-box;margin-bottom: 0.5em;}#sk-container-id-5 div.sk-estimator:hover {background-color: #d4ebff;}#sk-container-id-5 div.sk-parallel-item::after {content: \"\";width: 100%;border-bottom: 1px solid gray;flex-grow: 1;}#sk-container-id-5 div.sk-label:hover label.sk-toggleable__label {background-color: #d4ebff;}#sk-container-id-5 div.sk-serial::before {content: \"\";position: absolute;border-left: 1px solid gray;box-sizing: border-box;top: 0;bottom: 0;left: 50%;z-index: 0;}#sk-container-id-5 div.sk-serial {display: flex;flex-direction: column;align-items: center;background-color: white;padding-right: 0.2em;padding-left: 0.2em;position: relative;}#sk-container-id-5 div.sk-item {position: relative;z-index: 1;}#sk-container-id-5 div.sk-parallel {display: flex;align-items: stretch;justify-content: center;background-color: white;position: relative;}#sk-container-id-5 div.sk-item::before, #sk-container-id-5 div.sk-parallel-item::before {content: \"\";position: absolute;border-left: 1px solid gray;box-sizing: border-box;top: 0;bottom: 0;left: 50%;z-index: -1;}#sk-container-id-5 div.sk-parallel-item {display: flex;flex-direction: column;z-index: 1;position: relative;background-color: white;}#sk-container-id-5 div.sk-parallel-item:first-child::after {align-self: flex-end;width: 50%;}#sk-container-id-5 div.sk-parallel-item:last-child::after {align-self: flex-start;width: 50%;}#sk-container-id-5 div.sk-parallel-item:only-child::after {width: 0;}#sk-container-id-5 div.sk-dashed-wrapped {border: 1px dashed gray;margin: 0 0.4em 0.5em 0.4em;box-sizing: border-box;padding-bottom: 0.4em;background-color: white;}#sk-container-id-5 div.sk-label label {font-family: monospace;font-weight: bold;display: inline-block;line-height: 1.2em;}#sk-container-id-5 div.sk-label-container {text-align: center;}#sk-container-id-5 div.sk-container {/* jupyter's `normalize.less` sets `[hidden] { display: none; }` but bootstrap.min.css set `[hidden] { display: none !important; }` so we also need the `!important` here to be able to override the default hidden behavior on the sphinx rendered scikit-learn.org. See: https://github.com/scikit-learn/scikit-learn/issues/21755 */display: inline-block !important;position: relative;}#sk-container-id-5 div.sk-text-repr-fallback {display: none;}</style><div id=\"sk-container-id-5\" class=\"sk-top-container\"><div class=\"sk-text-repr-fallback\"><pre>RandomizedSearchCV(cv=5,\n",
       "                   estimator=XGBClassifier(base_score=None, booster=None,\n",
       "                                           callbacks=None,\n",
       "                                           colsample_bylevel=None,\n",
       "                                           colsample_bynode=None,\n",
       "                                           colsample_bytree=None,\n",
       "                                           early_stopping_rounds=None,\n",
       "                                           enable_categorical=False,\n",
       "                                           eval_metric=None, gamma=None,\n",
       "                                           gpu_id=None, grow_policy=None,\n",
       "                                           importance_type=None,\n",
       "                                           interaction_constraints=None,\n",
       "                                           learning_rate=None, max_bin=None,...\n",
       "                                           n_estimators=100, n_jobs=None,\n",
       "                                           num_parallel_tree=None,\n",
       "                                           predictor=None, random_state=None,\n",
       "                                           reg_alpha=None, reg_lambda=None, ...),\n",
       "                   n_iter=5, n_jobs=-1,\n",
       "                   param_distributions={&#x27;colsample_bytree&#x27;: [0.3, 0.4, 0.5,\n",
       "                                                             0.7],\n",
       "                                        &#x27;gamma&#x27;: [0.0, 0.1, 0.2, 0.3, 0.4],\n",
       "                                        &#x27;learning_rate&#x27;: [0.05, 0.1, 0.15, 0.2,\n",
       "                                                          0.25, 0.3],\n",
       "                                        &#x27;max_depth&#x27;: [3, 4, 5, 6, 8, 10, 12,\n",
       "                                                      15],\n",
       "                                        &#x27;min_child_weight&#x27;: [1, 3, 5, 7]},\n",
       "                   scoring=&#x27;roc_auc&#x27;, verbose=3)</pre><b>In a Jupyter environment, please rerun this cell to show the HTML representation or trust the notebook. <br />On GitHub, the HTML representation is unable to render, please try loading this page with nbviewer.org.</b></div><div class=\"sk-container\" hidden><div class=\"sk-item sk-dashed-wrapped\"><div class=\"sk-label-container\"><div class=\"sk-label sk-toggleable\"><input class=\"sk-toggleable__control sk-hidden--visually\" id=\"sk-estimator-id-9\" type=\"checkbox\" ><label for=\"sk-estimator-id-9\" class=\"sk-toggleable__label sk-toggleable__label-arrow\">RandomizedSearchCV</label><div class=\"sk-toggleable__content\"><pre>RandomizedSearchCV(cv=5,\n",
       "                   estimator=XGBClassifier(base_score=None, booster=None,\n",
       "                                           callbacks=None,\n",
       "                                           colsample_bylevel=None,\n",
       "                                           colsample_bynode=None,\n",
       "                                           colsample_bytree=None,\n",
       "                                           early_stopping_rounds=None,\n",
       "                                           enable_categorical=False,\n",
       "                                           eval_metric=None, gamma=None,\n",
       "                                           gpu_id=None, grow_policy=None,\n",
       "                                           importance_type=None,\n",
       "                                           interaction_constraints=None,\n",
       "                                           learning_rate=None, max_bin=None,...\n",
       "                                           n_estimators=100, n_jobs=None,\n",
       "                                           num_parallel_tree=None,\n",
       "                                           predictor=None, random_state=None,\n",
       "                                           reg_alpha=None, reg_lambda=None, ...),\n",
       "                   n_iter=5, n_jobs=-1,\n",
       "                   param_distributions={&#x27;colsample_bytree&#x27;: [0.3, 0.4, 0.5,\n",
       "                                                             0.7],\n",
       "                                        &#x27;gamma&#x27;: [0.0, 0.1, 0.2, 0.3, 0.4],\n",
       "                                        &#x27;learning_rate&#x27;: [0.05, 0.1, 0.15, 0.2,\n",
       "                                                          0.25, 0.3],\n",
       "                                        &#x27;max_depth&#x27;: [3, 4, 5, 6, 8, 10, 12,\n",
       "                                                      15],\n",
       "                                        &#x27;min_child_weight&#x27;: [1, 3, 5, 7]},\n",
       "                   scoring=&#x27;roc_auc&#x27;, verbose=3)</pre></div></div></div><div class=\"sk-parallel\"><div class=\"sk-parallel-item\"><div class=\"sk-item\"><div class=\"sk-label-container\"><div class=\"sk-label sk-toggleable\"><input class=\"sk-toggleable__control sk-hidden--visually\" id=\"sk-estimator-id-10\" type=\"checkbox\" ><label for=\"sk-estimator-id-10\" class=\"sk-toggleable__label sk-toggleable__label-arrow\">estimator: XGBClassifier</label><div class=\"sk-toggleable__content\"><pre>XGBClassifier(base_score=None, booster=None, callbacks=None,\n",
       "              colsample_bylevel=None, colsample_bynode=None,\n",
       "              colsample_bytree=None, early_stopping_rounds=None,\n",
       "              enable_categorical=False, eval_metric=None, gamma=None,\n",
       "              gpu_id=None, grow_policy=None, importance_type=None,\n",
       "              interaction_constraints=None, learning_rate=None, max_bin=None,\n",
       "              max_cat_to_onehot=None, max_delta_step=None, max_depth=None,\n",
       "              max_leaves=None, min_child_weight=None, missing=nan,\n",
       "              monotone_constraints=None, n_estimators=100, n_jobs=None,\n",
       "              num_parallel_tree=None, predictor=None, random_state=None,\n",
       "              reg_alpha=None, reg_lambda=None, ...)</pre></div></div></div><div class=\"sk-serial\"><div class=\"sk-item\"><div class=\"sk-estimator sk-toggleable\"><input class=\"sk-toggleable__control sk-hidden--visually\" id=\"sk-estimator-id-11\" type=\"checkbox\" ><label for=\"sk-estimator-id-11\" class=\"sk-toggleable__label sk-toggleable__label-arrow\">XGBClassifier</label><div class=\"sk-toggleable__content\"><pre>XGBClassifier(base_score=None, booster=None, callbacks=None,\n",
       "              colsample_bylevel=None, colsample_bynode=None,\n",
       "              colsample_bytree=None, early_stopping_rounds=None,\n",
       "              enable_categorical=False, eval_metric=None, gamma=None,\n",
       "              gpu_id=None, grow_policy=None, importance_type=None,\n",
       "              interaction_constraints=None, learning_rate=None, max_bin=None,\n",
       "              max_cat_to_onehot=None, max_delta_step=None, max_depth=None,\n",
       "              max_leaves=None, min_child_weight=None, missing=nan,\n",
       "              monotone_constraints=None, n_estimators=100, n_jobs=None,\n",
       "              num_parallel_tree=None, predictor=None, random_state=None,\n",
       "              reg_alpha=None, reg_lambda=None, ...)</pre></div></div></div></div></div></div></div></div></div></div>"
      ],
      "text/plain": [
       "RandomizedSearchCV(cv=5,\n",
       "                   estimator=XGBClassifier(base_score=None, booster=None,\n",
       "                                           callbacks=None,\n",
       "                                           colsample_bylevel=None,\n",
       "                                           colsample_bynode=None,\n",
       "                                           colsample_bytree=None,\n",
       "                                           early_stopping_rounds=None,\n",
       "                                           enable_categorical=False,\n",
       "                                           eval_metric=None, gamma=None,\n",
       "                                           gpu_id=None, grow_policy=None,\n",
       "                                           importance_type=None,\n",
       "                                           interaction_constraints=None,\n",
       "                                           learning_rate=None, max_bin=None,...\n",
       "                                           n_estimators=100, n_jobs=None,\n",
       "                                           num_parallel_tree=None,\n",
       "                                           predictor=None, random_state=None,\n",
       "                                           reg_alpha=None, reg_lambda=None, ...),\n",
       "                   n_iter=5, n_jobs=-1,\n",
       "                   param_distributions={'colsample_bytree': [0.3, 0.4, 0.5,\n",
       "                                                             0.7],\n",
       "                                        'gamma': [0.0, 0.1, 0.2, 0.3, 0.4],\n",
       "                                        'learning_rate': [0.05, 0.1, 0.15, 0.2,\n",
       "                                                          0.25, 0.3],\n",
       "                                        'max_depth': [3, 4, 5, 6, 8, 10, 12,\n",
       "                                                      15],\n",
       "                                        'min_child_weight': [1, 3, 5, 7]},\n",
       "                   scoring='roc_auc', verbose=3)"
      ]
     },
     "execution_count": 93,
     "metadata": {},
     "output_type": "execute_result"
    },
    {
     "name": "stdout",
     "output_type": "stream",
     "text": [
      "[CV 3/5] END colsample_bytree=0.7, gamma=0.4, learning_rate=0.3, max_depth=12, min_child_weight=5;, score=nan total time=   0.0s\n",
      "[CV 3/5] END colsample_bytree=0.4, gamma=0.3, learning_rate=0.2, max_depth=3, min_child_weight=3;, score=nan total time=   0.1s\n",
      "[CV 1/5] END colsample_bytree=0.3, gamma=0.0, learning_rate=0.2, max_depth=5, min_child_weight=3;, score=nan total time=   0.1s\n",
      "[CV 2/5] END colsample_bytree=0.5, gamma=0.3, learning_rate=0.15, max_depth=4, min_child_weight=3;, score=nan total time=   0.1s\n",
      "[CV 1/5] END colsample_bytree=0.5, gamma=0.4, learning_rate=0.25, max_depth=3, min_child_weight=5;, score=nan total time=  52.7s\n",
      "[CV 4/5] END colsample_bytree=0.5, gamma=0.4, learning_rate=0.25, max_depth=3, min_child_weight=5;, score=nan total time=  52.9s\n",
      "[CV 3/5] END colsample_bytree=0.4, gamma=0.3, learning_rate=0.2, max_depth=10, min_child_weight=5;, score=nan total time= 2.3min\n",
      "[CV 1/5] END colsample_bytree=0.7, gamma=0.4, learning_rate=0.3, max_depth=12, min_child_weight=5;, score=nan total time=   0.1s\n",
      "[CV 1/5] END colsample_bytree=0.3, gamma=0.0, learning_rate=0.15, max_depth=3, min_child_weight=3;, score=nan total time=   0.1s\n",
      "[CV 3/5] END colsample_bytree=0.5, gamma=0.3, learning_rate=0.3, max_depth=10, min_child_weight=1;, score=nan total time=   0.1s\n",
      "[CV 1/5] END colsample_bytree=0.5, gamma=0.1, learning_rate=0.1, max_depth=12, min_child_weight=5;, score=nan total time=   0.0s\n",
      "[CV 2/5] END colsample_bytree=0.3, gamma=0.0, learning_rate=0.2, max_depth=5, min_child_weight=3;, score=nan total time=   0.1s\n",
      "[CV 4/5] END colsample_bytree=0.5, gamma=0.3, learning_rate=0.15, max_depth=4, min_child_weight=3;, score=nan total time=   0.0s\n",
      "[CV 5/5] END colsample_bytree=0.4, gamma=0.4, learning_rate=0.1, max_depth=4, min_child_weight=7;, score=nan total time=  57.1s\n",
      "[CV 4/5] END colsample_bytree=0.7, gamma=0.2, learning_rate=0.2, max_depth=8, min_child_weight=7;, score=nan total time= 2.9min\n",
      "[CV 1/5] END colsample_bytree=0.4, gamma=0.0, learning_rate=0.3, max_depth=3, min_child_weight=1;, score=nan total time=  38.9s\n",
      "[CV 1/5] END colsample_bytree=0.3, gamma=0.1, learning_rate=0.1, max_depth=4, min_child_weight=1;, score=nan total time=   0.1s\n",
      "[CV 4/5] END colsample_bytree=0.7, gamma=0.4, learning_rate=0.3, max_depth=12, min_child_weight=5;, score=nan total time=   0.1s\n",
      "[CV 1/5] END colsample_bytree=0.5, gamma=0.1, learning_rate=0.1, max_depth=6, min_child_weight=1;, score=nan total time=   0.1s\n",
      "[CV 1/5] END colsample_bytree=0.7, gamma=0.1, learning_rate=0.1, max_depth=12, min_child_weight=5;, score=nan total time=   0.1s\n",
      "[CV 2/5] END colsample_bytree=0.3, gamma=0.0, learning_rate=0.15, max_depth=3, min_child_weight=3;, score=nan total time=   0.1s\n",
      "[CV 4/5] END colsample_bytree=0.5, gamma=0.3, learning_rate=0.3, max_depth=10, min_child_weight=1;, score=nan total time=   0.1s\n",
      "[CV 5/5] END colsample_bytree=0.4, gamma=0.3, learning_rate=0.2, max_depth=3, min_child_weight=3;, score=nan total time=   0.1s\n",
      "[CV 3/5] END colsample_bytree=0.3, gamma=0.0, learning_rate=0.2, max_depth=5, min_child_weight=3;, score=nan total time=   0.1s\n",
      "[CV 1/5] END colsample_bytree=0.4, gamma=0.4, learning_rate=0.1, max_depth=4, min_child_weight=7;, score=nan total time=  56.1s\n",
      "[CV 3/5] END colsample_bytree=0.7, gamma=0.2, learning_rate=0.2, max_depth=8, min_child_weight=7;, score=nan total time= 3.0min\n",
      "[CV 3/5] END colsample_bytree=0.4, gamma=0.0, learning_rate=0.3, max_depth=3, min_child_weight=1;, score=nan total time=  38.3s\n",
      "[CV 4/5] END colsample_bytree=0.3, gamma=0.1, learning_rate=0.1, max_depth=4, min_child_weight=1;, score=nan total time=   0.1s\n",
      "[CV 2/5] END colsample_bytree=0.5, gamma=0.1, learning_rate=0.1, max_depth=6, min_child_weight=1;, score=nan total time=   0.1s\n",
      "[CV 2/5] END colsample_bytree=0.7, gamma=0.1, learning_rate=0.1, max_depth=12, min_child_weight=5;, score=nan total time=   0.1s\n",
      "[CV 3/5] END colsample_bytree=0.3, gamma=0.0, learning_rate=0.15, max_depth=3, min_child_weight=3;, score=nan total time=   0.1s\n",
      "[CV 1/5] END colsample_bytree=0.4, gamma=0.3, learning_rate=0.2, max_depth=3, min_child_weight=3;, score=nan total time=   0.0s\n",
      "[CV 3/5] END colsample_bytree=0.5, gamma=0.1, learning_rate=0.1, max_depth=12, min_child_weight=5;, score=nan total time=   0.1s\n",
      "[CV 5/5] END colsample_bytree=0.3, gamma=0.0, learning_rate=0.2, max_depth=5, min_child_weight=3;, score=nan total time=   0.0s\n",
      "[CV 2/5] END colsample_bytree=0.4, gamma=0.4, learning_rate=0.1, max_depth=4, min_child_weight=7;, score=nan total time=  55.8s\n",
      "[CV 2/5] END colsample_bytree=0.7, gamma=0.2, learning_rate=0.2, max_depth=8, min_child_weight=7;, score=nan total time= 3.0min\n",
      "[CV 2/5] END colsample_bytree=0.4, gamma=0.0, learning_rate=0.3, max_depth=3, min_child_weight=1;, score=nan total time=  40.1s\n",
      "[CV 2/5] END colsample_bytree=0.7, gamma=0.4, learning_rate=0.3, max_depth=12, min_child_weight=5;, score=nan total time=   0.1s\n",
      "[CV 1/5] END colsample_bytree=0.5, gamma=0.3, learning_rate=0.3, max_depth=10, min_child_weight=1;, score=nan total time=   0.0s\n",
      "[CV 4/5] END colsample_bytree=0.4, gamma=0.3, learning_rate=0.2, max_depth=3, min_child_weight=3;, score=nan total time=   0.1s\n",
      "[CV 4/5] END colsample_bytree=0.3, gamma=0.0, learning_rate=0.2, max_depth=5, min_child_weight=3;, score=nan total time=   0.1s\n",
      "[CV 3/5] END colsample_bytree=0.4, gamma=0.4, learning_rate=0.1, max_depth=4, min_child_weight=7;, score=nan total time=  57.2s\n",
      "[CV 5/5] END colsample_bytree=0.7, gamma=0.2, learning_rate=0.2, max_depth=8, min_child_weight=7;, score=nan total time= 3.0min\n",
      "[CV 4/5] END colsample_bytree=0.4, gamma=0.0, learning_rate=0.3, max_depth=3, min_child_weight=1;, score=nan total time=  39.6s\n",
      "[CV 5/5] END colsample_bytree=0.3, gamma=0.1, learning_rate=0.1, max_depth=4, min_child_weight=1;, score=nan total time=   0.1s\n",
      "[CV 5/5] END colsample_bytree=0.5, gamma=0.1, learning_rate=0.1, max_depth=6, min_child_weight=1;, score=nan total time=   0.0s\n",
      "[CV 4/5] END colsample_bytree=0.7, gamma=0.1, learning_rate=0.1, max_depth=12, min_child_weight=5;, score=nan total time=   0.1s\n",
      "[CV 5/5] END colsample_bytree=0.3, gamma=0.0, learning_rate=0.15, max_depth=3, min_child_weight=3;, score=nan total time=   0.0s\n",
      "[CV 2/5] END colsample_bytree=0.4, gamma=0.3, learning_rate=0.2, max_depth=3, min_child_weight=3;, score=nan total time=   0.1s\n",
      "[CV 5/5] END colsample_bytree=0.5, gamma=0.1, learning_rate=0.1, max_depth=12, min_child_weight=5;, score=nan total time=   0.1s\n",
      "[CV 3/5] END colsample_bytree=0.5, gamma=0.3, learning_rate=0.15, max_depth=4, min_child_weight=3;, score=nan total time=   0.0s\n",
      "[CV 2/5] END colsample_bytree=0.5, gamma=0.4, learning_rate=0.25, max_depth=3, min_child_weight=5;, score=nan total time=  52.9s\n",
      "[CV 5/5] END colsample_bytree=0.5, gamma=0.4, learning_rate=0.25, max_depth=3, min_child_weight=5;, score=nan total time=  52.1s\n",
      "[CV 2/5] END colsample_bytree=0.4, gamma=0.3, learning_rate=0.2, max_depth=10, min_child_weight=5;, score=nan total time= 2.2min\n",
      "[CV 5/5] END colsample_bytree=0.4, gamma=0.0, learning_rate=0.3, max_depth=3, min_child_weight=1;, score=nan total time=  36.5s\n",
      "[CV 3/5] END colsample_bytree=0.3, gamma=0.1, learning_rate=0.1, max_depth=4, min_child_weight=1;, score=nan total time=   0.1s\n",
      "[CV 5/5] END colsample_bytree=0.7, gamma=0.4, learning_rate=0.3, max_depth=12, min_child_weight=5;, score=nan total time=   0.1s\n",
      "[CV 4/5] END colsample_bytree=0.5, gamma=0.1, learning_rate=0.1, max_depth=6, min_child_weight=1;, score=nan total time=   0.1s\n",
      "[CV 5/5] END colsample_bytree=0.7, gamma=0.1, learning_rate=0.1, max_depth=12, min_child_weight=5;, score=nan total time=   0.1s\n",
      "[CV 2/5] END colsample_bytree=0.5, gamma=0.3, learning_rate=0.3, max_depth=10, min_child_weight=1;, score=nan total time=   0.1s\n",
      "[CV 2/5] END colsample_bytree=0.5, gamma=0.1, learning_rate=0.1, max_depth=12, min_child_weight=5;, score=nan total time=   0.1s\n",
      "[CV 1/5] END colsample_bytree=0.5, gamma=0.3, learning_rate=0.15, max_depth=4, min_child_weight=3;, score=nan total time=   0.1s\n",
      "[CV 4/5] END colsample_bytree=0.4, gamma=0.4, learning_rate=0.1, max_depth=4, min_child_weight=7;, score=nan total time=  58.3s\n",
      "[CV 1/5] END colsample_bytree=0.4, gamma=0.3, learning_rate=0.2, max_depth=10, min_child_weight=5;, score=nan total time= 2.2min\n",
      "[CV 4/5] END colsample_bytree=0.4, gamma=0.3, learning_rate=0.2, max_depth=10, min_child_weight=5;, score=nan total time= 1.6min\n"
     ]
    },
    {
     "name": "stdout",
     "output_type": "stream",
     "text": [
      "[CV 2/5] END colsample_bytree=0.3, gamma=0.1, learning_rate=0.1, max_depth=4, min_child_weight=1;, score=nan total time=   0.1s\n",
      "[CV 3/5] END colsample_bytree=0.5, gamma=0.1, learning_rate=0.1, max_depth=6, min_child_weight=1;, score=nan total time=   0.1s\n",
      "[CV 3/5] END colsample_bytree=0.7, gamma=0.1, learning_rate=0.1, max_depth=12, min_child_weight=5;, score=nan total time=   0.1s\n",
      "[CV 4/5] END colsample_bytree=0.3, gamma=0.0, learning_rate=0.15, max_depth=3, min_child_weight=3;, score=nan total time=   0.0s\n",
      "[CV 5/5] END colsample_bytree=0.5, gamma=0.3, learning_rate=0.3, max_depth=10, min_child_weight=1;, score=nan total time=   0.1s\n",
      "[CV 4/5] END colsample_bytree=0.5, gamma=0.1, learning_rate=0.1, max_depth=12, min_child_weight=5;, score=nan total time=   0.1s\n",
      "[CV 5/5] END colsample_bytree=0.5, gamma=0.3, learning_rate=0.15, max_depth=4, min_child_weight=3;, score=nan total time=   0.0s\n",
      "[CV 3/5] END colsample_bytree=0.5, gamma=0.4, learning_rate=0.25, max_depth=3, min_child_weight=5;, score=nan total time=  53.5s\n",
      "[CV 1/5] END colsample_bytree=0.7, gamma=0.2, learning_rate=0.2, max_depth=8, min_child_weight=7;, score=nan total time= 3.0min\n",
      "[CV 5/5] END colsample_bytree=0.4, gamma=0.3, learning_rate=0.2, max_depth=10, min_child_weight=5;, score=nan total time= 1.3min\n"
     ]
    }
   ],
   "source": [
    "XG_randcv.fit(X_train, y_train)"
   ]
  },
  {
   "cell_type": "code",
   "execution_count": 94,
   "id": "ef9b92bd",
   "metadata": {},
   "outputs": [
    {
     "name": "stdout",
     "output_type": "stream",
     "text": [
      "Accuracy Train: 0.8925130024593799\n",
      "              precision    recall  f1-score   support\n",
      "\n",
      "           0       0.89      1.00      0.94     42745\n",
      "           1       0.84      0.03      0.05      3014\n",
      "           2       0.89      0.40      0.55      3847\n",
      "\n",
      "    accuracy                           0.89     49606\n",
      "   macro avg       0.87      0.47      0.51     49606\n",
      "weighted avg       0.89      0.89      0.86     49606\n",
      "\n"
     ]
    }
   ],
   "source": [
    "pred_train = XG_randcv.predict(X_train)\n",
    "print(\"Accuracy Train: {}\".format(accuracy_score(y_train,pred_train)))\n",
    "print(classification_report(y_train,pred_train))"
   ]
  },
  {
   "cell_type": "code",
   "execution_count": 95,
   "id": "d2dc2c5d",
   "metadata": {},
   "outputs": [
    {
     "name": "stdout",
     "output_type": "stream",
     "text": [
      "Accuracy Train: 0.8846244297069752\n",
      "              precision    recall  f1-score   support\n",
      "\n",
      "           0       0.89      1.00      0.94     18243\n",
      "           1       0.45      0.01      0.02      1336\n",
      "           2       0.85      0.36      0.51      1682\n",
      "\n",
      "    accuracy                           0.88     21261\n",
      "   macro avg       0.73      0.46      0.49     21261\n",
      "weighted avg       0.86      0.88      0.85     21261\n",
      "\n"
     ]
    }
   ],
   "source": [
    "pred_test = XG_randcv.predict(X_test)\n",
    "print(\"Accuracy Train: {}\".format(accuracy_score(y_test,pred_test)))\n",
    "print(classification_report(y_test,pred_test))"
   ]
  },
  {
   "cell_type": "code",
   "execution_count": null,
   "id": "177e206f",
   "metadata": {},
   "outputs": [],
   "source": []
  },
  {
   "cell_type": "code",
   "execution_count": null,
   "id": "b080ddc2",
   "metadata": {},
   "outputs": [],
   "source": []
  },
  {
   "cell_type": "code",
   "execution_count": 41,
   "id": "ccb44fd2",
   "metadata": {},
   "outputs": [],
   "source": [
    "TEST_REVIEW = \"Good product, so excited to use it\"\n",
    "\n",
    "train = []\n",
    "REV = TEST_REVIEW\n",
    "tok = word_tokenize(REV)\n",
    "lemmatizer = WordNetLemmatizer()\n",
    "stop_words = list(stopwords.words('english'))\n",
    "REV_new = \"\"\n",
    "\n",
    "for word in tok:\n",
    "    if word not in string.punctuation and word not in stop_words:\n",
    "        lematized_word = lemmatizer.lemmatize(word) \n",
    "        if len(lematized_word) > 2:\n",
    "            REV_new += lematized_word + \" \"\n",
    "train += [REV_new.rstrip()]"
   ]
  },
  {
   "cell_type": "code",
   "execution_count": 83,
   "id": "f936fb4a",
   "metadata": {},
   "outputs": [],
   "source": [
    "voc = tfidf.fit_transform(train)"
   ]
  },
  {
   "cell_type": "code",
   "execution_count": 101,
   "id": "450da6f5",
   "metadata": {},
   "outputs": [],
   "source": []
  },
  {
   "cell_type": "code",
   "execution_count": 99,
   "id": "a7af5b74",
   "metadata": {},
   "outputs": [
    {
     "data": {
      "text/plain": [
       "array(array(<1x4 sparse matrix of type '<class 'numpy.float64'>'\n",
       "\twith 4 stored elements in Compressed Sparse Row format>, dtype=object),\n",
       "      dtype=object)"
      ]
     },
     "execution_count": 99,
     "metadata": {},
     "output_type": "execute_result"
    }
   ],
   "source": []
  },
  {
   "cell_type": "code",
   "execution_count": null,
   "id": "0440ca38",
   "metadata": {},
   "outputs": [],
   "source": []
  },
  {
   "cell_type": "code",
   "execution_count": null,
   "id": "8d2a5dde",
   "metadata": {},
   "outputs": [],
   "source": []
  },
  {
   "cell_type": "code",
   "execution_count": null,
   "id": "7550f0ea",
   "metadata": {},
   "outputs": [],
   "source": []
  },
  {
   "cell_type": "code",
   "execution_count": null,
   "id": "21dd3663",
   "metadata": {},
   "outputs": [],
   "source": []
  },
  {
   "cell_type": "code",
   "execution_count": 120,
   "id": "ffa9ae32",
   "metadata": {},
   "outputs": [
    {
     "name": "stdout",
     "output_type": "stream",
     "text": [
      "Python 3.9.7\r\n"
     ]
    }
   ],
   "source": []
  },
  {
   "cell_type": "code",
   "execution_count": null,
   "id": "d727aa1a",
   "metadata": {},
   "outputs": [],
   "source": []
  }
 ],
 "metadata": {
  "kernelspec": {
   "display_name": "Python 3 (ipykernel)",
   "language": "python",
   "name": "python3"
  },
  "language_info": {
   "codemirror_mode": {
    "name": "ipython",
    "version": 3
   },
   "file_extension": ".py",
   "mimetype": "text/x-python",
   "name": "python",
   "nbconvert_exporter": "python",
   "pygments_lexer": "ipython3",
   "version": "3.9.7"
  }
 },
 "nbformat": 4,
 "nbformat_minor": 5
}
